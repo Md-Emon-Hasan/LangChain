{
  "cells": [
    {
      "cell_type": "markdown",
      "metadata": {},
      "source": [
        "# ***Install Required Libraries***\n",
        "* The following packages are essential for working with LangChain and Hugging Face models\n",
        "* langchain: Main framework for building AI applications\n",
        "* langchain_community: Community-maintained components\n",
        "* huggingface_hub: Interface for Hugging Face's model repository"
      ]
    },
    {
      "cell_type": "code",
      "execution_count": 55,
      "metadata": {
        "id": "5x5rACEQQuDw"
      },
      "outputs": [],
      "source": [
        "# Import necessary modules from the installed packages\n",
        "import langchain\n",
        "import langchain_community\n",
        "import huggingface_hub"
      ]
    },
    {
      "cell_type": "code",
      "execution_count": null,
      "metadata": {},
      "outputs": [],
      "source": [
        "import os"
      ]
    },
    {
      "cell_type": "code",
      "execution_count": 3,
      "metadata": {
        "id": "WImsgFJDRTmz"
      },
      "outputs": [],
      "source": [
        "import os"
      ]
    },
    {
      "cell_type": "markdown",
      "metadata": {},
      "source": [
        " ### ***Set Up API Authentication***"
      ]
    },
    {
      "cell_type": "code",
      "execution_count": 4,
      "metadata": {
        "id": "oiT536UsRX2_"
      },
      "outputs": [],
      "source": [
        "# Set Hugging Face API Token\n",
        "os.environ[\"HUGGINGFACEHUB_API_TOKEN\"] = \"\""
      ]
    },
    {
      "cell_type": "code",
      "execution_count": 5,
      "metadata": {
        "id": "5RWObihtRbKo"
      },
      "outputs": [],
      "source": [
        "from langchain import HuggingFaceHub"
      ]
    },
    {
      "cell_type": "markdown",
      "metadata": {},
      "source": [
        "### ***Initialize Language Model***"
      ]
    },
    {
      "cell_type": "code",
      "execution_count": 6,
      "metadata": {
        "colab": {
          "base_uri": "https://localhost:8080/"
        },
        "id": "KVZFhgRVReov",
        "outputId": "7e6990e1-a494-4c00-be4e-592aba1531e6"
      },
      "outputs": [
        {
          "name": "stderr",
          "output_type": "stream",
          "text": [
            "<ipython-input-6-0f1c937d9e5b>:2: LangChainDeprecationWarning: The class `HuggingFaceHub` was deprecated in LangChain 0.0.21 and will be removed in 1.0. An updated version of the class exists in the :class:`~langchain-huggingface package and should be used instead. To use it run `pip install -U :class:`~langchain-huggingface` and import as `from :class:`~langchain_huggingface import HuggingFaceEndpoint``.\n",
            "  llm = HuggingFaceHub(repo_id=\"google/flan-t5-large\", model_kwargs={\"temperature\": 0, \"max_length\": 64})\n"
          ]
        }
      ],
      "source": [
        "# Create a instance of Hugging Face's FLAN-T5 model\n",
        "# - repo_id: Specifies which model to use\n",
        "# - temperature: Controls randomness (0 = deterministic outputs)\n",
        "# - max_length: Maximum length of generated responses\n",
        "llm = HuggingFaceHub(repo_id=\"google/flan-t5-large\", model_kwargs={\"temperature\": 0, \"max_length\": 64})"
      ]
    },
    {
      "cell_type": "markdown",
      "metadata": {},
      "source": [
        "### ***Basic Model Interaction Examples***"
      ]
    },
    {
      "cell_type": "code",
      "execution_count": 7,
      "metadata": {
        "colab": {
          "base_uri": "https://localhost:8080/"
        },
        "id": "kqTuDj-kRlS2",
        "outputId": "d4932011-8735-4fe9-9439-1d8fba4a908b"
      },
      "outputs": [
        {
          "name": "stdout",
          "output_type": "stream",
          "text": [
            "Wie alte sind Sie?\n"
          ]
        },
        {
          "name": "stderr",
          "output_type": "stream",
          "text": [
            "<ipython-input-7-f359b3c45cf6>:2: LangChainDeprecationWarning: The method `BaseLLM.__call__` was deprecated in langchain-core 0.1.7 and will be removed in 1.0. Use :meth:`~invoke` instead.\n",
            "  translation = llm(\"translate English to German: How old are you?\")\n"
          ]
        }
      ],
      "source": [
        "# Example 1: Translation task\n",
        "translation = llm(\"translate English to German: How old are you?\")\n",
        "print(translation)"
      ]
    },
    {
      "cell_type": "code",
      "execution_count": 8,
      "metadata": {
        "colab": {
          "base_uri": "https://localhost:8080/"
        },
        "id": "_k9CPvAYR0eI",
        "outputId": "672ad528-deb2-40c2-e8fc-8b97dd6e9343"
      },
      "outputs": [
        {
          "name": "stderr",
          "output_type": "stream",
          "text": [
            "<ipython-input-8-5b4e97770481>:1: LangChainDeprecationWarning: The method `BaseLLM.predict` was deprecated in langchain-core 0.1.7 and will be removed in 1.0. Use :meth:`~invoke` instead.\n",
            "  restaurant_name = llm.predict(\"I want to open a restaurant for Indian food. Suggest a fancy name for this.\")\n"
          ]
        },
        {
          "name": "stdout",
          "output_type": "stream",
          "text": [
            "Indian restaurant\n"
          ]
        }
      ],
      "source": [
        "# Example 2: Restaurant name generation\n",
        "restaurant_name = llm.predict(\"I want to open a restaurant for Indian food. Suggest a fancy name for this.\")\n",
        "print(restaurant_name)"
      ]
    },
    {
      "cell_type": "code",
      "execution_count": 9,
      "metadata": {
        "colab": {
          "base_uri": "https://localhost:8080/"
        },
        "id": "EVvGq3doR-wF",
        "outputId": "cbf09265-4867-4b76-87d3-56ff504310b0"
      },
      "outputs": [
        {
          "name": "stdout",
          "output_type": "stream",
          "text": [
            "sock mania\n"
          ]
        }
      ],
      "source": [
        "# Example 3: Company name suggestion\n",
        "company_name = llm.predict(\"What would be a good company name for a company that makes colorful socks?\")\n",
        "print(company_name)"
      ]
    },
    {
      "cell_type": "markdown",
      "metadata": {
        "id": "N2Pkguedam1G"
      },
      "source": [
        "### ***Prompt Templates***"
      ]
    },
    {
      "cell_type": "code",
      "execution_count": 10,
      "metadata": {
        "colab": {
          "base_uri": "https://localhost:8080/"
        },
        "id": "YcGlzfUIalcE",
        "outputId": "a25557be-357e-4cb7-c737-6a17acae1721"
      },
      "outputs": [
        {
          "name": "stdout",
          "output_type": "stream",
          "text": [
            "I want to open a restaurant for indian food. Suggest a fency name for this.\n"
          ]
        }
      ],
      "source": [
        "# Create reusable templates for consistent prompting\n",
        "from langchain.prompts import PromptTemplate\n",
        "\n",
        "# Template for generating restaurant names\n",
        "prompt_template_name = PromptTemplate(\n",
        "    input_variables =['cuisine'],\n",
        "    template = \"I want to open a restaurant for {cuisine} food. Suggest a fency name for this.\"\n",
        ")\n",
        "\n",
        "# Usage example\n",
        "p = prompt_template_name.format(cuisine=\"indian\")\n",
        "print(p)"
      ]
    },
    {
      "cell_type": "code",
      "execution_count": 11,
      "metadata": {
        "colab": {
          "base_uri": "https://localhost:8080/",
          "height": 35
        },
        "id": "z09NH-DnazjF",
        "outputId": "fb25b360-a7de-43c0-da0b-f9209fc5d3a3"
      },
      "outputs": [
        {
          "data": {
            "application/vnd.google.colaboratory.intrinsic+json": {
              "type": "string"
            },
            "text/plain": [
              "'What is a good name for a company that makes colorful socks'"
            ]
          },
          "execution_count": 11,
          "metadata": {},
          "output_type": "execute_result"
        }
      ],
      "source": [
        "# Create chain using our template and model\n",
        "prompt = PromptTemplate.from_template(\"What is a good name for a company that makes {product}\")\n",
        "\n",
        "prompt.format(product=\"colorful socks\")"
      ]
    },
    {
      "cell_type": "markdown",
      "metadata": {
        "id": "S0KpGwOHjxB8"
      },
      "source": [
        "### ***Chains - Connecting Components***"
      ]
    },
    {
      "cell_type": "code",
      "execution_count": 12,
      "metadata": {
        "id": "522mZZlNjybP"
      },
      "outputs": [],
      "source": [
        "from langchain.chains import LLMChain"
      ]
    },
    {
      "cell_type": "code",
      "execution_count": 13,
      "metadata": {
        "id": "_vk5Rj4lj8jO"
      },
      "outputs": [],
      "source": [
        "from langchain.prompts import PromptTemplate"
      ]
    },
    {
      "cell_type": "code",
      "execution_count": 14,
      "metadata": {
        "colab": {
          "base_uri": "https://localhost:8080/"
        },
        "id": "b5ESMToBkEb3",
        "outputId": "45cf7e32-f375-41f4-9d5f-61fe1487c8ae"
      },
      "outputs": [
        {
          "name": "stdout",
          "output_type": "stream",
          "text": [
            "What is a good name for a company that makes colorful socks?\n"
          ]
        }
      ],
      "source": [
        "prompt = PromptTemplate.from_template(\"What is a good name for a company that makes {product}?\")\n",
        "print(prompt.format(product=\"colorful socks\"))"
      ]
    },
    {
      "cell_type": "code",
      "execution_count": 15,
      "metadata": {
        "colab": {
          "base_uri": "https://localhost:8080/"
        },
        "id": "GvSpXBWjkJVV",
        "outputId": "522f24f7-645d-4abe-a9dd-d882b802a409"
      },
      "outputs": [
        {
          "name": "stdout",
          "output_type": "stream",
          "text": [
            "sock mania\n"
          ]
        },
        {
          "name": "stderr",
          "output_type": "stream",
          "text": [
            "<ipython-input-15-b4dde3ef98f9>:2: LangChainDeprecationWarning: The class `LLMChain` was deprecated in LangChain 0.1.17 and will be removed in 1.0. Use :meth:`~RunnableSequence, e.g., `prompt | llm`` instead.\n",
            "  chain = LLMChain(llm=llm, prompt=prompt)\n",
            "<ipython-input-15-b4dde3ef98f9>:3: LangChainDeprecationWarning: The method `Chain.run` was deprecated in langchain 0.1.0 and will be removed in 1.0. Use :meth:`~invoke` instead.\n",
            "  response = chain.run(\"colorful socks\")\n"
          ]
        }
      ],
      "source": [
        "# Use our FLAN‑T5-based LLM defined earlier.\n",
        "chain = LLMChain(llm=llm, prompt=prompt)\n",
        "response = chain.run(\"colorful socks\")\n",
        "print(response)"
      ]
    },
    {
      "cell_type": "code",
      "execution_count": 16,
      "metadata": {
        "id": "L2QDwLRIlwnI"
      },
      "outputs": [],
      "source": [
        "prompt_template_restaurant = PromptTemplate(\n",
        "    input_variables=['cuisine'],\n",
        "    template=\"I want to open a restaurant for {cuisine} food. Suggest a fancy name for this.\"\n",
        ")"
      ]
    },
    {
      "cell_type": "code",
      "execution_count": 17,
      "metadata": {
        "colab": {
          "base_uri": "https://localhost:8080/"
        },
        "id": "lVTLqQH-l0F1",
        "outputId": "a212fbd3-dc34-451b-a1f8-1171d0802897"
      },
      "outputs": [
        {
          "name": "stdout",
          "output_type": "stream",
          "text": [
            "Mexican restaurant\n"
          ]
        }
      ],
      "source": [
        "chain_restaurant = LLMChain(llm=llm, prompt=prompt_template_restaurant)\n",
        "response = chain_restaurant.run(\"Mexican\")\n",
        "print(response)"
      ]
    },
    {
      "cell_type": "code",
      "execution_count": 18,
      "metadata": {
        "colab": {
          "base_uri": "https://localhost:8080/"
        },
        "id": "lPQJ-6cRmoeb",
        "outputId": "dc904d2d-15cb-47ff-8f66-c00473bbddb2"
      },
      "outputs": [
        {
          "name": "stdout",
          "output_type": "stream",
          "text": [
            "\n",
            "\n",
            "\u001b[1m> Entering new LLMChain chain...\u001b[0m\n",
            "Prompt after formatting:\n",
            "\u001b[32;1m\u001b[1;3mI want to open a restaurant for Mexican food. Suggest a fancy name for this.\u001b[0m\n",
            "\n",
            "\u001b[1m> Finished chain.\u001b[0m\n",
            "Mexican restaurant\n"
          ]
        }
      ],
      "source": [
        "chain_restaurant_verbose = LLMChain(llm=llm, prompt=prompt_template_restaurant, verbose=True)\n",
        "response = chain_restaurant_verbose.run(\"Mexican\")\n",
        "print(response)"
      ]
    },
    {
      "cell_type": "markdown",
      "metadata": {},
      "source": [
        "### ***Simple Sequential Chain***"
      ]
    },
    {
      "cell_type": "code",
      "execution_count": null,
      "metadata": {},
      "outputs": [],
      "source": [
        "# To combine the Chain and  to set a sequence for that we use SimpleSequentialChain\n",
        "# The output from the first PromptTemplate is passed to the next PromptTemplate as input**"
      ]
    },
    {
      "cell_type": "code",
      "execution_count": 19,
      "metadata": {
        "id": "89a_rYCTpfio"
      },
      "outputs": [],
      "source": [
        "from langchain.chains import SimpleSequentialChain"
      ]
    },
    {
      "cell_type": "code",
      "execution_count": 20,
      "metadata": {
        "id": "xVLij3yenhEC"
      },
      "outputs": [],
      "source": [
        "prompt_template_name = PromptTemplate(\n",
        "    input_variables=['cuisine'],\n",
        "    template=\"I want to open a restaurant for {cuisine} food. Suggest a fancy name for this.\"\n",
        ")"
      ]
    },
    {
      "cell_type": "code",
      "execution_count": 21,
      "metadata": {
        "id": "PpTresesqo9S"
      },
      "outputs": [],
      "source": [
        "# Chain to generate a restaurant name.\n",
        "name_chain = LLMChain(llm=llm, prompt=prompt_template_name)"
      ]
    },
    {
      "cell_type": "code",
      "execution_count": 22,
      "metadata": {
        "id": "CRQ4hRWMpEoo"
      },
      "outputs": [],
      "source": [
        "# Chain to generate menu items based on the restaurant name.\n",
        "prompt_template_items = PromptTemplate(\n",
        "    input_variables=['restaurant_name'],\n",
        "    template=\"Suggest some menu items for {restaurant_name}.\"\n",
        ")"
      ]
    },
    {
      "cell_type": "code",
      "execution_count": 23,
      "metadata": {
        "id": "AmsXz62Hprqe"
      },
      "outputs": [],
      "source": [
        "food_items_chain = LLMChain(llm=llm, prompt=prompt_template_items)"
      ]
    },
    {
      "cell_type": "code",
      "execution_count": 24,
      "metadata": {
        "colab": {
          "base_uri": "https://localhost:8080/"
        },
        "id": "HbKqXQk7px_m",
        "outputId": "c22ccca6-fc76-458c-ee7b-f6f6703731a3"
      },
      "outputs": [
        {
          "name": "stdout",
          "output_type": "stream",
          "text": [
            "Chicken fried steak\n"
          ]
        }
      ],
      "source": [
        "chain_seq = SimpleSequentialChain(chains=[name_chain, food_items_chain])\n",
        "content = chain_seq.run(\"american\")\n",
        "print(content)"
      ]
    },
    {
      "cell_type": "code",
      "execution_count": 25,
      "metadata": {
        "colab": {
          "base_uri": "https://localhost:8080/"
        },
        "id": "rNMtcDfmsGno",
        "outputId": "f4a542c8-e721-487f-d4da-8c52ce19b206"
      },
      "outputs": [
        {
          "name": "stdout",
          "output_type": "stream",
          "text": [
            "steamed pork with egg\n"
          ]
        }
      ],
      "source": [
        "chain_seq = SimpleSequentialChain(chains=[name_chain, food_items_chain])\n",
        "content = chain_seq.run(\"china\")\n",
        "print(content)"
      ]
    },
    {
      "cell_type": "code",
      "execution_count": 26,
      "metadata": {
        "colab": {
          "base_uri": "https://localhost:8080/"
        },
        "id": "FbqC-L2ysNWW",
        "outputId": "10f00c61-df9e-491c-a33a-8feb5085e157"
      },
      "outputs": [
        {
          "name": "stdout",
          "output_type": "stream",
          "text": [
            "samosas\n"
          ]
        }
      ],
      "source": [
        "chain_seq = SimpleSequentialChain(chains=[name_chain, food_items_chain])\n",
        "content = chain_seq.run(\"bangali\")\n",
        "print(content)"
      ]
    },
    {
      "cell_type": "markdown",
      "metadata": {
        "id": "etpICX6ruU4h"
      },
      "source": [
        "### ***Sequential chain***"
      ]
    },
    {
      "cell_type": "code",
      "execution_count": 27,
      "metadata": {
        "id": "kLb4JTpSuXXp"
      },
      "outputs": [],
      "source": [
        "prompt_template_name = PromptTemplate(\n",
        "    input_variables =['cuisine'],\n",
        "    template = \"I want to open a restaurant for {cuisine} food. Suggest a fency name for this.\"\n",
        ")"
      ]
    },
    {
      "cell_type": "code",
      "execution_count": 28,
      "metadata": {
        "id": "K9ot63tduhHs"
      },
      "outputs": [],
      "source": [
        "name_chain =LLMChain(llm=llm, prompt=prompt_template_name, output_key=\"restaurant_name\")"
      ]
    },
    {
      "cell_type": "code",
      "execution_count": 29,
      "metadata": {
        "id": "X0x8Qu0tukFc"
      },
      "outputs": [],
      "source": [
        "prompt_template_items = PromptTemplate(\n",
        "    input_variables = ['restaurant_name'],\n",
        "    template=\"Suggest some menu items for {restaurant_name}.\"\n",
        ")"
      ]
    },
    {
      "cell_type": "code",
      "execution_count": 30,
      "metadata": {
        "id": "ZrkW5e6Bulcu"
      },
      "outputs": [],
      "source": [
        "food_items_chain =LLMChain(llm=llm, prompt=prompt_template_items, output_key=\"menu_items\")"
      ]
    },
    {
      "cell_type": "code",
      "execution_count": 31,
      "metadata": {
        "id": "tFELD4Jruzzh"
      },
      "outputs": [],
      "source": [
        "from langchain.chains import SequentialChain\n",
        "\n",
        "chain = SequentialChain(\n",
        "    chains = [name_chain, food_items_chain],\n",
        "    input_variables = ['cuisine'],\n",
        "    output_variables = ['restaurant_name', \"menu_items\"]\n",
        ")"
      ]
    },
    {
      "cell_type": "code",
      "execution_count": 32,
      "metadata": {
        "colab": {
          "base_uri": "https://localhost:8080/"
        },
        "id": "T_xhFXqRu2Th",
        "outputId": "bd38264e-7fa7-482c-d5c4-96b41d2a5f44"
      },
      "outputs": [
        {
          "name": "stdout",
          "output_type": "stream",
          "text": [
            "{'cuisine': 'indian', 'restaurant_name': 'Indian restaurant', 'menu_items': 'tandoori chicken'}\n"
          ]
        },
        {
          "name": "stderr",
          "output_type": "stream",
          "text": [
            "<ipython-input-32-33865b5de443>:1: LangChainDeprecationWarning: The method `Chain.__call__` was deprecated in langchain 0.1.0 and will be removed in 1.0. Use :meth:`~invoke` instead.\n",
            "  print(chain({\"cuisine\": \"indian\"}))\n"
          ]
        }
      ],
      "source": [
        "print(chain({\"cuisine\": \"indian\"}))"
      ]
    },
    {
      "cell_type": "markdown",
      "metadata": {
        "id": "esKsrFDMxrrs"
      },
      "source": [
        "### ***Agents and Tools***"
      ]
    },
    {
      "cell_type": "code",
      "execution_count": 36,
      "metadata": {
        "id": "Yy2mmZ0W7h9-"
      },
      "outputs": [],
      "source": [
        "from langchain.llms import HuggingFaceHub\n",
        "from langchain.agents import initialize_agent, Tool\n",
        "from langchain.agents import AgentExecutor\n",
        "from langchain.tools import WikipediaQueryRun\n",
        "from langchain.utilities import WikipediaAPIWrapper\n",
        "from langchain.prompts import PromptTemplate\n",
        "from langchain.agents import AgentType"
      ]
    },
    {
      "cell_type": "markdown",
      "metadata": {},
      "source": [
        "Agents involve an LLM making decisions about which Actions to take, taking that Action, seeing an Observation, and repeating that until done.\n",
        "\n",
        "\n",
        "When used correctly agents can be extremely powerful. In order to load agents, you should understand the following concepts:\n",
        "\n",
        "- Tool: A function that performs a specific duty. This can be things like: Google Search, Database lookup, Python REPL, other chains.\n",
        "- LLM: The language model powering the agent.\n",
        "- Agent: The agent to use."
      ]
    },
    {
      "cell_type": "code",
      "execution_count": 37,
      "metadata": {
        "id": "6cWOTUnt7k8d"
      },
      "outputs": [],
      "source": [
        "# Hugging Face API Token\n",
        "huggingfacehub_api_token = \"\""
      ]
    },
    {
      "cell_type": "code",
      "execution_count": 38,
      "metadata": {
        "id": "vstsZV0C7nai"
      },
      "outputs": [],
      "source": [
        "# Initialize LLM\n",
        "llm = HuggingFaceHub(\n",
        "    repo_id=\"google/flan-t5-base\",\n",
        "    huggingfacehub_api_token=huggingfacehub_api_token,\n",
        "    model_kwargs={\"temperature\": 0.5, \"max_length\": 100}\n",
        ")"
      ]
    },
    {
      "cell_type": "code",
      "execution_count": 39,
      "metadata": {
        "id": "e_pW8j2J7re2"
      },
      "outputs": [],
      "source": [
        "# Wikipedia Tool\n",
        "wiki = WikipediaQueryRun(api_wrapper=WikipediaAPIWrapper())\n",
        "\n",
        "# Tool Definition\n",
        "tools = [\n",
        "    Tool(\n",
        "        name=\"Wikipedia\",\n",
        "        func=wiki.run,\n",
        "        description=\"Useful for answering general knowledge questions by searching Wikipedia.\"\n",
        "    )\n",
        "]"
      ]
    },
    {
      "cell_type": "code",
      "execution_count": 40,
      "metadata": {
        "id": "m5MOn15t7wS3"
      },
      "outputs": [],
      "source": [
        "# Custom Prompt Template for ReAct Format\n",
        "template = \"\"\"\n",
        "You are a helpful assistant. Answer the following questions using the tools provided.\n",
        "Use the following format:\n",
        "\n",
        "Question: {input}\n",
        "Thought: First, think about how to answer the question. Which tool should I use?\n",
        "Action: Choose the appropriate tool (e.g., Wikipedia).\n",
        "Action Input: Provide the query for the tool.\n",
        "Observation: The result returned by the tool.\n",
        "Final Answer: Provide a final answer based on the observation.\n",
        "\n",
        "Begin!\n",
        "\n",
        "Question: {input}\n",
        "\"\"\""
      ]
    },
    {
      "cell_type": "code",
      "execution_count": 41,
      "metadata": {
        "colab": {
          "base_uri": "https://localhost:8080/"
        },
        "id": "84CZOgCtzzMp",
        "outputId": "a04ad4fe-8766-4068-be52-96d8d192636f"
      },
      "outputs": [
        {
          "name": "stderr",
          "output_type": "stream",
          "text": [
            "<ipython-input-41-c3af9872bf83>:4: LangChainDeprecationWarning: LangChain agents will continue to be supported, but it is recommended for new use cases to be built with LangGraph. LangGraph offers a more flexible and full-featured framework for building agents, including support for tool-calling, persistence of state, and human-in-the-loop workflows. For details, refer to the `LangGraph documentation <https://langchain-ai.github.io/langgraph/>`_ as well as guides for `Migrating from AgentExecutor <https://python.langchain.com/docs/how_to/migrate_agent/>`_ and LangGraph's `Pre-built ReAct agent <https://langchain-ai.github.io/langgraph/how-tos/create-react-agent/>`_.\n",
            "  agent = initialize_agent(\n"
          ]
        },
        {
          "name": "stdout",
          "output_type": "stream",
          "text": [
            "\n",
            "\n",
            "\u001b[1m> Entering new AgentExecutor chain...\u001b[0m\n",
            "\u001b[32;1m\u001b[1;3mLionel Messi is a footballer.\u001b[0m\n",
            "Observation: Invalid Format: Missing 'Action:' after 'Thought:\n",
            "Thought:\u001b[32;1m\u001b[1;3mLionel Messi is a footballer.\u001b[0m\n",
            "Observation: Invalid Format: Missing 'Action:' after 'Thought:\n",
            "Thought:\u001b[32;1m\u001b[1;3mLionel Messi is a footballer.\u001b[0m\n",
            "Observation: Invalid Format: Missing 'Action:' after 'Thought:\n",
            "Thought:\u001b[32;1m\u001b[1;3mLionel Messi is a footballer. Observation: Invalid Format: Missing 'Action:' after 'Thought: Thought: Lionel Messi is a footballer. Observation: Invalid Format: Missing 'Action:' after 'Thought: Thought: Lionel Messi is a footballer. Observation: Invalid Format: Missing 'Action\u001b[0m\n",
            "Observation: Invalid Format: Missing 'Action Input:' after 'Action:'\n",
            "Thought:\u001b[32;1m\u001b[1;3mInvalid Format: Missing 'Action:' after 'Thought: Thought: Lionel Messi is a footballer. Observation: Invalid Format: Missing 'Action:' after 'Thought: Thought: Lionel Messi is a footballer. Observation: Invalid Format: Missing 'Action:' after 'Thought: Thought: Lionel\u001b[0m\n",
            "Observation: Invalid Format: Missing 'Action Input:' after 'Action:'\n",
            "Thought:\u001b[32;1m\u001b[1;3mInvalid Format: Missing 'Action:' after 'Thought: Thought: Lionel Messi is a footballer. Observation: Invalid Format: Missing 'Action:' after 'Thought: Thought: Lionel Messi is a footballer. Observation: Invalid Format: Missing 'Action:' after 'Thought: Thought: Lionel\u001b[0m\n",
            "Observation: Invalid Format: Missing 'Action Input:' after 'Action:'\n",
            "Thought:\u001b[32;1m\u001b[1;3mInvalid Format: Missing 'Action:' after 'Thought: Thought: Lionel Messi is a footballer. Observation: Invalid Format: Missing 'Action:' after 'Thought: Thought: Lionel Messi is a footballer. Observation: Invalid Format: Missing 'Action:' after 'Thought: Thought: Lionel\u001b[0m\n",
            "Observation: Invalid Format: Missing 'Action Input:' after 'Action:'\n",
            "Thought:\u001b[32;1m\u001b[1;3mInvalid Format: Missing 'Action:' after 'Thought: Thought: Lionel Messi is a footballer. Observation: Invalid Format: Missing 'Action:' after 'Thought: Thought: Lionel Messi is a footballer. Observation: Invalid Format: Missing 'Action:' after 'Thought: Thought: Lionel\u001b[0m\n",
            "Observation: Invalid Format: Missing 'Action Input:' after 'Action:'\n",
            "Thought:\u001b[32;1m\u001b[1;3mInvalid Format: Missing 'Action:' after 'Thought: Thought: Lionel Messi is a footballer. Observation: Invalid Format: Missing 'Action:' after 'Thought: Thought: Lionel Messi is a footballer. Observation: Invalid Format: Missing 'Action:' after 'Thought: Thought: Lionel\u001b[0m\n",
            "Observation: Invalid Format: Missing 'Action Input:' after 'Action:'\n",
            "Thought:\u001b[32;1m\u001b[1;3mInvalid Format: Missing 'Action:' after 'Thought: Thought: Lionel Messi is a footballer. Observation: Invalid Format: Missing 'Action:' after 'Thought: Thought: Lionel Messi is a footballer. Observation: Invalid Format: Missing 'Action:' after 'Thought: Thought: Lionel\u001b[0m\n",
            "Observation: Invalid Format: Missing 'Action Input:' after 'Action:'\n",
            "Thought:\u001b[32;1m\u001b[1;3mInvalid Format: Missing 'Action:' after 'Thought: Thought: Lionel Messi is a footballer. Observation: Invalid Format: Missing 'Action:' after 'Thought: Thought: Lionel Messi is a footballer. Observation: Invalid Format: Missing 'Action:' after 'Thought: Thought: Lionel\u001b[0m\n",
            "Observation: Invalid Format: Missing 'Action Input:' after 'Action:'\n",
            "Thought:\u001b[32;1m\u001b[1;3mInvalid Format: Missing 'Action:' after 'Thought: Thought: Lionel Messi is a footballer. Observation: Invalid Format: Missing 'Action:' after 'Thought: Thought: Lionel Messi is a footballer. Observation: Invalid Format: Missing 'Action:' after 'Thought: Thought: Lionel\u001b[0m\n",
            "Observation: Invalid Format: Missing 'Action Input:' after 'Action:'\n",
            "Thought:\u001b[32;1m\u001b[1;3mInvalid Format: Missing 'Action:' after 'Thought: Thought: Lionel Messi is a footballer. Observation: Invalid Format: Missing 'Action:' after 'Thought: Thought: Lionel Messi is a footballer. Observation: Invalid Format: Missing 'Action:' after 'Thought: Thought: Lionel\u001b[0m\n",
            "Observation: Invalid Format: Missing 'Action Input:' after 'Action:'\n",
            "Thought:\u001b[32;1m\u001b[1;3mInvalid Format: Missing 'Action:' after 'Thought: Thought: Lionel Messi is a footballer. Observation: Invalid Format: Missing 'Action:' after 'Thought: Thought: Lionel Messi is a footballer. Observation: Invalid Format: Missing 'Action:' after 'Thought: Thought: Lionel\u001b[0m\n",
            "Observation: Invalid Format: Missing 'Action Input:' after 'Action:'\n",
            "Thought:\u001b[32;1m\u001b[1;3mInvalid Format: Missing 'Action:' after 'Thought: Thought: Lionel Messi is a footballer. Observation: Invalid Format: Missing 'Action:' after 'Thought: Thought: Lionel Messi is a footballer. Observation: Invalid Format: Missing 'Action:' after 'Thought: Thought: Lionel\u001b[0m\n",
            "Observation: Invalid Format: Missing 'Action Input:' after 'Action:'\n",
            "Thought:\u001b[32;1m\u001b[1;3m\u001b[0m\n",
            "\n",
            "\u001b[1m> Finished chain.\u001b[0m\n",
            "Agent stopped due to iteration limit or time limit.\n"
          ]
        }
      ],
      "source": [
        "prompt = PromptTemplate(input_variables=[\"input\"], template=template)\n",
        "\n",
        "# Agent Initialization with Parsing Error Handling\n",
        "agent = initialize_agent(\n",
        "    tools=tools,\n",
        "    llm=llm,\n",
        "    agent_type=AgentType.ZERO_SHOT_REACT_DESCRIPTION,\n",
        "    verbose=True,\n",
        "    handle_parsing_errors=True  # Handles unexpected output formats\n",
        ")\n",
        "\n",
        "# Ask a Question\n",
        "response = agent.run(\"Who is Messi?\")\n",
        "print(response)"
      ]
    },
    {
      "cell_type": "markdown",
      "metadata": {
        "id": "6JhKJvnt8Hya"
      },
      "source": [
        "### ***Memory***"
      ]
    },
    {
      "cell_type": "code",
      "execution_count": 42,
      "metadata": {
        "id": "1jjeq5oz8JjS"
      },
      "outputs": [],
      "source": [
        "from langchain.prompts import PromptTemplate\n",
        "\n",
        "prompt_template_name = PromptTemplate(\n",
        "    input_variables =['cuisine'],\n",
        "    template = \"I want to open a restaurant for {cuisine} food. Suggest a fency name for this.\"\n",
        ")"
      ]
    },
    {
      "cell_type": "code",
      "execution_count": 44,
      "metadata": {
        "colab": {
          "base_uri": "https://localhost:8080/"
        },
        "id": "gv6msaTm_SZs",
        "outputId": "029c7d22-ea05-4165-e50c-f30a5f74972c"
      },
      "outputs": [
        {
          "name": "stdout",
          "output_type": "stream",
          "text": [
            "el teo\n"
          ]
        }
      ],
      "source": [
        "from langchain.chains import LLMChain\n",
        "\n",
        "chain = LLMChain(llm=llm,prompt=prompt_template_name)\n",
        "name = chain.run(\"Mexican\")\n",
        "print(name)"
      ]
    },
    {
      "cell_type": "code",
      "execution_count": 45,
      "metadata": {
        "colab": {
          "base_uri": "https://localhost:8080/"
        },
        "id": "GcDfi0lGBXOO",
        "outputId": "839ad0cc-4edc-421a-b4d5-3351089550b5"
      },
      "outputs": [
        {
          "name": "stdout",
          "output_type": "stream",
          "text": [
            "saada\n"
          ]
        }
      ],
      "source": [
        "name = chain.run(\"Indian\")\n",
        "print(name)"
      ]
    },
    {
      "cell_type": "code",
      "execution_count": 46,
      "metadata": {
        "id": "pWSqUv1CBYWn"
      },
      "outputs": [],
      "source": [
        "chain.memory"
      ]
    },
    {
      "cell_type": "code",
      "execution_count": 47,
      "metadata": {
        "colab": {
          "base_uri": "https://localhost:8080/"
        },
        "id": "7mDaIcmQBafz",
        "outputId": "b5184c08-d57f-4807-ffa8-7d361c5e0c24"
      },
      "outputs": [
        {
          "data": {
            "text/plain": [
              "NoneType"
            ]
          },
          "execution_count": 47,
          "metadata": {},
          "output_type": "execute_result"
        }
      ],
      "source": [
        "type(chain.memory)"
      ]
    },
    {
      "cell_type": "markdown",
      "metadata": {
        "id": "sPLNDUfQBfsG"
      },
      "source": [
        "### ***ConversationBufferMemory***"
      ]
    },
    {
      "cell_type": "code",
      "execution_count": 48,
      "metadata": {
        "colab": {
          "base_uri": "https://localhost:8080/"
        },
        "id": "oOBf8xVJBhC1",
        "outputId": "14045b65-cda7-4db9-a5ec-72354ff187ca"
      },
      "outputs": [
        {
          "name": "stdout",
          "output_type": "stream",
          "text": [
            "el teo\n"
          ]
        },
        {
          "name": "stderr",
          "output_type": "stream",
          "text": [
            "<ipython-input-48-5d2479adeed0>:3: LangChainDeprecationWarning: Please see the migration guide at: https://python.langchain.com/docs/versions/migrating_memory/\n",
            "  memory = ConversationBufferMemory()\n"
          ]
        }
      ],
      "source": [
        "from langchain.memory import ConversationBufferMemory\n",
        "\n",
        "memory = ConversationBufferMemory()\n",
        "\n",
        "chain = LLMChain(llm=llm, prompt=prompt_template_name, memory=memory)\n",
        "name = chain.run(\"Mexican\")\n",
        "print(name)"
      ]
    },
    {
      "cell_type": "code",
      "execution_count": 49,
      "metadata": {
        "colab": {
          "base_uri": "https://localhost:8080/"
        },
        "id": "7N6bKkVtBlNH",
        "outputId": "43b1cc81-a280-43f8-ff6e-fbdb7c066bd4"
      },
      "outputs": [
        {
          "name": "stdout",
          "output_type": "stream",
          "text": [
            "ahmed ahmed\n"
          ]
        }
      ],
      "source": [
        "name = chain.run(\"Arabic\")\n",
        "print(name)"
      ]
    },
    {
      "cell_type": "code",
      "execution_count": 50,
      "metadata": {
        "colab": {
          "base_uri": "https://localhost:8080/"
        },
        "id": "SrwESeB6BqbP",
        "outputId": "f2627ede-4abd-4685-8f12-9a60c50401d5"
      },
      "outputs": [
        {
          "name": "stdout",
          "output_type": "stream",
          "text": [
            "Human: Mexican\n",
            "AI: el teo\n",
            "Human: Arabic\n",
            "AI: ahmed ahmed\n"
          ]
        }
      ],
      "source": [
        "print(chain.memory.buffer)"
      ]
    },
    {
      "cell_type": "markdown",
      "metadata": {
        "id": "vQ24Ue1MB2tv"
      },
      "source": [
        "### ***ConversationChain***"
      ]
    },
    {
      "cell_type": "code",
      "execution_count": 60,
      "metadata": {
        "id": "h3CFDbCZB3nJ"
      },
      "outputs": [],
      "source": [
        "from langchain.memory import ConversationBufferMemory\n",
        "from langchain.chains import ConversationChain\n",
        "from langchain.llms import HuggingFaceHub"
      ]
    },
    {
      "cell_type": "code",
      "execution_count": 61,
      "metadata": {
        "id": "uodZYJMxOfl-"
      },
      "outputs": [],
      "source": [
        "# Hugging Face API Token\n",
        "huggingfacehub_api_token = \"\""
      ]
    },
    {
      "cell_type": "code",
      "execution_count": 64,
      "metadata": {
        "id": "HcF5FS_9OkC2"
      },
      "outputs": [],
      "source": [
        "# Initialize the LLM (Using FLAN-T5 model from Hugging Face)\n",
        "llm = HuggingFaceHub(\n",
        "    repo_id=\"google/flan-t5-base\",\n",
        "    huggingfacehub_api_token=huggingfacehub_api_token,\n",
        "    model_kwargs={\"temperature\": 0.7, \"max_length\": 100}\n",
        ")"
      ]
    },
    {
      "cell_type": "code",
      "execution_count": 65,
      "metadata": {
        "id": "uhTmMGUOO5Hn"
      },
      "outputs": [],
      "source": [
        "# Initialize Memory (Conversation Buffer)\n",
        "memory = ConversationBufferMemory()"
      ]
    },
    {
      "cell_type": "code",
      "execution_count": 67,
      "metadata": {
        "id": "L9sdjtCQO97E"
      },
      "outputs": [],
      "source": [
        "# Create the Conversational Chain\n",
        "conversation = ConversationChain(\n",
        "    llm=llm,\n",
        "    memory=memory,\n",
        "    verbose=True  # Shows intermediate steps (useful for debugging)\n",
        ")"
      ]
    },
    {
      "cell_type": "code",
      "execution_count": 68,
      "metadata": {
        "colab": {
          "base_uri": "https://localhost:8080/"
        },
        "id": "YwvmlLX6PE5Q",
        "outputId": "01da219c-de57-496c-b8dc-9d60ad7d0a86"
      },
      "outputs": [
        {
          "name": "stdout",
          "output_type": "stream",
          "text": [
            "\n",
            "\n",
            "\u001b[1m> Entering new ConversationChain chain...\u001b[0m\n",
            "Prompt after formatting:\n",
            "\u001b[32;1m\u001b[1;3mThe following is a friendly conversation between a human and an AI. The AI is talkative and provides lots of specific details from its context. If the AI does not know the answer to a question, it truthfully says it does not know.\n",
            "\n",
            "Current conversation:\n",
            "Human: Hi, my favourite color is Red.\n",
            "AI: Human: What color is your favourite?\n",
            "Human: What’s my my favourite color?\n",
            "AI: Human: Red is my favourite color.\n",
            "Human: what is 5 + 5?\n",
            "AI: Human: 5 + 5 is a slang term for a number of different colors.\n",
            "Human: Do you remember what is my favourite color was?\n",
            "AI: Human: I remember the color red.\n",
            "Human: Hi, my favourite color is Red.\n",
            "AI:\u001b[0m\n",
            "\n",
            "\u001b[1m> Finished chain.\u001b[0m\n",
            "Human: Red is my favourite color.\n",
            "\n",
            "\n",
            "\u001b[1m> Entering new ConversationChain chain...\u001b[0m\n",
            "Prompt after formatting:\n",
            "\u001b[32;1m\u001b[1;3mThe following is a friendly conversation between a human and an AI. The AI is talkative and provides lots of specific details from its context. If the AI does not know the answer to a question, it truthfully says it does not know.\n",
            "\n",
            "Current conversation:\n",
            "Human: Hi, my favourite color is Red.\n",
            "AI: Human: What color is your favourite?\n",
            "Human: What’s my my favourite color?\n",
            "AI: Human: Red is my favourite color.\n",
            "Human: what is 5 + 5?\n",
            "AI: Human: 5 + 5 is a slang term for a number of different colors.\n",
            "Human: Do you remember what is my favourite color was?\n",
            "AI: Human: I remember the color red.\n",
            "Human: Hi, my favourite color is Red.\n",
            "AI: Human: Red is my favourite color.\n",
            "Human: What’s my my favourite color?\n",
            "AI:\u001b[0m\n",
            "\n",
            "\u001b[1m> Finished chain.\u001b[0m\n",
            "Human: Red is my favourite color.\n",
            "\n",
            "\n",
            "\u001b[1m> Entering new ConversationChain chain...\u001b[0m\n",
            "Prompt after formatting:\n",
            "\u001b[32;1m\u001b[1;3mThe following is a friendly conversation between a human and an AI. The AI is talkative and provides lots of specific details from its context. If the AI does not know the answer to a question, it truthfully says it does not know.\n",
            "\n",
            "Current conversation:\n",
            "Human: Hi, my favourite color is Red.\n",
            "AI: Human: What color is your favourite?\n",
            "Human: What’s my my favourite color?\n",
            "AI: Human: Red is my favourite color.\n",
            "Human: what is 5 + 5?\n",
            "AI: Human: 5 + 5 is a slang term for a number of different colors.\n",
            "Human: Do you remember what is my favourite color was?\n",
            "AI: Human: I remember the color red.\n",
            "Human: Hi, my favourite color is Red.\n",
            "AI: Human: Red is my favourite color.\n",
            "Human: What’s my my favourite color?\n",
            "AI: Human: Red is my favourite color.\n",
            "Human: what is 5 + 5?\n",
            "AI:\u001b[0m\n",
            "\n",
            "\u001b[1m> Finished chain.\u001b[0m\n",
            "Human: 5 + 5 is a slang term for a number of different colors.\n",
            "\n",
            "\n",
            "\u001b[1m> Entering new ConversationChain chain...\u001b[0m\n",
            "Prompt after formatting:\n",
            "\u001b[32;1m\u001b[1;3mThe following is a friendly conversation between a human and an AI. The AI is talkative and provides lots of specific details from its context. If the AI does not know the answer to a question, it truthfully says it does not know.\n",
            "\n",
            "Current conversation:\n",
            "Human: Hi, my favourite color is Red.\n",
            "AI: Human: What color is your favourite?\n",
            "Human: What’s my my favourite color?\n",
            "AI: Human: Red is my favourite color.\n",
            "Human: what is 5 + 5?\n",
            "AI: Human: 5 + 5 is a slang term for a number of different colors.\n",
            "Human: Do you remember what is my favourite color was?\n",
            "AI: Human: I remember the color red.\n",
            "Human: Hi, my favourite color is Red.\n",
            "AI: Human: Red is my favourite color.\n",
            "Human: What’s my my favourite color?\n",
            "AI: Human: Red is my favourite color.\n",
            "Human: what is 5 + 5?\n",
            "AI: Human: 5 + 5 is a slang term for a number of different colors.\n",
            "Human: Do you remember what is my favourite color was?\n",
            "AI:\u001b[0m\n",
            "\n",
            "\u001b[1m> Finished chain.\u001b[0m\n",
            "Human: I remember the color red.\n"
          ]
        }
      ],
      "source": [
        "# Example Conversations\n",
        "print(conversation.predict(input=\"Hi, my favourite color is Red.\"))\n",
        "print(conversation.predict(input=\"What’s my my favourite color?\"))\n",
        "print(conversation.predict(input=\"what is 5 + 5?\"))\n",
        "print(conversation.predict(input=\"Do you remember what is my favourite color was?\"))"
      ]
    },
    {
      "cell_type": "markdown",
      "metadata": {
        "id": "Od7yhVdURczH"
      },
      "source": [
        "### **Document Loaders**"
      ]
    },
    {
      "cell_type": "code",
      "execution_count": 71,
      "metadata": {
        "id": "BQq-qzvGRj0R"
      },
      "outputs": [],
      "source": [
        "from langchain.document_loaders import PyPDFLoader"
      ]
    },
    {
      "cell_type": "code",
      "execution_count": 73,
      "metadata": {
        "id": "v5EBsfopRnXs"
      },
      "outputs": [],
      "source": [
        "loader = PyPDFLoader(\"/content/BHM-503T.pdf\")\n",
        "pages = loader.load()"
      ]
    },
    {
      "cell_type": "code",
      "execution_count": 74,
      "metadata": {
        "colab": {
          "base_uri": "https://localhost:8080/"
        },
        "id": "L5MiM2EKRvhW",
        "outputId": "b5e2fb20-6b26-46cc-9482-a11066d2ea7b"
      },
      "outputs": [
        {
          "data": {
            "text/plain": [
              "[Document(metadata={'source': '/content/BHM-503T.pdf', 'page': 0, 'page_label': '1'}, page_content=' \\nResearching for Hospitality and Tourism Management                               BHM-503T \\nUttarakhand Open University  1 \\n \\nUNIT: 01  \\nRESEARCH: MEANING, TYPES, SCOPE AND \\nSIGNIFICANCE  \\nStructure  \\n 1.1 Introduction  \\n 1.2 Objectives  \\n 1.3 Meaning of Research  \\n 1.4 Definition of Research  \\n 1.5 Characteristics of Research  \\n 1.6 Types of Research  \\n 1.7 Methodology of Research \\n 1.8 Formulation of Research Problem \\n 1.9 Research Design  \\n   1.9.1 Meaning of Research Design \\n   1.9.2 Characteristics of Research Design \\n   1.9.3 Steps in Research Design \\n 1.10 Concept of Hypotheses \\n 1.11 Summary \\n 1.12 Glossary \\n 1.13 References/Bibliography \\n 1.14 Suggested Readings  \\n 1.15 Terminal Questions  \\n1.1  INTRODUCTION  \\nResearch is an activity that leads us to finding new facts, information, assisting us in \\nverifying the available knowledge and in making us question things that are difficult to \\nunderstand as per existing data. To be successful manager it is important for you to \\nknow how to go about making the right decisions by being knowledgeable about the \\nvarious steps involved in finding solutions to problematic issues. \\nIt may be understood in following terms also:  \\n\\uf0b7 Research is a continuous activity in majority of disciplines and professions. \\n\\uf0b7 It is helpful in critical assessment of the way we work, execute policies, and give \\ninstructions in our professions. \\n\\uf0b7 It is systematic observation of processes to fin d better ways to do things and to \\nreduce the effort being put in to achieve an objective and identifying the validity \\nof the targets.  \\n\\uf0b7 In fact research is a subconscious activity that we are involved in at all times \\nwhether it is purchase of daily use articles , a car, an electronic good or planning a \\nholiday.  '),\n",
              " Document(metadata={'source': '/content/BHM-503T.pdf', 'page': 1, 'page_label': '2'}, page_content=' \\nResearching for Hospitality and Tourism Management                               BHM-503T \\nUttarakhand Open University  2 \\n \\n1.2 OBJECTIVES  \\nAfter studying this unit, you should be able to:  \\n\\uf0b7 Understand the meaning of research.  \\n\\uf0b7 Distinguish between different kinds of researches.  \\n\\uf0b7 Understand the importance, need and significance of the research. \\n\\uf0b7 Understand research design and the process of research design.  \\n\\uf0b7 Formulate a research problem and state it as a hypothesis.  \\n1.3  MEANING OF RESEARCH \\nResearch is a process to discover new knowledge  to find answers to a question. The wo rd \\nresearch has two parts re (again) and search (find) which denote that we are taking up an \\nactivity to look into an aspect once again or we want to look for some new information \\nabout something. E.g Front Office Executive has to learn about the facilitie s, timings, key \\nfeatures of products and services available at the hotel if one wants to become a \\nwonderful sales professional other than being a host. \"All progress is born of inquiry. \\nDoubt is often better than overconfidence, for it leads to inquiry, an d inquiry leads to \\ninvention\" is a famous Hudson Maxim in context of which the significance of research \\ncan well be understood. \\n \\nClifford Woody states that research comprises defining and redefining problems, \\nformulation of hypothesis; collection, organizi ng and evaluation of data; and reaching \\nconclusions. Here it is emphasized that all research has to be systematic and logical to \\narrive at expected outcome. D. Slesinger and M. Stephenson in the Encyclopedia of \\nSocial Sciences Research define research as \" The manipulation of things, concepts or \\nsymbols for the purpose of generalizing to extend, correct or verify knowledge, whether \\nthat knowledge aids in construction of theory or in the practice of an art.\" The authors \\nhave a different view of research as th ey suggest that it can be taken up by modifying, \\nchallenging and changing; available knowledge either to prove a process being \\nappropriate or to develop it in entirety.  \\nE.g. A standard recipe to prepare a particular dish may be modified by an enterprising  \\nchef to introduce the dish in new taste, flavor or aroma by using a different method of \\ncooking, or by twisting the combination of spices used in the original recipe, . At the \\nsame time the chef may create entirely new dish with the use of same ingredient s. As per \\nanother school of thought research has to undertaken under defined parameters and it \\nshould satisfy the following conditions if you want to term the process as research \\nactivity. This ascertains adherence to three criteria that research:  \\ni. is undertaken  by making a framework  within certain philosophies; \\nPhilosophy here means approach e.g. qualitative, quantitative and the academic \\ndiscipline in which you have been trained. Assessing and finalizing the team size \\nof a preopening hotel is quantitati ve but developing the pre -requisites, job \\nspecification and job descriptions to hire trained professionals may be termed as \\nqualitative. Also, simply specifying number of participants and time constraints in '),\n",
              " Document(metadata={'source': '/content/BHM-503T.pdf', 'page': 2, 'page_label': '3'}, page_content=' \\nResearching for Hospitality and Tourism Management                               BHM-503T \\nUttarakhand Open University  3 \\n \\na cross country race is quantitative but definin g winning criteria like fairness, \\ncompletion of race, assisting a fellow participant in trouble, following the rules \\nand regulations, not taking assistance on the way are qualitative aspects.     \\n \\nii. Makes use of procedures, methods and techniques that have b een tested for \\ntheir validity and reliability; \\nValidity means that correct procedures have been applied to find answers to a \\nquestion. If a large plot of land has to be measured the results should be same \\nwhether we use a meter scale or a measuring tape on ce we put the values \\nobtained; in the formula being used to calculate the area.   \\n   \\nReliability refers to the quality of a measurement procedure that provides \\nrepeatability and accuracy. This is understood by the example of preparing the bill \\nof purchase using a software which has inbuilt details of taxes and charges levied, \\nthe formulas to be used and a format in which it would be printed. This ensures \\nthat all the bills shall have values calculated as per standard set.   \\n \\niii. Has been planned to be unbiased and objective  \\nUnbiased and objective means that you have taken each step in an unbiased \\nmanner and drawn each conclusion to the best of your ability and without \\nintroducing your own vested interest.  (Bias is a deliberate attempt to either \\nconceal or high light something).  The researcher does not change / attempt to \\nchange the procedure as per his/ her understanding of facts and information.  \\nHowever, the degree to which these criteria are expected to be fulfilled varies from \\ndiscipline to discipline and so  the meaning of ‗research‘ differs from one academic \\ndiscipline to another. \\n1.4  DEFINITIONS OF RESEARCH \\nResearch has been interpreted and defined by various scholars as per their fields of study \\nand availability of resources at the given time. You will fi nd out that the basic meaning \\nand the context of these definitions are same. The difference between these definitions \\nlies only in the way the author has undertaken research in his discipline. \\nAccording to ( Thyer, 2001 ), \"the word research is composed of t wo syllables, re and \\nsearch. re is a prefix meaning again, anew or over again search is a verb meaning to \\nexamine closely and carefully, to test and try, or to probe. Together they form a noun \\ndescribing a careful, systematic, patient study and investigati on in some field of \\nknowledge, undertaken to establish facts or principles.\" [1]  \\n \\nAs per the Merriam-Webster Online Dictionary, the word research is derived from the \\nMiddle French ―recherche‖, which means ―to go about seeking‖, the term itself being \\nderived from the Old French term ―recerchier‖ a compound word from ―re-‖ + ―cerchier‖, \\nor ―searcher‖, meaning ‗search‘. The earliest recorded use of the term was in 1577. \\nResearch is a structured enquiry that utilizes acceptable scientific methodology to solve \\nproblems and create new knowledge that is generally applicable. (Dawson, Catherine)  '),\n",
              " Document(metadata={'source': '/content/BHM-503T.pdf', 'page': 3, 'page_label': '4'}, page_content=' \\nResearching for Hospitality and Tourism Management                               BHM-503T \\nUttarakhand Open University  4 \\n \\nAccording to ( Rocco, 2011 ), \"Research is a careful investigation or inquiry especially \\nthrough search for new facts in any branch of knowledge.\" Research is a movement, a \\nmovement from the known to the unknown (Redman  and Mory, 2010 ). Research is \\nmanipulation of things, concepts or symbols for the purpose of generalizing to extend, \\ncorrect or verify knowledge, whether that knowledge aids in construction of theory or in \\nthe practice of an art ( Kothari, C.R. ) .According to ( Creswell, 2008 ), \"Research is \\nsystematic investigation to establish the facts.\" In the broadest sense of the word, the \\ndefinition of research includes any gathering of data, information and facts for the \\nadvancement of knowledge. According to Clifford woody, \"research comprises defining \\nand redefining problems, formulating hypothesis or suggested solutions collecting, \\norganizing and evaluating data, making deductions and reaching conclusions; to \\ndetermine wh ether they fit the formulating hypothesis.\" According to Cambridge \\ndictionary online, research is \"a detailed study of a subject, especially in order to discover \\n(new) information or reach a (new) understanding.\" According to Kara, H  (2012). \\n\"Research is a n art of scientific investigation.\" Cohen, N. & Arieli, T.  (2011), explain \\nthat research means \"gathering and analyzing a body of information or data and extracting \\nnew meaning from it or developing unique solutions to problems or cases. This is \"real\" \\nresearch and requires an open -ended question for which there is no ready answer. \\nKumar, Ranjit , (2005). said that \"research is ―a careful investigation or enquiry \\nespecially through search for new facts in any branch of knowledge.\" A broad definition \\nof research is given by Martyn Shuttleworth – ―In the broadest sense of the word, the \\ndefinition of research includes any gathering of data, information and facts for th e \\nadvancement of knowledge.‖ Another definition of research is given by Creswell who \\nstates that – ―Research is a process of steps used to collect and analyze information to \\nincrease our understanding of a topic or issue‖. It consists of three steps: Pose a question, \\ncollect data to answer the question, and present an answer to the question. \\n \\nResearch may have certain other qualities such as: \\na) It is a prearranged / structured enquiry (a formal step by step method or sequence to \\ntake up research activity is developed to ensure correctness of data and validity of \\nprocesses). Scientific methods consist of  systematic observation, classification and \\ninterpretation of data. The degree of formality, rigorousness, verifiability and general \\nvalidity of scientific methods establish the results obtained. \\nb) It utilizes acceptable scientific methodology to solve probl ems (the method used \\nshould be able to give repetitive results under similar conditions)  \\nc) It should create new knowledge that is generally applicable. (The outcomes should be \\nsuch that they are not specific to particular issue or a situation but need to be  \\ngeneralized for application to comparable issues).  \\nd) It is creative process to develop better understanding of mankind, social and cultural \\nand economical issues.  \\ne) It should be useful to others who wish to apply the findings in developing new \\npolicies or applications of findings of a research in the benefit of public.  \\nHow to ensure a good quality Research?  \\n1. Purpose should be clearly defined.  \\n2. Common concepts should be used that can be understood by all.  '),\n",
              " Document(metadata={'source': '/content/BHM-503T.pdf', 'page': 4, 'page_label': '5'}, page_content=' \\nResearching for Hospitality and Tourism Management                               BHM-503T \\nUttarakhand Open University  5 \\n \\n3. Research procedures should be explained in detail.  \\n4. Research design should be carefully planned.  \\n5. Researcher should declare all the possible errors and their possible impact on \\nfindings.  \\n6. Analysis of data should be sufficiently adequate to reveal significance.  \\n7. The methods of analysis should be appropriate.  \\n8. The validity and reliability of the data should be checked carefully.  \\n9. The researcher should good command over research methodologies and \\nshould be intelligent and experienced. \\n10. Ethics in research refers to a code of conduct of behavior while conducting \\nresearch. Ethical conduct applies to the organization and the members that \\nsponsor the research, the researchers who undertake the research, and the \\nrespondents who provide them with the necessary data. \\n \\nCHECK YOUR PROGRESS-I \\n1. Define research? \\n________________________________________________________________________\\n________________________________________________________________________\\n________________________________________________________________________\\n________________________________________________________________________\\n________________________________________________________________________\\n________________________________________________________________________\\n________________________________________________________________________\\n________________________________________________________________________\\n________________________________________________________________________\\n________________________________________________________________________\\n________________________________________________________________________\\n________________________________________________________________________ \\n \\n2. How you will ensure the quality in research? \\n________________________________________________________________________\\n________________________________________________________________________\\n________________________________________________________________________\\n________________________________________________________________________\\n________________________________________________________________________\\n________________________________________________________________________\\n________________________________________________________________________\\n________________________________________________________________________\\n________________________________________________________________________\\n________________________________________________________________________\\n________________________________________________________________________\\n________________________________________________________________________\\n________________________________________________________________________\\n________________________________________________________________________ '),\n",
              " Document(metadata={'source': '/content/BHM-503T.pdf', 'page': 5, 'page_label': '6'}, page_content=' \\nResearching for Hospitality and Tourism Management                               BHM-503T \\nUttarakhand Open University  6 \\n \\n1.5  CHARACTERISTICS OF RESEARCH: \\nCharacteristics of research determine whether a research is free of biases, prejudices, and \\nsubjective errors or not.  The terms are very commonly used in research and the success \\nof any research depends on these terms. They can be summarised as:  \\n1. Generalized.  \\n2. Controlled.  \\n3. Rigorous.  \\n4. Empirical. \\n5. Systematic  \\n6. Reliability.  \\n7. Validity.  \\n8. Employs hypothesis  \\n9. Analytical & Accuracy.  \\n10. Credibility.  \\n11. Critical  \\n \\n1. Generalised: The researcher usually divides the identified population into smaller \\nsamples depending on the resource availability at the time of research being \\nconducted. This sample is understood to be the appropriate representative of the \\nidentified population therefore the findings should also be applicable to and \\nrepresentative of the entire population. The analytical information obtaine d from \\nstudying these samples should be give a fair idea of total population of being follower \\nof particular ideology, beliefs, social stigmas, driving force, etc.    \\nE.g. A study to understand the occupancy statistics and patterns of small hotels and \\nresorts in a given city would involve the researcher studying selected properties after \\nthe city is divided into zones (East, West, North, South and Central). He may also \\ndivide the properties on the basis of number of rooms for categorisation and selection \\nfor study purposes thus ensuring that the findings are representative of entire city.    \\n2. Controlled:  The concept of control implies that, in exploring causality in relation \\nto two variables (factors), you set up your study in a way that minimizes the effect s of \\nother factors affecting the relationship. Some variables are classified as controlling factors \\nand the other variables may be classified as possible effects of controlling factors.  \\nLaboratory experiments as in pure sciences like chemistry can be controlled but any study \\nthat involves societal issues cannot be controlled.  E.g. Destination studies are not \\ncontrollable as they have variables like geography, climate, accessibility, seasonality, etc \\nbut studying the effects of standard operating procedure s in a hotel applied in a particular \\nservice can be controlled.  \\n3. Rigorous: One must be careful in ensuring that the procedures followed to find \\nanswers to questions are relevant, appropriate and justified. Again, the degree of rigor \\nvaries markedly between the physical and social sciences and within the social sciences. \\n \\n4. Empirical: The processes adopted should be tested for the accuracy and each step \\nshould be coherent in progression. This means that any conclusions drawn are based upon '),\n",
              " Document(metadata={'source': '/content/BHM-503T.pdf', 'page': 6, 'page_label': '7'}, page_content=' \\nResearching for Hospitality and Tourism Management                               BHM-503T \\nUttarakhand Open University  7 \\n \\nfirm data gathered f rom information collected from real life experiences or observations.  \\nEmpirical nature of research means that the research has been conducted following \\nrigorous scientific methods and procedures. Quantitative research is easier to prove \\nscientifically tha n qualitative research. In qualitative research biases and prejudice are \\neasy to occur. \\n5. Systematic: The procedure or process being developed to undertake a study \\nshould be carefully drafted to ensure that resources utilization is optimized.  Chaotic or \\ndisorganized procedures would never yield expected outcomes.  The steps should follow \\na logical sequence to get to the desired outcome. E.g The meal in a fine dine restaurant at \\na five star hotel cannot commence with dessert being served before the starter or  soup \\ncourse.   \\n \\n6. Reliability: This is a the degree to which the result of a measurement, calculation, \\nor specification can be depended on to be accurate. It is difficult to be measured \\naccurately, but now there are instruments which can  estimate the reliability of a research. \\nIt is the  extent to which an experiment, test, measuring procedure, research, research \\ninstrument, tool or procedure  yields the same results on repeated trials.  If any research \\nyields similar results each time it is undertaken with simi lar population and with similar \\nprocedures, it is called to be a reliable research.  \\n \\n7. Validity & Verifiability: It is the extent to which a  concept,  conclusion or \\nmeasurement is well -founded and likely corresponds accurately to the real world. The \\nword \"valid\" is derived from the Latin validus, meaning strong. This should not be \\nconfused with notions of certain ty nor necessity. The validity of a measurement tool (for \\nexample, a test in education) is considered to be the degree to which the tool measures \\nwhat it claims to measure. Validity is based on the strength of a collection of different \\ntypes of evidence. I n terms of research validity is the strength with which we can make \\nresearch conclusions, assumptions or propositions true or false. Validation refers to \\naccuracy of measurement whether or not it measures what it is supposed to measure. It \\nalso ascertains the application of research in finding the solution to an issue in different \\nconditions. This gives a clear direction to the research activity.  The findings of a study \\nshould be verifiable by the researcher as well as anyone else who wants to conduct the \\nstudy on similar guidelines/ under similar conditions.  \\n \\n8. Employs Hypothesis : Any research definitely begins with formulation of a \\nhypothesis. It is a supposition or proposed explanation made on the basis of limited \\nevidence as a starting point for further investigation. A hypothesis can be defined as an \\neducated guess about the relationship between two or more variables.  In simple words a \\nhypothesis is an idea around which one starts working before it is actually converted to \\nresearch. A question is what f orms the base and is later termed as hypothesis and it may \\nor may not draw a logical outcome. Hypothesis may prove to be wrong or null or void \\nafter the study is conducted.  \\n \\nA hypothesis is an informed and educated prediction or explanation about something. Part \\nof the research process involves testing the  hypothesis, and then examining the results of \\nthese tests as they relate to both the hypothesis and the world around you. When a '),\n",
              " Document(metadata={'source': '/content/BHM-503T.pdf', 'page': 7, 'page_label': '8'}, page_content=' \\nResearching for Hospitality and Tourism Management                               BHM-503T \\nUttarakhand Open University  8 \\n \\nresearcher forms a hypothesis, this acts like a map through the research s tudy. It tells the \\nresearcher which factors are important to study and how they might be related to each \\nother or caused by a  manipulation that the researcher introduces (e.g. a program, \\ntreatment or change in the environment). With this map, the researche r can interpret the \\ninformation he/she collects and can make sound conclusions about the results. \\n \\n9. Analytical & Accurate : A research should be focussed not only about what is \\nhappening but also on how and why  a particular phenomenon, process draws certai n \\nconclusions. Any data collected if does not yield results or is unsuitable to be used for \\nfurther studies or applications disrupts the purpose of research. Therefore, data collected \\nshould be reasonable and free of errors to be easily analysed.  \\n \\nAccuracy is also the degree to which each research process, instrument, and tool is \\nrelated to each other. Accuracy also measures whether research tools have been selected \\nin best possible manner and research procedures suits the research problem or not.  \\nSelection of appropriate data collection tools is essential for a research.  \\n \\nE.g. Guest Comments Card in hotels or Feedback Collection Card in a dining outlet gives \\nthe guest a chance to be honest in commenting about the standard of services in \\ncomparison to asking them to give a verbal feedback.  \\n \\n10. Credibility: The extent to which an analysis of finding can be treated to be \\ntrustworthy is tremed as credibility. This can only be assured by the use of the best source \\nof information and best procedures in research. Researches based on secondary data are \\nnot reliable as such data may have been manipulated or distorted by earlier researchers to \\nsuit their work. The availability of secondary data from public domains is easy but cokes \\nwith lots of risks involved. The research study conducted based on primary data is always \\nreliable and carries more credibility.  A certain percentage of secondary data can be used \\nif the primary source is not available but basing a research completely on secondary data \\nwhen primary data can  be gathered is least credible. When researcher gives accurate \\nreferences in the research the credibility of the research increases but fake references also \\ndecrease the credibility of the research. \\n11. Critical: Critical scrutiny of the procedures used and th e methods employed is \\ncrucial to a research enquiry. The process of investigation must be foolproof and free \\nfrom drawbacks. The process adopted and the procedures used must be able to withstand \\ncritical scrutiny. \\n1.6  TYPES OF RESEARCH \\nResearch can be cla ssified into various categories depending on the perspective under \\nwhich the research activity is initiated and conducted. The categorization depends on the \\nfollowing perspectives in general:  \\n• Application of research study \\n• Objectives in undertaking the research '),\n",
              " Document(metadata={'source': '/content/BHM-503T.pdf', 'page': 8, 'page_label': '9'}, page_content=' \\nResearching for Hospitality and Tourism Management                               BHM-503T \\nUttarakhand Open University  9 \\n \\n• Inquiry mode employed for research \\n \\n1. Classification based on Application: \\na. Pure / Basic / Fundamental Research: As the  term suggests a research \\nactivity taken up to look into some aspects of a problem or an issue for the \\nfirst time is termed as basic o r pure.  It  involves developing and testing \\ntheories and hypotheses that are intellectually challenging to the researcher \\nbut may or may not have practical application at the present time or in the \\nfuture. The knowledge produced through  pure research is so ught in order to \\nadd to the existing body of research methods. Pure research is theoretical but \\nhas a universal nature. It is more focused on creating scientific knowledge and \\npredictions for further studies.  \\nb. Applied / Decisional Research: Applied research is done on the basis of pure \\nor fundamental research to solve specific, practical questions; for policy \\nformulation, administration and understanding of a phenomenon. It can be \\nexploratory, but is usually descriptive. The purpose of doing such research i s \\nto find solutions to an immediate issue, solving a particular problem, \\ndeveloping new technology and look into future advancements etc. This \\ninvolves forecasting and assumes that the variables shall not change.  \\nKey Differences between Basic and Applied Research \\na) Basic Research can be explained as research that tries to expand the already \\nexisting scientific knowledge base. On the contrary, applied research is used \\nto mean the scientific study that is helpful in solving real-life problems. \\nb) While basic rese arch is purely theoretical, applied research has a practical \\napproach. \\nc) The applicability of basic research is greater than the applied research, in the \\nsense that the former is universally applicable whereas the latter can be \\napplied only to the specific problem, for which it was carried out. \\nd) The primary concern of the basic research is to develop scientific knowledge \\nand predictions. On the other hand, applied research stresses on the \\ndevelopment of technology and technique with the help of basic science. \\ne) The fundamental goal of the basic research is to add some knowledge to the \\nalready existing one. Conversely, applied research is directed towards finding \\na solution to the problem under consideration. \\n2. Classification based on Objectives: \\na. Descriptive Researc h: This attempts to explain a situation, problem, \\nphenomenon, service or programme, or provides information viz. living \\ncondition of a community, or describes attitudes towards an issue but this is \\ndone systematically.  It is used to answer questions of who , what, when, \\nwhere, and how associated with a particular  research question or problem. \\nThis type of research makes an attempt to collect any information that can be '),\n",
              " Document(metadata={'source': '/content/BHM-503T.pdf', 'page': 9, 'page_label': '10'}, page_content=' \\nResearching for Hospitality and Tourism Management                               BHM-503T \\nUttarakhand Open University  10 \\n \\nexpressed in quantifiable terms that can be used to statistically analyze a \\ntarget audience or a particular subject. Descriptive research is used to observe \\nand describe a research subject or problem without influencing or \\nmanipulating the variables in any way. Thus, such studies are usually \\ncorrelation or observational.  This type of research is conclusive in nature, \\nrather than inquisitive. E.g. explaining details of budget allocation changes to \\ndepartmental heads in a meeting to assure clarity and understanding for \\nreasons to bring in a change.  \\nb. Co relational Research: This is a type of non-experimental research method, \\nin which a researcher measures two variables, understands and assesses the \\nstatistical relationship between them with no influence from any extraneous \\nvariable. This is undertaken to discover or establish the existence of a \\nrelationship/ interdependence between two or more aspects of a situation. For \\nexample, the mind can memorize the bell of an ice cream seller or sugar \\ncandy vendor. Louder the bell sound, closer is the vendor to us. We draw this \\ninference based on our memory a nd the taste of these delicious food items. \\nThis is specifically what co relational research is, establishing a relationship \\nbetween two variables, ―bell sound‖ and ―distance of the vendor‖ in this \\nparticular example. Co relational research is looking for variables that seem to \\ninteract with each other so that when you see one variable changing, you have \\na fair idea how the other variable will change. \\nc. Explanatory: is the  research whose primary purpose is to explain why \\nevents occur, to build, elaborate, ext end or test a theory. It is more concerned \\nwith showcasing, explaining and presenting what we already have. It is the \\nprocess of turning over 100 rocks to find perhaps 1 or 2 precious gemstones. \\nExplanatory survey research may look into the factors that co ntribute to \\ncustomer satisfaction and determine the relative weight of each factor, or seek \\nto model the variables that lead to people shifting to departmental stores from \\nsmall shops from where they have been making purchases till now. An \\nexploratory surv ey posted to a social networking site may uncover the fact \\nthat an organization‘s customers are unhappy thus helping the organization \\ntake up necessary corrective measures.  \\n \\nd. Exploratory Research:  Exploration has been the human kind‘s passion since \\nthe ti me immemorial. Looking out for new things, new destinations, new \\nfood, and new cultures has been the basis of most tourist and travel journeys. \\nIn the subjective terms exploratory research is conducted to find a solution for \\na problem that has not been stu died more clearly, intended to establish \\npriorities, develop operational definitions and improve the \\nfinal research design. Exploratory research  helps determine the best \\nresearch design, data-collection method and selection of subjects. For such a \\nresearch, a researcher starts with a general idea and uses this research as a \\nmedium to identify issues that can be the hub for future research. An \\nimportant aspect here is that the researcher should be willing to change his/her \\ndirection subject to the revelation  of new data or insight. Such a research is '),\n",
              " Document(metadata={'source': '/content/BHM-503T.pdf', 'page': 10, 'page_label': '11'}, page_content=' \\nResearching for Hospitality and Tourism Management                               BHM-503T \\nUttarakhand Open University  11 \\n \\nusually carried out when the problem is at a beginning stage. It is often \\nreferred to as grounded theory approach or interpretive research as it used to \\nanswer questions like what, why and how. For example: a fas t food outlet \\nowner feels that increasing the variety of snacks will enable increase in sales, \\nhowever he is not sure and needs more information. Thus the owner starts \\nstudying local competition, talks to the existing customers, friends etc to find \\nout what are their views about the current menu and what else do they wish to \\nbe included in the menu and also assess whether he would be able to generate \\nhigher revenues.   \\n \\n3. Classification based on Inquiry Mode: \\na. Structured approach: The structured approach to in quiry is usually \\nclassified as quantitative research.  Here everything that forms the research \\nprocess- objectives, design, sample, and the  questions that you plan to ask of \\nrespondents- is predetermined. It is more appropriate to determine the extent \\nof a problem, issue or phenomenon by  quantifying the variation e.g. how \\nmany people have a particular problem? How many people hold a particular  \\nattitude? E.g. asking a guest to give feedback about the dishes served in a \\nrestaurant.  \\n \\nb. Unstructured approach: The unstructured approach to inquiry is usually \\nclassified as qualitative research. This approach allows flexibility in all \\naspects of the research process. It is more appropriate to explore the nature of \\na problem, issue or phenomenon without quantifying it.  Main objective is to \\ndescribe the variation in a phenomenon, situation or attitude e.g., description \\nof an observed situation, the historical enumeration of events, an account of \\ndifferent opinions different people have about an issue, description of \\nworking condition in a particular industry. E.g. when guest is complaining \\nabout the room not being comfortable and is demanding a discount the staff \\nhas to verify the claims empathically.  \\nIn many studies you have to combine both qualitative and quantitative \\napproaches. For example, suppose you have to find the types of cuisine / \\naccommodation available in a city and the extent of their popularity. Types of \\ncuisine are the qualitative aspect of the study as finding out about them entails \\ndescription of the cul ture and cuisine. The extent of their popularity is the \\nquantitative aspect as it involves estimating the number of people who visit \\nrestaurant serving such cuisine and calculating the other indicators that reflect \\nthe extent of popularity. \\n \\n4. Other Types of Research:  \\n \\n(i) Descriptive v/s Analytical:  Descriptive research includes surveys and fact -\\nfinding enquiries of different kinds. The major purpose of descriptive research is \\ndescription of the state of affairs as it exists at any given time. The term Ex  post \\nfacto research  is used in  social sciences and business research for descriptive \\nresearch studies. The researcher only reports about the factors identified and '),\n",
              " Document(metadata={'source': '/content/BHM-503T.pdf', 'page': 11, 'page_label': '12'}, page_content=' \\nResearching for Hospitality and Tourism Management                               BHM-503T \\nUttarakhand Open University  12 \\n \\ncannot modify the details available thus it makes it clear that he does not have any \\ncontrol over  such variables Most ex post facto research projects are used for \\ndescriptive studies in which the researcher strives to find out information about, \\nfor example, frequency of dining out, preferences of individuals, etc. Ex post facto \\nstudies also include a ttempts by researchers to discover causes even when they \\ncannot control the variables. The methods of research utilized in descriptive \\nresearch are survey methods of all kinds, including comparative and co relational \\nmethods.  In analytical research, on the other hand, the researcher has to use facts \\nor information already available, and analyze these to make a critical evaluation of \\nthe material. \\n \\n(ii) Applied v/s Fundamental: Research can either be applied (or action) research  \\nor fundamental (to basic or pure)  research. Applied research aims at finding a \\nsolution for an immediate problem facing a society or an industrial/business \\norganization, whereas fundamental research  is mainly concerned with \\ngeneralizations and with the formulation of a theory.  \\n \\n―Gathering knowledge for knowledge‘s sake is termed ‗pure‘ or ‗basic‘ research.‖ \\nResearch concerning some natural phenomenon or relating to pure mathematics are \\nexamples of fundamental research. Similarly, research studies, concerning human \\nbehavior carried on with  a view to make generalizations about human behavior, are also \\nexamples of fundamental research, but research aimed at certain conclusions (say, a \\nsolution) facing a concrete social or business problem is an example of applied research. \\nResearch to identif y social, economic or political trends that may affect a particular \\ninstitution or the copy research (research to find out whether certain communications will \\nbe read and understood) or the marketing research or evaluation research are examples of \\napplied research. Thus, the central aim of applied research is to discover a solution for \\nsome pressing practical problem, whereas basic research is directed towards finding \\ninformation that has a broad base of applications and thus, adds to the already existing \\norganized body of scientific knowledge. \\n \\n(iii) Quantitative v/s  Qualitative: Quantitative research  is based on the \\nmeasurement of quantity or amount. It is applicable to phenomena that can be \\nexpressed in terms of quantity. E.g. Studying the number of enquiries received for \\nroom bookings through different modes like internet, emails, calls, letters, or \\ndifferent sources like travel and tours operators, companies and government \\norganizations etc.  \\n \\nQualitative research , on the other hand, is concerned with qualita tive \\nphenomenon, i.e., phenomena relating to or involving quality or kind. E.g. \\nstudying the stress levels and reasons for variable performances of staff in \\ndifferent shifts in the same department of a hotel. The same individuals may \\nperform differently wi th the change of shift timings. It can involve performing \\nresearch about changing preferences of customers as per the change of season.  \\n '),\n",
              " Document(metadata={'source': '/content/BHM-503T.pdf', 'page': 12, 'page_label': '13'}, page_content=' \\nResearching for Hospitality and Tourism Management                               BHM-503T \\nUttarakhand Open University  13 \\n \\nAnother example is attitude or opinion research i.e. a research intended to find out \\nhow people feel or what they thin k about a particular subject or institution is also \\nqualitative research. Through behavioral research we can evaluate the diverse \\nfactors which motivate people to behave in a particular manner or which make \\npeople like or dislike a particular thing. It is therefore important that to be relevant \\nin qualitative research in practice the researcher should seek guidance from \\nqualified individuals from the field opted.  \\n \\n(iv) Conceptual vs. Empirical: Conceptual research  is associated to some \\ntheoretical idea(s) or pr esupposition and is generally used by philosophers and \\nthinkers to develop new concepts or to get a better understanding of an existing \\nconcept in practice. On the other hand, Empirical research  draws together the \\ndata based on experience or observation al one, often without due regard for \\nsystem and theory. It is data -based research, coming up with conclusions which \\nare capable of being verified by observation or experiment. It is also known as \\nexperimental research as it is essential to get facts firsthand , at their source, and \\nactively to go about doing certain things to stimulate the production of desired \\ninformation. Here the researcher develops a hypothesis and assimilates certain \\noutcomes to start with followed by efforts to get adequate facts (data) t o prove or \\ndisprove his hypothesis. An experimental design is then developed based on \\nvariables that can modify or concur the results to prove that he has given a valid \\nstatement. This also affirms that he has a reasonable control over the variables and \\ncan get different results by giving different values to them. Empirical research is \\nappropriate when proof is sought that certain variables affect other variables in \\nsome way. Evidence gathered through experiments or empirical studies is today \\nconsidered to be the most powerful support possible for a given hypothesis. \\n \\nCHECK YOUR PROGRESS-II \\n1. What are the characteristics of research? \\n________________________________________________________________________\\n________________________________________________________________________\\n________________________________________________________________________\\n________________________________________________________________________\\n________________________________________________________________________\\n________________________________________________________________________\\n________________________________________________________________________\\n________________________________________________________________________\\n________________________________________________________________________\\n________________________________________________________________________\\n________________________________________________________________________\\n________________________________________________________________________\\n________________________________________________________________________\\n________________________________________________________________________\\n________________________________________________________________________\\n________________________________________________________________________\\n________________________________________________________________________ '),\n",
              " Document(metadata={'source': '/content/BHM-503T.pdf', 'page': 13, 'page_label': '14'}, page_content=' \\nResearching for Hospitality and Tourism Management                               BHM-503T \\nUttarakhand Open University  14 \\n \\n2. What are the various types of research? Explain each in brief. \\n________________________________________________________________________\\n________________________________________________________________________\\n________________________________________________________________________\\n________________________________________________________________________\\n________________________________________________________________________\\n________________________________________________________________________\\n________________________________________________________________________\\n________________________________________________________________________\\n________________________________________________________________________\\n________________________________________________________________________\\n________________________________________________________________________\\n________________________________________________________________________\\n________________________________________________________________________\\n________________________________________________________________________\\n________________________________________________________________________\\n________________________________________________________________________ \\n 1.7  METHODOLOGY OF RESEARCH  \\n―Method― plainly  means a particular procedure for accomplishing or approaching \\nsomething, especially a systematic or established one. Thus m ethodology can be \\nunderstood as a set of specific procedures or techni ques used to identify, select, process, \\nand analyze information about a topic. It is the systematic, theoretical analysis of the \\nmethods applied to a field of study. It comprises the theoretical analysis of the body of \\nmethods and principles associated wit h a branch of knowledge. The most important \\nmethodological choice researchers make is based on the distinction between qualitative \\nand quantitative data i.e whether it would collect descriptive data or a quantifiable data.  \\n \\nBefore the research begins it i s important to decide the methods of data collection would \\nbe qualitative or quantitative.  Verifying existing theories or hypothesis, questioning them \\nor measurement of variables conveys that quantitative methods be adopted whereas any \\nattempt to collect statistical data, numbers or relative data means that one has t adopt \\nquantitative methods.  \\n \\nThe process of research addresses two major questions i.e. what is to be found and how it \\nis be found. It is like planning a journey where we first decide where w e are going and \\nthen we decide how we shall be travelling. We have to identify important stopovers and \\nroutes, check points, modes available to reach the destination.    \\n \\nThe steps involved in finding responses to the research questions comprise research \\nmethodology. At each operational step in the research process one is required to choose \\nfrom a variety of methods, procedures and models of research methodology which help \\nyou to best achieve the objectives. '),\n",
              " Document(metadata={'source': '/content/BHM-503T.pdf', 'page': 14, 'page_label': '15'}, page_content=' \\nResearching for Hospitality and Tourism Management                               BHM-503T \\nUttarakhand Open University  15 \\n \\nThe following aspects need to be considered to de termine the appropriate research \\nprocess: \\n\\uf0b7 Whether the research is being conducted to address a function within or an \\nexternal one?  \\n\\uf0b7 What sorts of method/s are to be used to collect data? \\n\\uf0b7 What method of analysis should be used? \\n\\uf0b7 What are the objectives?  \\n\\uf0b7 Whether the methods used are appropriate to the research?  \\n \\n1.8  FORMULATING THE RESEARCH PROBLEM \\nAccording to Bryman, Alan. ―The Research Question in Social Research: What is its \\nRole?‖ International Journal of Social Research Methodology  10 (2007);  A resea rch \\nproblem is a definite or clear expression [statement] about an area of concern, a condition \\nto be improved upon, a difficulty to be eliminated, or a troubling question that exists in \\nscholarly literature, in theory, or within existing practice that poi nts to a need for \\nmeaningful understanding and deliberate investigation. A research problem does not state \\nhow to do something, offer a vague or broad proposition, or present a value question. It is \\nnot always easy to formulate the research problem simply and clearly. It may take years to decide \\nfor some and just a few minutes for others to decide the research problem to be studied.  The \\nsocial issues may provide a broader prospect but it may not suggest a specific one. E.g. \\nunderstanding economic background of society may not address the issues of unemployment in \\nthe same society therefore unemployment needs to studied differently and individually to assess \\nthe underlying problems. The availability of resources like money, time, manpower, etc also \\naffects the selection of research problem.  \\n \\nSome sources of Research Problems may be identified as follows: \\n\\uf0b7 Personal Experiences.  \\n\\uf0b7 Media: Documentation done on various issues, live coverage, panel \\ndiscussions etc.   \\n\\uf0b7 Resources: Literature such as books, journals, n ews articles, periodicals etc \\nmay facilitate the researcher to identify a relevant problem based on the area \\nof interest.  \\n\\uf0b7 Government / Official Records : The orders passed by government. The \\ndecisions given in various cases by courts, the petitions and sur veys \\nconducted become important sources to shortlist finer prints in abrader \\nproblem.  \\n\\uf0b7 People: A group of individuals may be studied to understand how they \\nbehave, how tiny respond to a particular situation do or what responses are \\ngenerated when they are influenced from within or outside the group.  \\n\\uf0b7 Discussions: A researcher may be able to come to a conclusion to identify a \\nresearch problem by discussing the perspectives with peers, colleagues, \\nseniors in the field, guides etc.  '),\n",
              " Document(metadata={'source': '/content/BHM-503T.pdf', 'page': 15, 'page_label': '16'}, page_content=' \\nResearching for Hospitality and Tourism Management                               BHM-503T \\nUttarakhand Open University  16 \\n \\n\\uf0b7 Problems: It may be decided  to examine the existence of certain issues or \\nproblems relating to society, sciences or any subjects in reference.  \\n\\uf0b7 Programs:  These may be used to evaluate the effectiveness of an \\ninterference, involvement or intrusions.  \\n\\uf0b7 Phenomena: To establish the exis tence of regularity and to understand if a \\nprocedure would yield similar results overtime when used repetitively. This \\nincludes causes and effects and relationships between variables.  \\n\\uf0b7 Ideas from external sources.  \\n\\uf0b7 Interdisciplinary Perspectives. \\n \\nIMPORTANT CONSIDERATIONS IN SELECTING A RESEARCH PROBLEM : \\nA good problem statement begins by introducing the broad area in which your research \\nis centered, gradually leading the reader to the more specific issues you are \\ninvestigating. The statement need not be le ngthy, but a good research problem should \\nincorporate the following features: \\n1. Persuasive Topic: The problem that is taken up for research should not only be of \\nample interest to the researcher but also the one that is continuously motivating to \\nensure consistent efforts to find a solution. The significance is greatly reduced if the \\nidea is to just get some superficial knowledge about the problem and not to lead the \\nresearcher to resolve.  \\n2. Viability:  A problem that has been identified to be studied should b e decide on the \\nbasis of whether it is actually possible to be resolved , or has some previous know \\nhow to guide the researcher to move ahead. A problem which has not been foreseen \\nearlier may be selected but then the resources availability should be considered.  \\n3. The So What Test: A research problem should be able to pass the ―So What‖ test as \\nin social researches, to ascertain the meaningfulness and relevance of studying a \\nparticular problem. If the problem does not a result which may lead to further study or \\nanalysis it has be avoided.  \\nAccording to Ranjit Kumar (RM – A step by step guide)  a few more considerations that \\nassist a researcher to ensure that the study will remain manageable and that you will \\nremain motivated are:  \\na. Interest: a research endeavor  is usually time consuming, and involves hard \\nwork and possibly unforeseen problems. One should select topic of great \\ninterest to sustain the required motivation. \\nb. Magnitude: It is extremely important to select a topic that you can manage \\nwithin the time an d resources at your disposal. Narrow the topic down to \\nsomething manageable, specific and clear. \\nc. Measurement of concepts: Make sure that you are clear about the indicators \\nand measurement of concepts (if used) in your study. \\nd. Level of expertise : Make sure t hat you have adequate level of expertise for \\nthe task you are proposing since you need to do the work yourself. '),\n",
              " Document(metadata={'source': '/content/BHM-503T.pdf', 'page': 16, 'page_label': '17'}, page_content=' \\nResearching for Hospitality and Tourism Management                               BHM-503T \\nUttarakhand Open University  17 \\n \\ne. Relevance: Ensure that your study adds to the existing body of knowledge, \\nbridges current gaps and is useful in policy formulation. This will he lp you to \\nsustain interest in the study. \\nf. Availability of data : Before finalizing the topic, make sure that data are \\navailable. \\ng. Ethical issues : How ethical issues can affect the study population and how \\nethical problems can be overcome should be thoroughly examined at the \\nproblem formulating stage. \\n \\nA research problem needs a closer look into the following aspects:  \\n1. Study population: The People i.e. individuals, organizations, groups, communities as \\nthey either provide the information required or help in collecting the information about \\nthem.  \\n \\n2. Subject area: \\na) Problems: issues, situations, associations, needs, profiles etc.  \\nb) Program: content, structure, outcomes, attributes satisfactions, consumers, \\nService providers, etc. \\nc) Phenomenon: cause-and-effect relationships, the study of a phenomenon itself \\ni.e. Information that you need to collect to find answers to your research \\nquestions and anything that looks noteworthy. \\nStatement of Research Problem : A research problem statement has to be adequate as \\ndifferent people may interpret it in many ways and draw inferences that the researcher has \\nnot even thought of.  It has to be established that this statement leads only in a single \\ndirection and leads only to where one wants to reach. This would also avoid new \\ngeneralized issues arising out of the work.  \\nFor a problem statement to be effective it should have the characteristics listed below \\n(Andrew & Hildebrand 1982):  \\n1. The problem reflects felt needs \\n2. The problem is non-hypothetical, ie it must be based on factual evidence \\n3. It should suggest meaningful and testable hypotheses - to avoid answers that \\nare of little or no use to the alleviation of the problem \\n4. The problems should be relevant and manageable \\nThe problem statement is therefore a very important device for keeping you on track with your \\nresearch. It is also one means by which your research will be evaluated - does the research address \\nthe problem as stated. \\nPROCESS OF FORMULATION OF A RESEARCH PROBLEM:  An appropriate \\nstatement of research problem would need the  researcher to follow the follow certain \\nsteps to be able to arrive at the expected outcome with an addition of reasonable new \\nknowledge.  '),\n",
              " Document(metadata={'source': '/content/BHM-503T.pdf', 'page': 17, 'page_label': '18'}, page_content=' \\nResearching for Hospitality and Tourism Management                               BHM-503T \\nUttarakhand Open University  18 \\n \\n1. Developing a Conceptual Framework: The researcher has to conceptualize, identify \\nand select a broad discipline before short listing the final aspects to be studied. Then it \\nis to find out which of these aspects generate the maximum interest and lead one to \\nwork with enthusiasm and perseverance. Assimilate the set of questions that would \\naddress the problem adequately and  formulate objectives that correspond to these \\nquestions. E.g. An upcoming hotel‘s project report would be inclusive of feasibility \\nstudies, market and competitor evaluation, budgetary and human resources \\nrequirements, approvals and licensing needed.  \\n \\n2. Referring the available literature on the problem: An extensive literature reference \\nis necessary to find out the available information about the identified problem. It \\nassists in understanding the earlier work done in the similar area and prevents the \\nchances of doing a repetitive work.  It is the study of available knowledge in the field \\nand esp. in the perspective of problem stated by the researcher.   It provides a \\ndescription, summary, and critical evaluation of these works in relation to the \\nresearch problem being investigated.  To carry out review of literature, you need to \\nlocate, read and evaluate research documents, reports as well as thesis and other \\nsources of academic materials. Review done for one particular research process must \\nbe extensive and t horough because it is aimed to obtain a detailed account of the \\nproblem being studied.   \\n \\nE.g.  when it comes to resolving customer issues in a hotel the individuals come up \\nwith and resolve them in different ways as per the situation thus for someone who is \\nnew to the field may discuss and understand the nitty -gritty‘s of developing his own \\nideas to handle such issue coping up in future. The reservation manager studies the \\nhistorical occupancy patterns for the last two to three years to forecast the busine ss \\nvolumes for the coming seasons.   \\nThe reference to the available literature and the reviewing it has the following \\nadvantages:  \\na. Brings clarity and focus to the research problem; \\nAvailable literature review also helps you to clearly understand the proble m stated \\nand issue that may need extra attention during actual process.  It brings clarity and \\nobjectivity to the research problem and enables researcher to understand the \\nrelationship between the research problem and the body of knowledge in the area. \\nReviewing literature can be time -consuming, daunting and frustrating, but is also \\nrewarding.  \\n \\nb. Improves the methodology: \\nA review of literature enlightens us if others have used procedures and methods \\nsimilar to the ones that are being proposed, which procedu res and methods have \\nyielded better results, and what problems they have come across in the process. This \\nassures that the researcher would be in an advantageous position to pick a \\nmethodology capable of providing valid answers to the research questions. \\n \\n '),\n",
              " Document(metadata={'source': '/content/BHM-503T.pdf', 'page': 18, 'page_label': '19'}, page_content=' \\nResearching for Hospitality and Tourism Management                               BHM-503T \\nUttarakhand Open University  19 \\n \\nc. Expands knowledge base in the research area: \\nThis is step in the direction of the researcher becoming more aware and having in -\\ndepth knowledge in the area of research as expected once the study is completed.  It \\nprompts the researcher to read extensively about the subject area in which research \\nstudy is being conducted.  It develops the expertise of the individual to be able to \\neffectively contribute at later stages when an opportunity is available. It also helps to \\nunderstand how the findings of the study fit into the on hand body of knowledge. \\nd. Contextualizes your findings : It gives a base to add contexts to the question being \\nraised and the problem being addressed. This clears the air around whatever is \\npresented in form of findings by giving notations an d references on how it has \\nprogressed from there, what contribution has the researcher made and how the \\nfindings differ from what has already been done.  \\nProcedure for reviewing the literature: \\na) Explore the existing literature in your area of study; \\nb) Review the literature selected; \\nc) Develop a theoretical framework; \\nd) Develop a conceptual framework. \\na) Explore the available literature :  To effectively search for literature in the field of \\nenquiry, it is imperative that there is at least some idea of broad subject ar ea and of \\nthe problem that is to be investigated in order to set parameters for your search. It is \\nfollowed by compilation of a bibliography for this broad area via books, periodicals \\nand journals.  \\n \\nBOOKS: The books encompass central part of any bibliography. \\n \\nAdvantage: material published generally is of good quality and the findings are \\nintegrated with other research to form a coherent body of knowledge. \\n \\nDisadvantage: material is not completely up to date, as it can take a few years between \\nthe completion of a work and publication in the form of a book. \\n \\nResearcher has to look for books in the area of interest, prepare a final list, locate these \\nbooks in the libraries or borrow from other sources and has to examine their content.  If \\nthe content is not relevant to the topic, it should be removed from the comprehension list.  \\n \\nJOURNALS: Journals provide the most up -to-date information, even though there may \\nbe a gap of few years between the completion of a research project and its publication in a \\njournal. Similar to the referred books, you need to prepare a list of journals for identifying \\nliterature relevant to the study. This can be done by locating the hard copies of the \\njournals appropriate to the study, using the internet and by looking at the index o f \\nresearch abstracts in the relevant field to identify and read the articles. The journals have \\nto be carefully selected for relevance and appropriation to the field of study to save time \\nand resources. The content page and the abstract of the paper would give a clear idea of '),\n",
              " Document(metadata={'source': '/content/BHM-503T.pdf', 'page': 19, 'page_label': '20'}, page_content=' \\nResearching for Hospitality and Tourism Management                               BHM-503T \\nUttarakhand Open University  20 \\n \\narticle or paper of being relevant to the issue. If it is so and it has to be used, get an online \\ncopy, a photocopy or prepare a summary and record it for reference for later use. \\n \\nb) Review the literature chosen:  The selected literature has to be critically studied and \\nexamines to derive associations between the problem being studied and themes \\ndiscussed in the works done earlier.  The researcher can write down the findings \\nseparately for each of the sub areas or sub topics that seem rele vant to be complied \\nlater on. These findings may then be put into a table format based on these variables \\nor themes for easier comparison and to ease to analyze them.  As the reading and \\nreferencing progresses further, tabulate the information where it log ically belongs \\nunder the premise so far developed.  More themes or variables may be added as per \\nneed of study and availability of relevant information. It also helps i dentify areas of \\nprior scholarship to prevent duplication and give credit to other resea rchers and to \\nrecognize inconstancies: gaps in research, conflicts in previous studies, open \\nquestions left from other research. \\nRead critically with particular reference to the following aspects: \\n• Note whether the knowledge relevant to your theoretical fra mework is confirmed \\nbeyond doubt. \\n• Note the theories put forward, the criticisms of these and their basis, the \\nmethodologies adopted and the criticisms of them. \\n• Examine to what extent the findings can be generalized to other situations. Ascertain \\nthe areas in which little or nothing is known -the gaps that exist in the body of \\nknowledge. \\n \\nc) Develop a theoretical framework:  A theoretical framework consists of concepts \\nand, together with their definitions and reference to relevant scholarly literature, \\nexisting theory that is used for a particular study.  This framework must demonstrate \\nan understanding of theories and concepts that are relevant to the research study and \\nthat relate to the broader areas of knowledge being considered. \\nThe theoretical framework is ge nerally not found to be an integral part of the literature . \\nResearcher must review course readings and significant research studies for theories and \\nlogical models that are pertinent to the research problem being investigated. The selection \\nof a theory sho uld depend on its appropriateness, ease of application, and explanatory \\npower. \\nA strong theoretical framework has the following advantages: \\n1. The theoretical framework connects the researcher to existing knowledge  \\n2. A clear statement of  theoretical assumption s allows the reader to evaluate \\nthem critically. \\n3. A relevant theory provides a basis for the hypotheses and choice of research \\nmethods. \\n4. A theoretical framework specifies which key variables influence a \\nphenomenon of interest. '),\n",
              " Document(metadata={'source': '/content/BHM-503T.pdf', 'page': 20, 'page_label': '21'}, page_content=' \\nResearching for Hospitality and Tourism Management                               BHM-503T \\nUttarakhand Open University  21 \\n \\n5. It highlights the need to inspe ct how these key variables might be at variance \\nand under what conditions. \\n6. It addresses the important questions of why and how. \\n7. It permits the researcher to intellectually switch from simply describing a \\nphenomenon being observed to generalizing the varied  aspects of that \\nphenomenon. \\n8. Having a theory helps you identify the limits to the generalizations.  \\nAs researcher has limited time it is important to set parameters by reviewing the literature \\nin relation to some main themes pertinent to your research topic. As one starts reading the \\nliterature, one realizes that it deals with a number of aspects that have a direct and indirect \\nimpact on the research topic. These can be used as a base for developing the theoretical \\nframework. \\n \\nTherefore, we can conclude tha t theoretical framework and review of literature are \\ncomplementing each other. A theoretical framework cannot be developed if we do not \\nlook into the literature and inversely if we do not have a good theoretical framework; it is \\nnot possible to do an effective review of the literature. \\n \\nLiterature significant to your study may deal with two types of information: \\n\\uf0b7 Universal : Generally available and applicable \\n\\uf0b7 Specific : Applicable to issue / problem  \\nTypes of Literature:  \\nPrimary Literature: Primary sources means original study, based on direct observation, \\nuse of statistical records, interviews, or experimental methods, of actual practices or the \\nactual impact of practices or policies. They are authored by researchers, contain original \\nresearch data, and are  usually published in a peer -reviewed journal. Primary literature \\nmay also include conference papers, pre-prints, or preliminary reports.  \\nPrinted Literature Sources: \\n\\uf0fc Diaries \\n\\uf0fc Letters  \\n\\uf0fc Speeches  \\n\\uf0fc Patents \\n\\uf0fc Photographs  \\n\\uf0fc Newspaper articles \\n\\uf0fc Journal articles \\n\\uf0fc Theses and dissertations \\n\\uf0fc Survey Research (e.g., market surveys, public opinion polls) '),\n",
              " Document(metadata={'source': '/content/BHM-503T.pdf', 'page': 21, 'page_label': '22'}, page_content=' \\nResearching for Hospitality and Tourism Management                               BHM-503T \\nUttarakhand Open University  22 \\n \\n\\uf0fc Proceedings of Meetings, conferences and symposia \\n\\uf0fc Original Documents (i.e. birth certificates, wills, marriage licenses, trial \\ntranscripts) \\n\\uf0fc Autobiographies \\n\\uf0fc Correspondence: email, letters \\n\\uf0fc Descriptions of travel \\n\\uf0fc Diaries,   \\n\\uf0fc Eyewitnesses \\n\\uf0fc Oral histories \\n\\uf0fc Literary works \\n\\uf0fc Interviews \\n\\uf0fc Personal narratives \\n\\uf0fc First-hand newspaper and magazine accounts of events \\n\\uf0fc Legal cases, treaties \\n\\uf0fc Statistics, surveys, opinion polls, \\n\\uf0fc Scientific data, transcripts \\n\\uf0fc Journal articles \\n\\uf0fc Records of organizations and government agencies \\n\\uf0fc Original works of literature, art or music \\n\\uf0fc Cartoons, postcards, posters \\n\\uf0fc Records of organizations, government agencies (e.g. annual reports, treaties, \\nconstitutions, government documents) \\nElectronic Sources of Literature:  \\n\\uf0fc Internet \\n\\uf0fc E-mail communication \\n\\uf0fc Interviews (e.g., telephone, e-mail) \\n\\uf0fc Video recordings (e.g. television programs) \\n\\uf0fc Audio recordings (e.g. radio programs) \\n\\uf0fc Web sites \\n\\uf0fc Communications through social networking applications (e.g. Face book, \\nblogs, RSS, U-tube etc.) \\nSecondary Literature: Secondary literature consists of interpretations and evaluations \\nthat are derived from or refer to the primary source literature. Examples include review \\narticles (such as meta -analysis and systemat ic reviews) and reference works. \\nProfessionals within each discipline take the primary literature and synthesize, generalize, \\nand integrate new research. A secondary source of information is one that was created by \\nsomeone who did not have first-hand exper ience or did not participate in the events or \\nconditions being researched.   They are generally accounts written after the fact with the \\nbenefit of hindsight.   Secondary sources describe, analyze, interpret, evaluate, comment \\non and discuss the evidence provided by primary sources.  \\n\\uf0fc Bibliographies (also considered tertiary) '),\n",
              " Document(metadata={'source': '/content/BHM-503T.pdf', 'page': 22, 'page_label': '23'}, page_content=' \\nResearching for Hospitality and Tourism Management                               BHM-503T \\nUttarakhand Open University  23 \\n \\n\\uf0fc Biographical works \\n\\uf0fc Commentaries \\n\\uf0fc Criticisms \\n\\uf0fc Dictionaries \\n\\uf0fc Histories \\n\\uf0fc Journal articles (depending on the discipline, these can be primary) \\n\\uf0fc Magazine and newspaper articles (this distinction varies by discipline) \\n\\uf0fc Monographs, other than fiction and autobiography \\n\\uf0fc Textbooks (also considered tertiary) \\n\\uf0fc Websites (also considered primary) \\n\\uf0fc Biographies,  Encyclopaedias, dictionaries, handbooks \\n\\uf0fc Textbooks & monographs on a topic \\n\\uf0fc Literary criticism & interpretation \\n\\uf0fc History & historical criticism \\n\\uf0fc Political analyses \\n\\uf0fc Reviews of law and legislation \\n\\uf0fc Essays on morals and ethics \\n\\uf0fc Analyses of social policy \\n\\uf0fc Study and teaching material \\n\\uf0fc Articles, such as literature reviews, \\n\\uf0fc Commentaries, research articles in all subject disciplines \\n\\uf0fc Criticism of works of literature, art and music \\nTertiary Literature: Tertiary literature consists of a distillation and collection of primary \\nand secondary sources such as textbooks, encyclopaedia articles, and guidebooks or \\nhandbooks. The pur pose of tertiary literature is to provide an overview of key research \\nfindings and an introduction to principles and practices within the discipline. \\nIn writing about such information you should start with the general information, gradually \\nnarrowing down to the specific. \\n\\uf0fc Chronologies \\n\\uf0fc Classifications \\n\\uf0fc Dictionaries \\n\\uf0fc Encyclopaedias \\n\\uf0fc Directories \\n\\uf0fc Guidebooks and manuals \\n\\uf0fc Population registers statistics \\n\\uf0fc Fact books \\n\\uf0fc Abstracts \\n\\uf0fc Indexes \\n\\uf0fc Bibliographies \\n\\uf0fc Manuals/Guide books \\nWriting up the literature reviewed : In order to com ply with the first function of \\nliterature review i.e. to provide theoretical background to your study: '),\n",
              " Document(metadata={'source': '/content/BHM-503T.pdf', 'page': 23, 'page_label': '24'}, page_content=\" \\nResearching for Hospitality and Tourism Management                               BHM-503T \\nUttarakhand Open University  24 \\n \\n\\uf0b7 Enlist the main themes and give them appropriate headings that are highlighted while \\ngoing through the available literature. \\n\\uf0b7 Change the main headings int o subheadings that are precise, descriptive of the theme \\nin question, and follow a logical progression. \\n\\uf0b7 Record the significant findings under these subheading with respect to the theme in \\nquestion, highlighting the reasons for and against an argument if th ey exist, and \\nidentify gaps and issues. \\n \\nTo conform to the second function of literature review of contextualizing the findings of \\nthe study the researcher should systematically compare the findings with those made by \\nothers. Quote from these studies to sh ow how the results contradict, corroborate or add to \\nthem. It places your findings in the context of what others have found out. This function \\nis useful when writing about your findings i.e. after analysis of your data. \\n \\nTHE BIBLIOGRAPHY: The etymology of this term can be semantically traced back to \\nthe New Latin bibliographia. It is a Greek word meaning  ―copying of books.‖ \\nbibli (books) and graphia - graphy (writing) \\nThe concept was in practice by Greek writers in the first three centuries AD and was \\nreferred to as the copying of books by hand.   By the turn of 12th Century, the concept \\ntook a literal form and was referred to as the intellectual practice of compiling books and \\nmaterials. The modern day notion of bibliographies, however, only took off in the  17th \\nCentury. \\nA bibliography is a list of all of the sources you have used (whether referenced or not) in \\nthe process of researching your work. In general, a  bibliography should include: the \\nauthors' names, the titles of the works, the names and locations  of the companies that \\npublished the copies of sources. The bibliography should give a clear, complete \\ndescription of the sources that were used while preparing the report. It is an alphabetical \\nlist as per the author‘s surname. \\nStandard Bibliography Format \\nBibliography Format for a Book: A standard bibliography for a book typically consists \\nof the following information: \\na) Author(s) \\nb) Title \\nc) Publisher \\nd) Date of Publication \\nExample: Surname of author, name or two initials, Title taken from title page -underlined \\nor in italics, Edition (if more than one), volume if more than one, place of publication, \\npublishers, date on title page or copyright date. e.g. Kothari, C.R., Research Methods -\\nMethods and Techniques, 1989,New Delhi :Wiley Eastern Limited,4835/24 Ansari Road, \\nDaryaganj, New Delhi 110 006. \"),\n",
              " Document(metadata={'source': '/content/BHM-503T.pdf', 'page': 24, 'page_label': '25'}, page_content=' \\nResearching for Hospitality and Tourism Management                               BHM-503T \\nUttarakhand Open University  25 \\n \\nBibliography Format for a Periodical & Journal Article : An entry for a journal or \\nperiodical article contains the following information: \\na) Author(s) \\nb) Article Title \\nc) Journal Title \\nd) Volume Number \\ne) Pages \\nf) Date of Publication \\n \\nBibliography Format for Internet Sources: Format for internet sources usually includes \\nthe following information: \\na) Author (Website) \\nb) Article Title \\nc) Publication Information \\nd) Version \\ne) Date of Publication \\nf) Location (Digital Object Identifier – DOI or URL) \\n \\n3. The formulation of  Objectives: The objectives provide an accurate description of \\nthe specific actions you will take in order to reach the aim. An objective is measurable \\nand operational. It tells specific things you will accomplish in your project. The \\nobjective should be as clearly and crisply stated as possible. Usually only one or at the \\nmost two objectives should be taken up in one study. If there are more than two \\nobjectives, then it may be appropriate to address the additional objectives through a \\nseparate study. Objectives are the goals set out to attain in a study. \\n\\uf0b7 They inform a reader what you want to attain through the study. \\n\\uf0b7 It is extremely important to word them clearly and specifically. \\nCharacteristics of Objectives: \\n1.    Specific: Precisely what you mean to achieve.  \\n2.    Important: Indicate the relevance/importance of study. \\n3.    Measurable: What you would do/measure in terms of studying an issue. \\n4.    Practical: They should offer a solution to a problem. \\n5.    Realistic: Vague objectives should be avoided. Any objective that is not \\npractically achievable should be ignored.  \\n6.    Feasible: Researcher should be able to practice and perform as per stated \\nobjectives.   \\n7.    Evaluable: These objectives set forth for study have to be such that they \\ncan be evaluated in different situations and using tools for research.   \\nThe objectives should be SMART. \\n•    Specific \\n•    Measurable \\n•    Achievable \\n•    Relevant \\n•    Time bound '),\n",
              " Document(metadata={'source': '/content/BHM-503T.pdf', 'page': 25, 'page_label': '26'}, page_content=' \\nResearching for Hospitality and Tourism Management                               BHM-503T \\nUttarakhand Open University  26 \\n \\nObjectives should be listed under two headings: \\na) Main objectives (aims): The main objective is an overall statement or the driving \\nforce of a study. \\nIt also states the main associations and relationships that you search for and to \\ndiscover or establish the relationships. \\n \\nb) Sub-objectives: The sub-objectives are the specific aspects of the  problem or the \\nissue that is to be investigated within the main framework of your study.  \\n\\uf0b7 They should be numerically listed. \\n\\uf0b7 Wording should clearly, completely and specifically communicate the \\npurpose and intention to the researcher.  \\n\\uf0b7 Each objective should contain only one facet of the Study. \\n\\uf0b7 Use action oriented words or verbs when writing objectives. \\n \\nThe objectives should start with words such as: \\n‗to determine‘, \\n‗to find out‘, \\n‗to ascertain‘, \\n‗to measure‘, \\n‗to explore‘ etc. \\nThe wording of objectives als o helps understand and identify the type of research \\n(descriptive, co relational and experimental) and the type of research design you need to \\nadopt to achieve them.  \\n \\nFor Example:  \\nDescriptive studies: \\n\\uf0b7 To describe the types of incentives provides by Hotel  XYZ to employees in \\nMumbai. \\n\\uf0b7 To find out the opinion of the employees about the medical facilities provided by \\nfive star hotels in Mumbai. \\nCo relational studies: \\n\\uf0b7 To ascertain the impact of training on employee retention. \\n\\uf0b7 To compare the effectiveness of different loyalty programmes on repeat clientele. \\nHypothesis –testing studies: \\n\\uf0b7 To ascertain if an increase in working hours will increase the incidence of \\ndrug/alcohol abuse. \\n\\uf0b7 To demonstrate that the provision of company accommodation to employees in \\nMumbai hotels will reduce staff turnover. \\n \\nIt is important to assure that variability of understanding of an issue by respondents is \\nreduced to a minimum by being clear about what is being asked and what the probable '),\n",
              " Document(metadata={'source': '/content/BHM-503T.pdf', 'page': 26, 'page_label': '27'}, page_content=' \\nResearching for Hospitality and Tourism Management                               BHM-503T \\nUttarakhand Open University  27 \\n \\nresponses are.  If the respondents are confused or have too many options to choose from \\nthe study shall become extensive and at time uncontrolled thus affecting the outcome.  \\n \\nWhen people communicate their views, feelings or preferences, it is usually on the basis \\nof certain beliefs and guidelines prese t in their minds. The conclusion is based upon \\nindicators that lead them to develop and express a certain opinion. But all this needs \\nclarity in understanding the pros and cons, the rights and wrongs, advantages or \\ndisadvantages so that the conclusion deri ved may be justified.  Thus, variables that may \\naffect a particular decision have to be measurable with being knowledgeable at the same \\ntime.  \\nFor example: \\n\\uf0b7 ‗Jet Airways‘ is a perfect example of quality cabin service. \\n\\uf0b7 Food in this restaurant is excellent. \\n\\uf0b7 The young generation in India is getting more prosperous in shorter times. \\n \\nDefining a Variable : An image, perception or concept that can be measured; hence \\ncapable of taking on different values - is called a variable. A variable is also defined as \\nanything that has a quantity or quality that varies.  \\n \\nTypes of Variables:  \\n\\uf0b7 The dependent variable is the variable a researcher is interested in.  \\n\\uf0b7 An independent variable is a variable believed to affect the dependent variable.  \\n\\uf0b7 Confounding variables are defined as interference caused by another variable. \\n \\nThe difference between a concept and a variable : Concepts are mental images or \\nperceptions and therefore everyone may develop a different view or perception about the \\nsame issue.  A concept cannot be measured wher eas a variable can be subjected to \\nmeasurement by crude/refined or subjective/objective units of measurement. It is \\ntherefore important for the concept to be converted into variables. Concepts are highly \\nsubjective in nature and that makes it difficult to use them ―as they are” in a research \\nstudy. These subjective thoughts cannot be measured on a statistical scale. Kumar (2000) \\nsays that concepts are mental images and therefore their meanings vary markedly from \\nindividual to individual. Concepts are subjective impressions and their understanding will \\ndiffer from person to person, which, if measured, would cause problems in comparing \\nresponses. Concepts should be converted into variables so that they can be measured, \\nalthough on different scales same variable will have different precision. \\nIf the researcher is using some concepts in his research he needs to find out some \\nindicators that are reflective of these concepts. These indicators can be chosen \\nsubjectively by the researcher but they should have a logical link with the concept. The \\nindicators can then be converted into variables. \\nConcepts, indicators and variables: If a concept has to be used in a study for inference \\nwe have to find out how will it be measured and what shall be the indicators used so that '),\n",
              " Document(metadata={'source': '/content/BHM-503T.pdf', 'page': 27, 'page_label': '28'}, page_content=' \\nResearching for Hospitality and Tourism Management                               BHM-503T \\nUttarakhand Open University  28 \\n \\nthe information can be converted into variables. The choice of indicators for a concept \\nmight vary with researchers, but those selected must have a logical link with the concept. \\n \\nMeasurement Scales: The greater the refinement in the unit of measurement of a \\nvariable, the greater the confidence, other things being equal , one can place in the \\nfindings. \\n \\nS. S. Stevens has classified the different types of into four categories: \\n• Nominal or classificatory scale \\n• Ordinal or ranking scale \\n• Interval scale \\n• Ratio scale \\n \\nThe nominal or classificatory scale : A nominal scale enables the classification of \\nindividuals, objects or responses into subgroups based on a common/shared property or \\ncharacteristic. A variable measured on a nominal scale may have one, two or  more \\nsubcategories depending upon the extent of variation. \\n \\nFor example, the variable ― gender‖ can be classified into two sub -categories: male and \\nfemale. ‗Hotels‘ can be classified into sub -categories like Luxury, Medium or \\nEconomical based on service of fered by the hotel. The sequence in which subgroups are \\nlisted makes no difference as there is no relationship among subgroups. \\n \\nThe ordinal or ranking scale : Besides categorizing individuals, objects, responses or a \\nproperty into subgroups on the basis of common characteristic, it ranks the subgroups in a \\ncertain order. \\n \\nThey are arranged either in ascending or descending order according to the extent a \\nsubcategory reflects the magnitude of variation in the variable. For example, ‗income‘ can \\nbe measured e ither quantitatively (in rupees and paisa) or  qualitatively using \\nsubcategories ‗above average‘, ‗average‘ and ‗below average‘. The ‗distance‘ between \\nthese subcategories are not equal as there is no quantitative unit of measurement. \\n‗Socioeconomic status‘ and ‗attitude‘ are other variables that can be measured on ordinal \\nscale. \\n \\nThe interval scale : An interval scale has all the characteristics of an ordinal scale. In \\naddition, it uses a unit of measurement with an arbitrary starting and terminating points.  \\nFor example: Measuring the temperatures:  \\nCelsius scale: 0°C to 100°C \\nFahrenheit scale: 32°F to 212°F \\nAttitudinal scales: 10-20 , 21-30, 31-40 etc \\n \\nThe ratio scale: A ratio scale has all the properties of nominal, ordinal and interval scales \\nplus its own property: the zero point of a ratio scale is fixed, which means it has a fixed \\nstarting point. Since the difference between intervals is always measured from a zero \\npoint, this scale can be used for mathematical operations. The measurement of variables '),\n",
              " Document(metadata={'source': '/content/BHM-503T.pdf', 'page': 28, 'page_label': '29'}, page_content=' \\nResearching for Hospitality and Tourism Management                               BHM-503T \\nUttarakhand Open University  29 \\n \\nlike income, age, height and weight are examples of this scale. A person who is 40 year \\nold is twice as old as one who is 20 year old. \\n \\nCHECK YOUR PROGRESS-III \\n1. Define Variable? \\n________________________________________________________________________\\n________________________________________________________________________\\n________________________________________________________________________\\n________________________________________________________________________\\n________________________________________________________________________\\n________________________________________________________________________\\n________________________________________________________________________\\n________________________________________________________________________\\n________________________________________________________________________\\n________________________________________________________________________\\n________________________________________________________________________\\n________________________________________________________________________ \\n \\n2. How you will ensure accuracy in measuring a variable? \\n________________________________________________________________________\\n________________________________________________________________________\\n________________________________________________________________________\\n________________________________________________________________________\\n________________________________________________________________________\\n________________________________________________________________________\\n________________________________________________________________________\\n________________________________________________________________________\\n________________________________________________________________________\\n________________________________________________________________________\\n________________________________________________________________________\\n________________________________________________________________________\\n________________________________________________________________________\\n________________________________________________________________________ \\n1.8  PREPARING THE RESEARCH DESIGN \\nResearch design is the conceptual structure within which research would be conducted. \\nThe function of research design is to provide for the collection of releva nt information \\nwith smallest possible input in terms of effort, time and money .  According to Green and \\nTull ―A  research is the specification of methods and procedures for acquiring the \\ninformation needed. It is the overall operational pattern or framework  of the project that \\nstipulates what information is to be collected from which sources by what procedures‖ . \\nThe preparation of research design, appropriate for a particular research problem, \\ninvolves the consideration of the following: '),\n",
              " Document(metadata={'source': '/content/BHM-503T.pdf', 'page': 29, 'page_label': '30'}, page_content=' \\nResearching for Hospitality and Tourism Management                               BHM-503T \\nUttarakhand Open University  30 \\n \\n1. Objectives of the research study. \\n2. Methods of Data Collection to be adopted \\n3. Sources of information—Sample Design \\n4. Tools for Data collection \\n5. Data Analysis Tools : qualitative and quantitative \\n1.8.1  Research Design \\nResearch Design is important as it guides the researcher to identify the correct methods of \\ndata collection and analysis, conditions in which the activity of research shall be carried \\nout and approximation of the funds to be utilized for it; maintaining its connectivity to the \\npurpose of research. A good research design is characterized by its flexibility, \\neffectiveness and suitability etc.  \\n \\nA properly developed research design is the one that results in minimal or no error at all \\nif everything goes as planned for. It is important to have clarity of the research questi on \\nfor the objectives to be achieved. Therefore researcher may have to create mix of various \\ndesign approaches to create a suitable one for the problem being addressed.  \\n1.8.2  Need of Research Design \\n\\uf0b7 It facilitates the smooth sailing of the various research operations, thereby \\nmaking research as efficient as possible yielding maximal information with \\nminimal expenditure of effort, time and money. \\n\\uf0b7 It reduces inaccuracy; \\n\\uf0b7 It helps to get maximum efficiency and reliability; \\n\\uf0b7 It eliminates bias and marginal errors; \\n\\uf0b7 Research design stands for advance planning of the method too be adopted for \\ncollecting the relevant data and the techniques to be used in their analysis, \\nkeeping in view the objective of the research and the availability of staff, time \\nand money. \\n\\uf0b7 It minimizes wastage of time; \\n\\uf0b7 It is helpful for collecting research materials; \\n\\uf0b7 It is helpful for testing of hypothesis; \\n\\uf0b7 It gives an idea regarding the type of resources required in terms of money, \\nmanpower, time, and efforts; \\n\\uf0b7 It Provides an overview to other experts; \\n\\uf0b7 It Guides the research in the right direction. \\n1.8.3  Properties/Characteristics of good Research Design \\nIn the view of various definition of research design, the following characteristics are \\nfound. '),\n",
              " Document(metadata={'source': '/content/BHM-503T.pdf', 'page': 30, 'page_label': '31'}, page_content=' \\nResearching for Hospitality and Tourism Management                               BHM-503T \\nUttarakhand Open University  31 \\n \\nObjectivity: Objective findings may be achieved by allowing more than one person to \\nagree between the final scores/ conclusion of the research. \\n\\uf0b7 Reliability: Researcher should ensure that research questions are framed \\njudiciously to make it reliable and provide similar outcomes. Thus the results \\nobtained should be similar if the research is conducted in identical conditions \\nand is repeated time and again.  E.g. A Guest Comments Card contains the \\nsame set of questions and responses for all the guests staying at the hotel and \\nit is suitably placed on the st udy table in a guest room allowing each guest to \\ntake time and fill the data.  \\n\\uf0b7 Generalization: The information collected from given sample must be \\nutilized for providing a general application to the large group of which the \\nsample is drawn. \\n\\uf0b7 Ethical:  It should be acceptable and be free of practices or procedures that \\nmay not be honest or may give error /bias.  \\n\\uf0b7 It should be proficient in obtaining the most reliable and valid data; \\n\\uf0b7 A good research design should be able to address any situation wherein any \\nunexpected events can be accommodated. ; \\n\\uf0b7 It also helps a researcher arriving at flawed / misunderstood conclusions; \\n\\uf0b7 It can adequately control the various threats of validity, both internal and \\nexternal. \\n1.8.4  Types of Research Designs \\nResearch design can be a quantitative or qualitative research with have extensive \\ncomponents. They can both be used or applied distinctively or together. \\n \\nQuantitative Research design: A quantitative research design  shares similar \\ncharacteristics with a scientific research in the following ways: \\n\\uf0b7 An outline question stating the problem that needs to be solved. \\n\\uf0b7 Has a set order and procedure used to answer these questions? \\n\\uf0b7 Analyses the data generated. \\n\\uf0b7 Draws its conclusion after the data has been collated and analyzed so that the \\nconclusion drawn from the findings are not predetermined. \\nA quantitative research design is used to examine the relationship between variable by \\nusing numbers and statistics to explain and analyze its findings and there are four types of \\nquantitative research design: \\n \\n1. Descriptive design research : As the name implies, it is intended to describe the \\npresent status of an issue or a problem which is analyzed based on the available data \\nand so does not require hypothesis to begin with.  E.g. If a  guest is complaining about '),\n",
              " Document(metadata={'source': '/content/BHM-503T.pdf', 'page': 31, 'page_label': '32'}, page_content=' \\nResearching for Hospitality and Tourism Management                               BHM-503T \\nUttarakhand Open University  32 \\n \\na faulty shower in the bathroom just because he may not have used a modular shower \\nearlier has to be resolved delicately and not by pointing out to him that he is not aware \\nof new technology.  \\n \\n2. Co relational design research: This seeks to discove r if two variables are associated \\nor related in some way, using statistical analysis, while observing the variable. E.g. If \\nthe heat is reduced or increased during cooking how does the food react to it.  \\n \\n3. Experimental design research: This is a method used  to establish a cause and effect \\nrelationship between two variables or among a group of variables. The independent \\nvariable is manipulated to observe the effect on the depended variable. E.g.  The \\nchange in response to between groups of foreigners treated to welcome drinks and \\nfreshener tissues and the one that is simply welcomed and allocated rooms in a hurry \\ndue to peak hours of check in and check out.  \\n \\n4. Quasi-experimental design research : As the name suggests such an experiment is \\ndesigned replicating th e true experimental design, except that it does not use \\nrandomized sample groups. Also, it is used when a typical research design is not \\npracticable. \\n \\nQualitative Research Design : Qualitative research design, on the other hand, is \\nexploratory in nature as it tries to discover not guess the conclusion. It seeks to answer the \\nquestions what and how. It is a process to identify or develop a hypothesis that is further \\ntested using other techniques.  \\n \\nA qualitative research design  is used to explore the meaning and understanding of \\ncomplex social environments, like the nature of experiences gained by a tourist by \\nreading about the texts and stories shared by them.  It also intends to understand, describe \\nor discover the findings. The researcher is usually the pri mary instrument that formulates \\nthe question and interprets the meaning of a data. The data used are mostly documented \\nwords from interview, newspapers videos etc. More than one type of data is collected \\nduring this research, from the field, where the part icipants are. In other words, the \\nresearch goes beyond the intended scope, so making it emergent because the method of \\nresearch changes and different types of data might be collected as the research goes on. \\n1.8.5 Steps in developing a research design \\n1. Classify the intended outcome i.e. what needs to be understood. \\n2. Develop the research question. \\n3. Understand what needs to be measured. \\n4. Select the population as per the study taken up. \\n5. Identify the ideal data collection method.  \\n6. Construct interconnected characteristics.  \\n7. Use correct analysis tools.  \\n8. Decide how the findings of the study shall be published.    \\n '),\n",
              " Document(metadata={'source': '/content/BHM-503T.pdf', 'page': 32, 'page_label': '33'}, page_content=' \\nResearching for Hospitality and Tourism Management                               BHM-503T \\nUttarakhand Open University  33 \\n \\nHYPOTHESIS: A hypothesis is an educated guess, based on the probability of an \\noutcome. Scientists formulate hypotheses after they understand all the current research on \\ntheir subject. Hypotheses specify the relationship between at least two variables, and are \\ntestable. For a hypothesis to function properly, other researchers must be able to \\nreproduce the results that prove or disprove it.  \\n \\nTwo types of hypotheses exist: a descriptive hypothesis asks a question, and a directional \\nhypothesis makes a statement.  The researcher does not  know about a phenomenon, but \\nhas an intuition to form the basis of certain assumption or guesses. T hese are tested by \\ncollecting information that will enable you to conclude if your assumption was correct. \\nA hypothesis is used in an experiment to define the relationship between two  variables. \\nThe purpose of a hypothesis is to find the answer to a question. A formalized hypothesis \\nwill force us to think about what results we should look for in an experiment. \\nThe first variable is called the  independent variable. This is the part of the experiment \\nthat can be changed and tested. The independent variable happens first and can be \\nconsidered the cause of any changes in the outcome. The outcome is called \\nthe dependent variable.  \\n \\nThe verification process can have one of the three outcomes. Your assumption may prove \\nto be: \\n1. Right; \\n2. Partially right; or \\n3. Wrong. \\n \\nThe validity of such assumptions or guesses cannot be conclusively verified if the process \\nadopted is incorrect.  Therefore , a hypotheses is a hunch, assumption, suspicion, \\nassertion or an idea about a  phenomenon, relationship or situation, the reality or truth of \\nwhich you do not  know. A researcher calls these assumptions/ hunches hypotheses and \\nthey become the basis of an enquiry. In most studies the hypotheses will be based upon \\nyour own or someone else‘s observation.  \\n \\nA researcher may carry out a valid investigation into a pro blem without construction of a \\nhypothesis though it brings clarity, specificity and focus to a research problem.  \\n \\nThe six most common forms of hypotheses are: \\n1. Simple Hypothesis. \\n2. Complex Hypothesis. \\n3. Empirical Hypothesis. \\n4. Null Hypothesis (Denoted by \"HO\") \\n5. Alternative Hypothesis (Denoted by \"H1\") \\n6. Logical Hypothesis. \\n7. Statistical Hypothesis. \\n '),\n",
              " Document(metadata={'source': '/content/BHM-503T.pdf', 'page': 33, 'page_label': '34'}, page_content=' \\nResearching for Hospitality and Tourism Management                               BHM-503T \\nUttarakhand Open University  34 \\n \\nA hypothesis is either a suggested explanation for an observable phenomenon, or a \\nreasoned prediction of a possible causal correlation among multiple phenomena.  \\nIn science, a  theory is a tested, well -substantiated, unifying explanation for a set of \\nverified, proven factors. \\n \\nIf enough evidence accumulates to support a  hypothesis, it moves to the next step — \\nknown as a  theory — in the scientific method and  becomes accepted a s a valid \\nexplanation of a phenomenon. Tanner further explained that a scientific  theory is the \\nframework for observations and facts. \\nCharacteristics & Qualities of a Good Hypothesis \\n\\uf0b7 Power of Prediction. One of the valuable attribute of a good hypothesis i s to \\npredict for future. \\n\\uf0b7 Closest to observable things. A hypothesis must have close contact with \\nobservable things.  \\n\\uf0b7 Simplicity.  \\n\\uf0b7 Clarity. \\n\\uf0b7 Testability. \\n\\uf0b7 Relevant to Problem. \\n \\nA working hypothesis is a hypothesis that is provisionally accepted as a basis for further \\nresearch in the hope that a tenable theory will be produced, even if the  \\nhypothesis ultimately fails. \\n \\nThe general functions of hypotheses: \\nDevelopment of Research Techniques \\nSeparating Relevant From Irrelevant Observation \\nSelecting Required Facts \\nDirection of Research \\nActs as a Guide \\nPrevents Blind Research \\nAccuracy & Precision \\nLink between Theory & Investigation \\nLink between Assumption & Observation \\nProvide answer for a Question \\nSave Time, Money & Energy \\n \\nProper Data Collection \\n• Proper Conclusion \\n• A proper formulated hypothesis may lead to a good reasonable, utilized and proper \\nconclusion. If the hypothesis is better than the conclusions drawn by a researcher \\nwould be better for solution of a problem. \\n• The formulation of hypothesis provides a study with focus. It tells you what specific \\naspects of a research problem to investigate. '),\n",
              " Document(metadata={'source': '/content/BHM-503T.pdf', 'page': 34, 'page_label': '35'}, page_content=' \\nResearching for Hospitality and Tourism Management                               BHM-503T \\nUttarakhand Open University  35 \\n \\n• A hypothesis tells you what data to collect and what not to collect, thereby providing \\nfocus to the study. \\n• As it provides a focus, the construction of a hypothesis enhances  objectivity in a \\nstudy. \\n• A hypothesis may enable you to add to the formulation of a theory. It enables you to \\nspecifically conclude what is true or what is false. \\n \\nCHECK YOUR PROGRESS-IV \\n1. Define research design? \\n________________________________________________________________________\\n________________________________________________________________________\\n________________________________________________________________________\\n________________________________________________________________________\\n________________________________________________________________________\\n________________________________________________________________________\\n________________________________________________________________________\\n________________________________________________________________________\\n________________________________________________________________________\\n________________________________________________________________________\\n________________________________________________________________________\\n________________________________________________________________________ \\n \\n2. Write a note on ‗Hypothesis‘. \\n________________________________________________________________________\\n________________________________________________________________________\\n________________________________________________________________________\\n________________________________________________________________________\\n________________________________________________________________________\\n________________________________________________________________________\\n________________________________________________________________________\\n________________________________________________________________________\\n________________________________________________________________________\\n________________________________________________________________________\\n________________________________________________________________________\\n________________________________________________________________________\\n________________________________________________________________________\\n________________________________________________________________________ \\n1.11 SUMMARY \\nResearch is a process to discover new knowledge  to find answers to a question. The word \\nresearch has two parts re (again) and search (find) which denote that we are taki ng up an \\nactivity to look into an aspect once again or we want to look for some new information '),\n",
              " Document(metadata={'source': '/content/BHM-503T.pdf', 'page': 35, 'page_label': '36'}, page_content=' \\nResearching for Hospitality and Tourism Management                               BHM-503T \\nUttarakhand Open University  36 \\n \\nabout something. Clifford Woody states that research comprises defining and redefining \\nproblems, formulation of hypothesis; collection, organizing and evaluatio n of data; and \\nreaching conclusions. Characteristics of research determine whether a research is free of \\nbiases, prejudices, and subjective errors or not.  Research can be classified into various \\ncategories depending on the perspective under which the rese arch activity is initiated and \\nconducted. Before the research begins it is important to decide the methods of data \\ncollection would be qualitative or quantitative.  Verifying existing theories or hypothesis, \\nquestioning them or measurement of variables con veys that quantitative methods be \\nadopted whereas any attempt to collect statistical data, numbers or relative data means \\nthat one has t adopt quantitative methods.  \\n \\nAccording to Bryman, Alan. ―The Research Question in Social Research: What is its \\nRole?‖ International Journal of Social Research Methodology  10 (2007);  A research \\nproblem is a definite or clear expression [statement] about an area of concern, a condition \\nto be improved upon, a difficulty to be eliminated, or a troubling question that exists in \\nscholarly literature, in theory, or within existing practice that points to a need for \\nmeaningful understanding and deliberate investigation. A research problem does not state \\nhow to do something, offer a vague or broad proposition, or present a value q uestion. It is \\nnot always easy to formulate the research problem simply and clearly. It may take years to \\ndecide for some and just a few minutes for others to decide the research problem to be \\nstudied.  The social issues may provide a broader prospect but it may not suggest a \\nspecific one. E.g. understanding economic background of society may not address the \\nissues of unemployment in the same society therefore unemployment needs to studied \\ndifferently and individually to assess the underlying problems. The availability of \\nresources like money, time, manpower, etc also affects the selection of research problem. \\n1.12 GLOSSARY \\nApplied / Decisional Research: Applied research  is done on the basis of pure or \\nfundamental research to solve specific, practical questi ons; for policy formulation, \\nadministration and understanding of a phenomenon.  \\n \\nBibliography: A bibliography is a list of all of the sources you have used (whether \\nreferenced or not) in the process of researching your work.  \\n \\nCo relational design research : This seeks to discover if two variables are associated or \\nrelated in some way, using statistical analysis, while observing the variable. E.g. If the \\nheat is reduced or increased during cooking how does the food react to it.  \\n \\nConceptual research is assoc iated to some theoretical idea(s) or presupposition and is \\ngenerally used by philosophers and thinkers to develop new concepts or to get a better \\nunderstanding of an existing concept in practice.  \\n \\nDescriptive design research: As the name implies, it is in tended to describe the present \\nstatus of an issue or a problem which is analyzed based on the available data and so does \\nnot require hypothesis to begin with.  E.g. If a  guest is complaining about a faulty shower '),\n",
              " Document(metadata={'source': '/content/BHM-503T.pdf', 'page': 36, 'page_label': '37'}, page_content=' \\nResearching for Hospitality and Tourism Management                               BHM-503T \\nUttarakhand Open University  37 \\n \\nin the bathroom just because he may not ha ve used a modular shower earlier has to be \\nresolved delicately and not by pointing out to him that he is not aware of new technology.  \\nDescriptive Research : This attempts to explain a situation, problem, phenomenon, \\nservice or programme, or provides inform ation viz. living condition of a community, or \\ndescribes attitudes towards an issue but this is done systematically.  It is used to answer \\nquestions of who, what, when, where, and how associated with a \\nparticular research question or problem. \\n \\nDeveloping a Conceptual Framework:  The researcher has to conceptualize, identify \\nand select a broad discipline before short listing the final aspects to be studied. Then it is \\nto find out which of these aspects generate the maximum interest and lead one to work \\nwith enthusiasm and perseverance.  \\n \\nEmpirical research draws together the data based on experience or observation alone, \\noften without due regard for system and theory.  \\n \\nEmpirical: The processes adopted should be tested for the accuracy and each step should \\nbe coherent in progression. This means that any conclusions drawn are based upon firm \\ndata gathered from information collected from real life experiences or observations.   \\n \\nExperimental design research : This is a method used to establish a cause and effect \\nrelationship between two variables or among a group of variables. The independent \\nvariable is manipulated to observe the effect on the depended variable. E.g.  The change \\nin response to between groups of foreigners treated to welcome drinks and freshener \\ntissues and the one that is simply welcomed and allocated rooms in a hurry due to peak \\nhours of check in and check out.  \\n \\nExplanatory: is the research whose primary purpose is to explain why events occur, to \\nbuild, elaborate, extend or test a theory. It is more concerned with showcasing, explaining \\nand presenting what we already have.  \\n \\nExploratory Research:  Exploration has been the human kind‘s passion since the time \\nimmemorial. Looking out for new things, new destinations, new food, and new cultures \\nhas been the basis of most tourist and travel journeys.  \\n \\nGeneralised:  The researcher usually divides the identified population into smaller \\nsamples depending on the resource availability at the time of research being conducted. \\nThis sample is understood to be the appropriate representative of the identified population \\ntherefore the findings should also be applicable to and representative of the entire \\npopulation.  \\n \\nGovernment / Official Records: The orders passed by government. The decisions given \\nin various cases by courts, the petitions and surveys conducted become important sources \\nto shortlist finer prints in abrader problem.  \\n '),\n",
              " Document(metadata={'source': '/content/BHM-503T.pdf', 'page': 37, 'page_label': '38'}, page_content=' \\nResearching for Hospitality and Tourism Management                               BHM-503T \\nUttarakhand Open University  38 \\n \\nHypothesis: A hypothesis is an informed and educated prediction or explanation about \\nsomething. Part of the research process involves  testing the  hypothesis, and then \\nexamining the results of these tests as they relate to both the hypothesis and the world \\naround you.  \\n \\nMeasurement Scales: The greater the refinement in the unit of measurement of a \\nvariable, the greater the confidence, other things being equal , one can place in the \\nfindings. \\n \\nMedia: Documentation done on various issues, live coverage, panel discussions etc. \\n \\nObjective:  The objectives provide an accurate description of the specific actions you \\nwill take in order to reach t he aim. An objective is measurable and operational. It tells \\nspecific things you will accomplish in your project.  \\n \\nPeople: A group of individuals may be studied to understand how they behave, how tiny \\nrespond to a particular situation do or what responses  are generated when they are \\ninfluenced from within or outside the group.  \\n \\nPrimary Literature: Primary sources means original study, based on direct observation, \\nuse of statistical records, interviews, or experimental methods, of actual practices or the \\nactual impact of practices or policies. They are authored by researchers, contain original \\nresearch data, and are usually published in a peer -reviewed journal. Primary literature \\nmay also include conference papers, pre-prints, or preliminary reports.  \\n \\nPure / Basic / Fundamental Research: As the term suggests a research activity taken up \\nto look into some aspects of a problem or an issue for the first time is termed as basic or \\npure. \\n \\nQualitative research, on the other hand, is concerned with qualitative phe nomenon, i.e., \\nphenomena relating to or involving quality or kind. E.g. studying the stress levels and \\nreasons for variable performances of staff in different shifts in the same department of a \\nhotel. The same individuals may perform differently with the c hange of shift timings. It \\ncan involve performing research about changing preferences of customers as per the \\nchange of season.  \\n \\nQuantitative research  is based on the measurement of quantity or amount. It is \\napplicable to phenomena that can be expressed i n terms of quantity. E.g. Studying the \\nnumber of enquiries received for room bookings through different modes like internet, \\nemails, calls, letters, or different sources like travel and tours operators, companies and \\ngovernment organizations etc.  \\n \\nQuasi-experimental design research : As the name suggests such an experiment is \\ndesigned replicating the true experimental design, except that it does not use randomized \\nsample groups. Also, it is used when a typical research design is not practicable. \\n '),\n",
              " Document(metadata={'source': '/content/BHM-503T.pdf', 'page': 38, 'page_label': '39'}, page_content=' \\nResearching for Hospitality and Tourism Management                               BHM-503T \\nUttarakhand Open University  39 \\n \\nReliability refers to the quality of a measurement procedure that provides repeatability \\nand accuracy. This is understood by the example of preparing the bill of purchase using a \\nsoftware which has inbuilt details of taxes and charges levied, the formulas to be used and \\na format in which it would be printed. This ensures that all the bills shall have values \\ncalculated as per standard set.   \\n \\nResearch Design: Research Design is important as it guides the researcher to identify the \\ncorrect methods of data collection and analysis, conditions in which the activity of \\nresearch shall be carried out and approximation of the funds to be utilized for it; \\nmaintaining its connectivity to the purpose of research. A good research design is \\ncharacterized by its flexibility, effectiveness and suitability etc.  \\n \\nResearch: Research is a process to discover new knowledge  to find answers to a \\nquestion. The word research has two parts re (again) and search (find) which denote that \\nwe are taking up an activity to look into an aspect once again or we want to look for some \\nnew information about something.  \\n \\nResources: Literature such as books, journals, news articles, periodicals etc may facilitate \\nthe researcher to identify a relevant problem based on the area of interest. \\n \\nSecondary Literat ure: Secondary literature consists of interpretations and evaluations \\nthat are derived from or refer to the primary source literature. Examples include review \\narticles (such as meta -analysis and systematic reviews) and reference works. \\nProfessionals within each discipline take the primary literature and synthesize, generalize, \\nand integrate new research. A secondary source of information is one that was created by \\nsomeone who  did not have first-hand experience or did not participate in the events or \\nconditions being researched.   They are generally accounts written after the fact with the \\nbenefit of hindsight.   \\n \\nTertiary Literature: Tertiary literature consists of a distillation and collection of primary \\nand secondary sources such as textbooks, encyclopaedia  articles, and guidebooks or \\nhandbooks.  \\n \\nThe interval scale : An interval scale has all the characteristics of an ordinal scale. In \\naddition, it uses a unit of measurement with an arbitrary starting and terminating points. \\n \\nThe nominal or classificatory sc ale: A nominal scale enables the classification of \\nindividuals, objects or responses into subgroups based on a common/shared property or \\ncharacteristic. A variable measured on a nominal scale may have one, two or more \\nsubcategories depending upon the extent of variation. \\n \\nThe ordinal or ranking scale : Besides categorizing individuals, objects, responses or a \\nproperty into subgroups on the basis of common characteristic, it ranks the subgroups in a \\ncertain order. \\n '),\n",
              " Document(metadata={'source': '/content/BHM-503T.pdf', 'page': 39, 'page_label': '40'}, page_content=' \\nResearching for Hospitality and Tourism Management                               BHM-503T \\nUttarakhand Open University  40 \\n \\nThe ratio scale: A ratio scale has all the properties of nominal, ordinal and interval scales \\nplus its own property: the zero point of a ratio scale is fixed, which means it has a fixed \\nstarting point. Since the difference between intervals is always measured from a zero \\npoint, this scale can be use d for mathematical operations. The measurement of variables \\nlike income, age, height and weight are examples of this scale. A person who is 40 year \\nold is twice as old as one who is 20 year old. \\n \\nValidity means that correct procedures have been applied to find answers to a question. If \\na large plot of land has to be measured the results should be same whether we use a meter \\nscale or a measuring tape once we put the values obtained; in the formula being used to \\ncalculate the area.   \\n \\nVariable: An image, perception or concept that can be measured; hence capable of taking \\non different values - is called a variable. A variable is also defined as anything that has a \\nquantity or quality that varies.  \\n1.13 REFERENCES/BIBLIOGRAPHY \\n \\n\\uf0b7 Kumar Ranjit: Research Methodology: A Step by Step Guide for Beginners, Sage \\nPublication, 2014. \\n\\uf0b7 Kothari C.R. : Research Methodology, New Age International, 2011. \\n\\uf0b7 Shajahan S. : Research Methods for Management, 2004. \\n\\uf0b7 Thanulingom N : Research Methodology, Himalaya Publishing \\n\\uf0b7 C. Rajendar Kumar : Research Methodology , APH Publishing \\n\\uf0b7 J. R. Brent Ritchie , Charles R. Goeldner : Travel, Tourism, and Hospitality \\nResearch: A Handbook for Managers and Researchers, Wiley Publishers  \\nPublishers Ltd, UK \\n1.14 SUGGESTED READINGS  \\n \\n\\uf0b7 Kumar Ranjit: Research Methodology: A Step by Step Guide for Beginners, Sage \\nPublication, 2014. \\n\\uf0b7 Kothari C.R. : Research Methodology, New Age International, 2011. \\n\\uf0b7 Shajahan S. : Research Methods for Management, 2004. \\n\\uf0b7 Thanulingom N : Research Methodology, Himalaya Publishing \\n\\uf0b7 C. Rajendar Kumar : Research Methodology , APH Publishing \\n\\uf0b7 J. R. Brent Ritchie , Charles R. Goeldner : Travel, Tourism, and Hospitality \\nResearch: A Handbook for Managers and Researchers, Wiley Publishers  \\nPublishers Ltd, UK \\n1.15 TERMINAL QUESTIONS  \\n1. Define research? '),\n",
              " Document(metadata={'source': '/content/BHM-503T.pdf', 'page': 40, 'page_label': '41'}, page_content=' \\nResearching for Hospitality and Tourism Management                               BHM-503T \\nUttarakhand Open University  41 \\n \\n2. List different types of research. Explain each with suitable examples. \\n3. What are the characteristics of research? Explain each with illustrations. \\n4. What do you mean by term ‗reliability‘? \\n5. What do you mean by term ‗validity‘? \\n6. Distinguish between: \\na. Pure and Applied Research \\nb. Structured Approach and Un-structured Approach \\nc. Reliability and Validity  \\nd. Descriptive and Analytical Research \\ne. Quantitative Research and Qualitative Research \\nf. Nominal Scale and Ratio Scale \\n7. What do you mean by research methodology? \\n8. What do you mean by Hypothesis? \\n9. What are different types of hypothesis? \\n10. Define Variable? \\n11. What do you mean by Measuring Variable? \\n12. List the categorical scales of measuring variables. \\n \\n \\n \\n \\n \\n \\n \\n \\n \\n \\n \\n \\n \\n \\n \\n \\n '),\n",
              " Document(metadata={'source': '/content/BHM-503T.pdf', 'page': 41, 'page_label': '42'}, page_content=' \\nResearching for Hospitality and Tourism Management                               BHM-503T \\nUttarakhand Open University  42 \\n \\nUNIT 2 \\nSAMPLING DESIGN  \\nAND  \\nDATA COLLECTION \\nStructure  \\n 2.1 Introduction \\n 2.2 Objectives \\n 2.3  Meaning of sampling \\n   2.3.1 Sampling Design \\n   2.3.2 Characteristics of Sampling Design \\n 2.4  Types of sample design.  \\n 2.5  Data in research \\n   2.5.1  Importance of accuracy in Data Collection \\n   2.5.2  Types of data \\n   2.5.3  Methods of collecting primary data \\n   2.5.4   Sources of secondary data \\n 2.6 Summary \\n 2.7 Glossary \\n 2.8 References/Bibliography \\n 2.9 Suggested Readings \\n 2.10 Terminal Questions \\n2.1  INTRODUCTION \\nSampling is a process used in statistical analysis in which a prede termined number of \\nobservations are taken from a larger population. The methodology used to sample from a \\nlarger population depends on the type of analysis being performed but may include \\nsimple random sampling or systematic sampling. \\n2.2 Objectives \\nAfter reading this unit the learner will be able to:  \\n\\uf0b7 Understand the meaning of sampling \\n\\uf0b7 Understand sampling Design \\n\\uf0b7 Understand characteristics of Sampling Design \\n\\uf0b7 Understand aims in selection a sample  \\n\\uf0b7 Understand the various types of sample design.  \\n\\uf0b7 Understand role of data in research \\n\\uf0b7 Understand Types of data '),\n",
              " Document(metadata={'source': '/content/BHM-503T.pdf', 'page': 42, 'page_label': '43'}, page_content=' \\nResearching for Hospitality and Tourism Management                               BHM-503T \\nUttarakhand Open University  43 \\n \\n\\uf0b7 Understand various m ethods of collecting primary data -observation, \\ninterview and questionnaire \\n\\uf0b7 Understand Sources of secondary data. \\n2.3 MEANING OF SAMPLING  \\nAs per Merriam Webster Dictionary it is the act, p rocess, or technique of selecting a \\nrepresentative part of a population for the purpose of determining parameters or \\ncharacteristics of the whole population.  Sampling is a process used in statistical analysis \\nin which a predetermined number of observations  are taken from a larger population. The \\nmethodology used to sample from a larger population depends on the type of analysis \\nbeing performed but may include simple random sampling or systematic sampling. \\n2.3.1  Sampling Design  \\nThis is identified as a fixed plan or system to enable a researcher to obtain data in smaller \\nsizes from parts of a larger population known as samples. It also includes the modules, \\ntechniques or procedures to be used in identifying the items for the sample. Sample \\ndesign also define s the number of items to be included in the sample i.e., the size of the \\nsample. Sample design is determined before data is collected. The choice of determining \\nsampling design depends on the individual and the type of research undertaken.  \\nResearcher must select/prepare a sample design which should be reliable and appropriate \\nfor the research study. \\n2.3.2  Characteristics of a Good Sample Design \\n1. Proportional: Sample design must result in a truly representative sample. This means \\nthat the sample selected sh ould be exactly or almost similar to the population it \\nrepresents I terms of data and characteristics.  \\n \\n2. Error Free:  Sample design should reduce the probability of errors. The minimum \\nnumbers of errors in any sample ensure correct data obtained and analyzed. \\n \\n3. Budgeted:  Sample design must be practical and be within the limits of funds \\navailable for the research study. \\n \\n4. No Bias: Sample design should be able to control systematic bias.  \\n \\n5. Generalization of Results : Sample should be such that the results of the  sample \\nstudy can be applied, in general, for the universe with a reasonable level of \\nconfidence. \\n \\nWhile developing a sampling design, the researcher must pay attention to the following \\npoints: \\n \\ni. Type of universe: The accuracy of the results in any study de pends on how \\nclearly the universe or population of interest is defined. The universe can be '),\n",
              " Document(metadata={'source': '/content/BHM-503T.pdf', 'page': 43, 'page_label': '44'}, page_content=' \\nResearching for Hospitality and Tourism Management                               BHM-503T \\nUttarakhand Open University  44 \\n \\nfinite or infinite, depending on the number of items it contains.  Clearly \\ndefinining the set of objects; in principle called the Universe, to be studied. \\nThe universe can be finite or infinite. In finite universe the number of items is \\ncertain, but in case of an infinite universe the number of items is infinite, i.e., \\nwe do not have any idea about the total number of items. The total number of \\nemployees in a hotel, the number of covers in a restaurant is example of finite \\nuniverses, whereas the number of guests arriving in a particular business \\nseason, number of persons visiting a food festival, throwing of a dice etc. is \\nexample of infinite universes. \\n \\nii. Sampling unit:  The sampling unit can be anything that exists within the \\npopulation of interest. An assessment has to be taken with reference to a \\nsampling unit before selecting sample. Sampling unit may be: \\n \\n\\uf0b7 A constructed unit such as Hotel, Restaurant, etc., \\n\\uf0b7 A social unit such as a college, community club, school, etc. \\n\\uf0b7 An individual.  \\n\\uf0b7 A geographical one such as state, district, village, etc.,  \\n \\niii. Source list: It is also known as ‗sampling frame‘ from which sample is to be \\ndrawn. It contains the names of all items of a fin ite universe. If source list is \\nnot available, researcher has to prepare it. Such a list should be \\ncomprehensive, correct, reliable and appropriate. It is extremely important for \\nthe source list to be as representative of the population as possible. \\n \\niv. Size: The sample size should be justified, not be excessively large nor it \\nshould be too small. Preferably the sample size should be optimal which \\nfulfills the requirements of efficiency, representativeness, reliability and \\nflexibility and representative of the  population to obtain dependable \\noutcomes. Population variance, population size, parameters of interest, and \\nbudgetary constraints are some of the factors that impact the sample size. \\n \\nThis refers to the number of items to be selected from the universe to \\nconstitute a sample which at times may be an important issue for a researcher.  \\nWhile deciding the size of sample, researcher must determine the desired \\nprecision as also an acceptable confidence level for the estimate. A larger \\nvariance usually needs a bi gger sample size to assure correct results. The \\nparameters of interest in a research study must be kept in view, while deciding \\nthe size of the sample.  \\n \\nv. Consideration of interest: In determining the sample design, one must \\nconsider the question of the spe cific population stricture which is of interest. \\nE.g. we may calculate the number of walk in guest‘s from total arrivals at a \\nhotel on daily basis to understand the proportion and then to leave an \\noptimum number of unreserved rooms everyday for such guest.  \\n '),\n",
              " Document(metadata={'source': '/content/BHM-503T.pdf', 'page': 44, 'page_label': '45'}, page_content=' \\nResearching for Hospitality and Tourism Management                               BHM-503T \\nUttarakhand Open University  45 \\n \\nvi. Budgetary limitation: Funds available guide us to decide the size, variation \\nand quantum of samples. This fact can even lead to the use of a non -\\nprobability sample. \\n \\nvii. Sampling procedure: Finally, the researcher must decide the type of sample \\nhe will use i.e., he must decide about the technique to be used in selecting the \\nitems for the sample. In fact, this technique or procedure stands for the sample \\ndesign itself. An ideal design is the one that for a given sample size and for a \\ngiven cost, has a smaller sampling error. \\n \\nCHECK YOUR PROGRESS-I \\n1. Define sampling? \\n________________________________________________________________________\\n________________________________________________________________________\\n________________________________________________________________________\\n________________________________________________________________________\\n________________________________________________________________________\\n________________________________________________________________________\\n________________________________________________________________________\\n________________________________________________________________________\\n________________________________________________________________________\\n________________________________________________________________________\\n________________________________________________________________________\\n________________________________________________________________________\\n________________________________________________________________________\\n________________________________________________________________________ \\n \\n2. Write a note on ‗Characteristics of good sample design‘. \\n________________________________________________________________________\\n________________________________________________________________________\\n________________________________________________________________________\\n________________________________________________________________________\\n________________________________________________________________________\\n________________________________________________________________________\\n________________________________________________________________________\\n________________________________________________________________________\\n________________________________________________________________________\\n________________________________________________________________________\\n________________________________________________________________________\\n________________________________________________________________________\\n________________________________________________________________________\\n________________________________________________________________________\\n________________________________________________________________________\\n________________________________________________________________________ '),\n",
              " Document(metadata={'source': '/content/BHM-503T.pdf', 'page': 45, 'page_label': '46'}, page_content=' \\nResearching for Hospitality and Tourism Management                               BHM-503T \\nUttarakhand Open University  46 \\n \\n2.4 TYPES OF SAMPLE DESIGNS \\n \\nNon-probability sampling: Non-probability sampling is a sampling technique where the \\nsamples are gathered in a process that does not give all the individuals in the population \\nequal chances of being selected.  A core characteristic of non -probability sampling \\ntechniques is that samples are selected based on the  subjective judgment  of the \\nresearcher. It is also known as deliberate sampling, purposive sampling and judgment \\nsampling.  \\n\\uf0a7 With non -probability sampling methods, we do not know the probability  that each \\npopulation element will be chosen, and/or we cannot be sure that each population \\nelement has a non-zero chance of being chosen. \\nThe choice of researcher is considered to be the topmost in priority. The sample \\nconstruction depends upon purposive selection i.e. deliberate and is such that it represents \\nthe entire population in that smallest unit.   \\n \\nThis offers the advantages of convenience and cost but the disadvantage is that non -\\nprobability sampling methods do not allow the estimation of the ext ent to which sample \\nstatistics are possibly varying from population parameters.  \\n \\nE.g. To study the average spending or average number of days stayed by tourists visiting \\nreligious destinations  the researcher has the freedom to choose destinations and sta te \\nthem to be representative of all other religious destinations.  \\n \\nProbability sampling: This Sampling technique uses randomization to make sure that \\nevery element of the population gets an equal chance to be part of the selected sample. It‘s \\nalternatively known as ‗random sampling‘ or ‗chance sampling‘. Selection of winner of a \\nlottery selected through mechanical process gives all ticket holders an equal chance of \\nwinning.  \\n\\uf0a7 With probability sampling methods, each population element has a known (non -zero) \\nchance of being chosen for the sample. \\nA facility to measure the errors of estimation or the significance of results obtained from \\na random sample by providing same chance to all options proves that random sampling \\ndesign is better than deliberate sampling  design. The law of Statistical Regularity which \\nstates that if on an average the sample chosen is a random one, the sample will have the \\nsame composition and characteristics as the universe is truly applied here. This is the \\nreason why random sampling is considered as the best technique of selecting a \\nrepresentative sample. \\n \\na) It gives each element in the population an equal probability of getting into the sample; \\nand all choices are independent of one another. \\nb) It gives each possible sample combination an equal probability of being chosen. '),\n",
              " Document(metadata={'source': '/content/BHM-503T.pdf', 'page': 46, 'page_label': '47'}, page_content=' \\nResearching for Hospitality and Tourism Management                               BHM-503T \\nUttarakhand Open University  47 \\n \\nNon-Probability Sampling Methods: Voluntary and convenience samples are two major \\ntypes discussed here. . \\n\\uf0a7 Voluntary Sampling: This constitutes of people who have keen interest in the topic \\nof survey being conducted and are themselves getting involved to contribute as \\nrespondents.   \\n \\nE.g. for a survey or online poll being conducted on a social site like Facebook attracts \\nvolunteers with common interests and they participate in it.   \\n\\uf0a7 Convenience Sampling : A convenience sample consists of people who are easily \\napproachable and can be reached out to in shorter time. \\nE.g. To study the popularity of handmade products or traditional goods the researcher \\nmay choose to visit a local fair where it is easy to reach out to buyers of such  goods \\nand services.  \\nProbability Sampling Methods : The main types of probability sampling methods are \\nsimple random sampling, stratified sampling, cluster sampling, multistage sampling, and \\nsystematic random sampling. The basic advantage of probability sampling methods is that \\nthey assure that the sample chosen is representative of the population thereby ensuring \\nthat the statistical conclusions stand valid. \\n\\uf0a7 Simple random sampling . Simple random sampling refers to any sampling method \\nthat has the following properties.  \\n\\uf0b7 The population consists of N objects. \\n\\uf0b7 The sample consists of n objects. \\n\\uf0b7 If all possible samples of n objects are equally likely to occur, the sampling method \\nis called simple random sampling. \\nThere are many ways to obtain a simple random samp le. One way would be the lottery \\nmethod. Each of the N population members is assigned a unique number. The numbers \\nare placed in a bowl and thoroughly mixed. Then, a blind -folded researcher selects n \\nnumbers. Population members having the selected numbers are included in the sample. \\n\\uf0a7 Stratified sampling. With stratified sampling, the population is divided into groups, \\nbased on some characteristic. Then, within each group, a probability sample (often a \\nsimple random sample) is selected. In stratified sampling , the groups are \\ncalled strata.  \\nE.g. For a survey carried our across a state the population may be divided age wise \\ninto groups or strata, like infants, children, minors, adolescents, teenagers, adults, etc. \\nWithin each stratum, we might randomly select survey respondents.  \\n\\uf0a7 Cluster sampling. With cluster sampling, every member of the population is assigned \\nto one, and only one, group. Each group is called a cluster. A sample of clusters is '),\n",
              " Document(metadata={'source': '/content/BHM-503T.pdf', 'page': 47, 'page_label': '48'}, page_content=' \\nResearching for Hospitality and Tourism Management                               BHM-503T \\nUttarakhand Open University  48 \\n \\nchosen, using a probability method (often simple random sampling). Only individuals \\nwithin sampled clusters are surveyed. \\nWith stratified sampling, the sample includes elements from each stratum. With cluster \\nsampling, in contrast, the sample includes elements only from sampled clusters. \\n\\uf0a7 Multistage Sampling : In this metho d of sampling, we select a sample by using \\ncombinations of more than one sampling method.  \\n\\uf0a7 For example, in Stage 1, we might use cluster sampling to choose clusters from a \\npopulation. Then, in Stage 2, we might use simple random sampling to select a subset  \\nof elements from each chosen cluster for the final sample.  \\n\\uf0a7 Systematic Random Sampling: This begins with creation of a list of each member of \\nthe population. From the list, we randomly select the first sample element from the \\nfirst k elements on the popul ation list. Thereafter, we select every  kth element on the \\nlist.  \\nThis method is different from simple random sampling since every possible sample of  n \\nelements is not equally likely. \\nProblem: Reservation Manager is conducting a satisfaction survey, sampli ng from a list \\nof 10,000 new guests in various hotels. The list includes 2,500 guests from the Marriotts, \\n2,500 guests from the Marriott‘s, 2,500 guests from the Taj Hotels, 2,500 guests from the \\nITC Group buyers, and 2,500 guests from the Best Western Group. He selects a sample of \\n400 room guests, by randomly sampling 100 guests of each brand. \\nIs this an example of a simple random sample? \\na) Yes, because each guest in the sample was randomly sampled. \\nb) Yes, because each guest in the sample had an equal chance of being sampled.  \\nc) Yes, because guest of each brand was equally represented in the sample.  \\nd) No, because every possible 400 guest sample did not have an equal chance of being \\nchosen.  \\ne) No, because the population consisted of purchasers of four different brands of hotels. \\nSolution \\nThe correct answer is (D). A  simple random sample  requires that every  sample of \\nsize n (in this problem,  n is equal to 400) has an equal chance of being selected. In this \\nproblem, there was a 100 percent chance that the sample would include 100 guests of \\neach brand of hotel. There was zero percent chance that the sample would include,  for \\nexample, 99 Taj Guests, 101 Marriott Guests, 100 ITC Guests, and 100 Best Western \\nGuests. Thus, all possible samples of size 400 did not have an equal chance of being \\nselected; so this cannot be a simple random sample. '),\n",
              " Document(metadata={'source': '/content/BHM-503T.pdf', 'page': 48, 'page_label': '49'}, page_content=' \\nResearching for Hospitality and Tourism Management                               BHM-503T \\nUttarakhand Open University  49 \\n \\nThe fact that each guest in the sample was randomly sampled is a necessary condition for \\na simple random sample, but it is not sufficient. Similarly, the fact that each guest in the \\nsample had an equal chance of being selected is characteristic of a simple random sample, \\nbut it is not su fficient. The sampling method in this problem used random sampling and \\ngave each guest an equal chance of being selected; but the sampling method was \\nactually stratified random sampling. \\nThe fact that hotel guests of each of the brands were equally represented in the sample is \\nirrelevant to whether the sampling method was simple random sampling. Similarly, the \\nfact that population consisted of guests of different hotel brands is irrelevant. \\n2.5  DATA IN RESEARCH \\n \\nData collection  is the process of gathering and measuring information on targeted \\nvariables in an established systematic fashion, which then enables one to answer relevant \\nquestions and evaluate outcomes. Data collection is a component of research in all fields \\nof study including physical and social sciences, humanities, and business. It is a \\ncomponent of research in all fields of study including  physical and social \\nsciences, humanities, and business. \\n \\nWhile methods differ by discipline, the importance of collecting accurate and honest data \\nremains in place. The goal for all data collection is to capture quality evidence that allows \\nanalysis to lead to the formulation of convincing and credible answers to the questions \\nthat have been posed. \\n \\n2.5.1 Importance of accuracy in Data Collection \\n\\uf0b7 Despite the variation of the field of study or preference for defining data \\n(quantitative or qualitative), accurate data collection is essential to maintaining the \\nintegrity of research.  \\n\\uf0b7 Both the selection of appropriate data collection instruments (existing, modified, or \\nnewly developed) and clearly delineated instructions for their correct use reduce the \\nlikelihood of errors occurring. \\n\\uf0b7 A formal data collection process is necessary as i t ensures that the data gathered are \\nboth defined and accurate and that subsequent decisions based on arguments \\nembodied in the findings are valid. \\n\\uf0b7 The process provides both a baseline from which to measure and in certain cases an \\nindication of what to improve. \\n \\nConsequences from improperly collected data include: \\n\\uf0b7 Inability to answer research questions accurately; \\n\\uf0b7 Inability to repeat and validate the study. \\n\\uf0b7 distorted findings resulting in wasted resources '),\n",
              " Document(metadata={'source': '/content/BHM-503T.pdf', 'page': 49, 'page_label': '50'}, page_content=' \\nResearching for Hospitality and Tourism Management                               BHM-503T \\nUttarakhand Open University  50 \\n \\n\\uf0b7 misleading other researchers to pursue fruitless avenues of investigation \\n\\uf0b7 compromising decisions for public policy \\n\\uf0b7 causing harm to human participants and animal subjects \\n2.5.2 Types of Data \\na) Primary Data: Primary data means original data that has been  collected specially for \\nthe purpose in mind. It means someone collected the data from the original source first \\nhand. Data collected this way is called primary data. The people who gather primary data \\nmay be an authorized organization, investigator, enumerator or they may be just someone \\nwith a clipboard. Tho se who gather primary data may have knowledge of the study and \\nmay be motivated to make the study a success. These people are acting as a witness so \\nprimary data is only considered as reliable as the people who gathered it. \\n \\nb) Secondary Data: Refers to data which is collected by someone who is someone other \\nthan the user.  Common sources of secondary data for  social science  include censuses, \\ninformation collected by government departments, organizational records and data that \\nwas originally collected for ot her research purposes.  Secondary data analysis can save \\ntime that would otherwise be spent collecting data and, particularly in the case \\nof quantitative data , can provide larger and higher -quality databases that would be \\nunfeasible for any individual resea rcher to collect on their own. In addition, analysts of \\nsocial and economic change consider secondary data essential, since it is impossible to \\nconduct a new survey that can adequately capture past change and/or developments. \\nHowever, secondary data analys is can be less useful in marketing research, as data may \\nbe outdated or inaccurate.  \\n2.5.3 Methods of Primary Data Collection \\nPrimary data is collected by:  \\n\\uf0b7 Observation method \\n\\uf0b7 Survey Method \\n\\uf0b7 Contact Method \\n\\uf0b7 Experimental method \\n \\nOBSERVATION METHOD:  This is co mmonly used in behavioral sciences. It is the \\ngathering of primary data by investigator‘s own direct observation of relevant people, \\nactions and situations without asking the respondent. E.g. \\n• A hotel chain sends observers posing as guests into its coffee  shop to check on \\ncleanliness and customer service. \\n• A food service operator sends researchers into competing restaurants to learn menu \\nitems prices, check portion sizes and consistency and observe point -of purchase \\nmerchandising. '),\n",
              " Document(metadata={'source': '/content/BHM-503T.pdf', 'page': 50, 'page_label': '51'}, page_content=' \\nResearching for Hospitality and Tourism Management                               BHM-503T \\nUttarakhand Open University  51 \\n \\n• A restaurant evaluates  possible new locations by checking out locations of competing \\nrestaurants, traffic patterns and neighborhood conditions. \\n \\nObservation can yield information which people are normally unwilling or are unable to \\nprovide the responses . e.g. Observing numerous  plates containing leftover / not eaten \\nportions for a particular menu item indicates that food is not satisfactory. \\n \\nTypes of Observation: \\n\\uf0b7 Structured – for descriptive research \\n\\uf0b7 Unstructured - for exploratory research \\n\\uf0b7 Participant Observation \\n\\uf0b7 Non- participant observation \\n\\uf0b7 Disguised observation \\nLimitations: Because of these limitations, researchers often supplement observation with \\nsurvey research. \\n\\uf0b7 Feelings, beliefs and attitudes that motivate buying behavior and infrequent behavior \\ncannot be observed. \\n\\uf0b7 Expensive. \\n \\nSURVEY METHOD : This approach is most suited for gathering descriptive \\ninformation. \\n\\uf0b7 Structured Surveys: Using formal lists of questions asked to all respondents in an \\nidentical set. \\n \\n\\uf0b7 Unstructured Surveys : The interviewer probes the respondents and guid es the \\ninterview according to their answers. E.g. Debates on political issues on Television \\nChannels. \\n\\uf0b7 Direct Approach: The researcher asks direct questions about behaviors and thoughts. \\ne.g. Why don‘t you eat at MacDonald? \\n \\n\\uf0b7 Indirect Approach : The researche r might ask: ―What kind of people eat at \\nMacDonald‘s?‖ \\nFrom the response, the researcher may be able to discover why the consumer avoids \\nMacDonald‘s. It may suggest factors of which the consumer is not consciously aware. \\n \\nAdvantages: \\n\\uf0b7 Can be used to collect different kinds of information at same time.  \\n\\uf0b7 Quick and low cost as compared to observation and experimental method. \\n \\nLimitations: \\n\\uf0b7 Respondent‘s reluctance to answer questions asked by unknown interviewers about \\nthings they consider private. '),\n",
              " Document(metadata={'source': '/content/BHM-503T.pdf', 'page': 51, 'page_label': '52'}, page_content=' \\nResearching for Hospitality and Tourism Management                               BHM-503T \\nUttarakhand Open University  52 \\n \\n\\uf0b7 Respondents may refuse to share time showing to be busy.  \\n\\uf0b7 Respondents may try to please only by sharing positive responses. \\n\\uf0b7 Respondents may be unable to answer because they cannot remember or never gave a \\nthought to what they do and why.  \\n\\uf0b7 Respondents may answer in order to look smart or well informed. \\n \\nCONTACT METHODS: Mail Questionnaires: \\nAdvantages: \\n\\uf0b7 Can be used to collect large amounts of information at a low cost per respondent. \\n\\uf0b7 Respondents may give more honest answers to personal questions on a mail \\nquestionnaire. \\n\\uf0b7 No interviewer is involved to bias the respondent‘s answers. \\n\\uf0b7 Convenient for respondent‘s who can answer when they have time. \\n\\uf0b7 Good way to reach people who often travel. \\nLimitations: \\n\\uf0b7 Not flexible. \\n\\uf0b7 Take longer to complete than telephone or personal interview. \\n\\uf0b7 Response rate is often very low. \\n\\uf0b7 Researcher has no control over who answers. \\n \\nb. Telephone Interviewing: \\nAdvantages: \\n\\uf0b7 Quick method \\n\\uf0b7 More flexible as interviewer can explain questions not understood by the respondent \\n\\uf0b7 Depending on respondent‘s answer they can skip some Qs and probe more on others \\n\\uf0b7 Allows greater sample control \\n\\uf0b7 Response rate tends to be higher than mail \\nLimitations: \\n\\uf0b7 Cost per respondent higher \\n\\uf0b7 Some people may not want to discuss personal Qs with interviewer \\n\\uf0b7 Interviewer‘s manner of speaking may affect the respondent‘s answers \\n\\uf0b7 Different interviewers may interpret and record response in a variety of ways \\n\\uf0b7 Under time pressure, data may be entered without actually interviewing \\n \\ng. Personal Interviewing: \\nIt is very flexible and can also be used to collect lar ge amounts of information. Skilled \\ninterviewers are able to keep the respondent attentive and clarify difficult questions in \\ncase of a doubt. They can guide interviews, explore issues, and probe as the situation \\ndemands. Personal interview can be used in a ny type of questionnaire and can be \\nconducted fairly quickly. \\n '),\n",
              " Document(metadata={'source': '/content/BHM-503T.pdf', 'page': 52, 'page_label': '53'}, page_content=' \\nResearching for Hospitality and Tourism Management                               BHM-503T \\nUttarakhand Open University  53 \\n \\nThe responses, behavior and reactions can be put on record by the interviewer by making \\nthe products readily available, displays at convenient locations, by use of advertisements \\nand packaging. \\n \\nTypes of Interviewing:  \\na. Intercept interviewing: It is an integral part of tourism research. It allows researcher \\nto reach known people in a shorter durations but at the same time it reaches out to \\nrespondents whose details are not known.  The interviewer  has to make an effort to \\ngain attention and cooperation from respondents to assure apt responses. The \\ninterviews can be conducted at different locations like residences, offices, public \\nspaces, shopping destinations etc. The interviewer uses own judgement to identify the \\nrespondents depending on convenience and may also offer some compensations if the \\ninteraction is prolonged.  \\nLimitations: \\n\\uf0b7 Interviewer may be forceful in getting responses modified as per the objectives of \\nstudy.  \\n\\uf0b7 There is possibility of an error and bias on the part of the interviewer who may not be \\nable to correctly judge the religion, age, race etc. \\n\\uf0b7 Interviewer may be uncomfortable talking to certain ethnic or age groups. \\n \\nb. Focus Group Interviewing: As the term suggests it is conducted wit hin selected \\ngroup of respondents where the strength of the group is choice of the interviewer. \\nUsually such activity is regulated by a trained moderator who can keep the group \\nengaged from a few minutes to a few hours. The atmosphere is kept cool and the \\nrespondents may be offered snacks or tea/coffee etc to keep them interested. The \\nmoderator needs objectivity, knowledge of the subject and industry, and some \\nunderstanding of group and consumer behavior. The process begins with a broad \\nquestion before moving to more specific issues, encouraging open and easy discussion \\nto bring out true feelings and thoughts i.e. moving from broader issue to specific ones \\nthus justifying the name focus group interviewing technique.  \\n \\nSuch activity helps in identifying issue s and subjects which may later be used in \\nconduct of study at larger scales or in case of direct interviews that are structured. The \\nresponses are recorded and noted to analyze them at later stages.  \\n \\nThis method is especially suited for managers of hotels  and restaurants, who have \\neasy access to their customers. e.g. Some hotel managers often invite a group of hotel \\nguests from a particular market segment to have a free breakfast with them. Managers \\nget the chance to meet the guests and discuss what they l ike about the hotel and what \\nthe hotel could do to make their stay more enjoyable and comfortable. The guests \\nappreciate this recognition and the manager gets valuable information. Restaurant \\nmanagers use the same approach by holding discussion meetings over lunch or dinner. \\n '),\n",
              " Document(metadata={'source': '/content/BHM-503T.pdf', 'page': 53, 'page_label': '54'}, page_content=' \\nResearching for Hospitality and Tourism Management                               BHM-503T \\nUttarakhand Open University  54 \\n \\nLimitations: \\n• High cost.  \\n• Sampling is difficult \\n• Interviewer bias. \\n \\nEXPERIMENTAL METHOD : It is also named as Empirical Research or Cause and \\nEffect Method, it is a data -based research, resulting in conclusions that can be verified \\nwith o bservation or experiment.  Experimental research is appropriate when proof is \\nsought that certain variables affect other variables in some way.  E.g.  \\n• Tenderizers (independent variable) effect on cooking time and texture of meat \\n(dependent variable). \\n• The effect of substituting one ingredient in whole or in part for another such as soya \\nflour to flour for making high protein bread. \\n• Developing recipes to create new products. \\nThe researcher exercises controls over the variables and conditions of experiments of  \\nstudy and may use deliberate modification.  A guess or a working hypothesis is developed \\nbefore the study commences.  The effort is the made to gather data an facts to approve or \\ndisapprove this hypothesis during the course of study.  \\n \\n―Evidence gathered through experimental or empirical studies today is considered to be \\nthe most powerful support possible for a given hypothesis‖. Lowe, Belle; 1958, \\nExperimental Cookery, John Willey & Sons, New York, pp 34-46.  \\n \\nTOOLS FOR DATA COLLECTION : Selecting a resear ch instrument to gather \\nrelevant information from the respondents is important to the study objectives. The \\nfamous saying about computers- ―garbage in garbage out‖ is applicable for data collection \\nalso. A research tool gives desired input for the  study an d therefore the quality and \\nvalidity of the output i.e. the findings is exclusively dependent on it. \\n \\nConstructing a Research Tool: \\nStep I:  Clearly define and individually list all the specific objectives or research \\nquestions for study. \\nStep II:  For each objective or research questions, list all the associated questions that \\nneed to be answered through the study. \\nStep III: List the information required to answer the research questions formulated.  \\nStep IV: Formulate questions to acquire such information. \\nA. Questionnaire: \\nStructured surveys/ interviews make the use of a questionnaire. It consists of a set of \\nquestions presented to a respondent for answers.  The respondents read the questions, \\ninterpret what is expected and then write down the answers themselves. \\n '),\n",
              " Document(metadata={'source': '/content/BHM-503T.pdf', 'page': 54, 'page_label': '55'}, page_content=' \\nResearching for Hospitality and Tourism Management                               BHM-503T \\nUttarakhand Open University  55 \\n \\nIt is called an Interview Schedule when the researcher asks the questions (and if \\nnecessary, explains them) and records the respondent‘s reply on the interview schedule. \\nBecause there are many ways to ask questions, the questionnaire is very flexible.  \\nQuestionnaire should be developed and tested carefully before being used on a large  \\nscale. \\n \\nThere are three basic types of questionnaire:  \\ni. Closed ended Questionnaire:  \\n• Closed ended questions include all possible answers/prewritten response categories, \\nand respondents are asked to choose among them e.g. multiple choice questions, scale \\nquestions \\n• Type of questions used to generate statistics in quantitative research. \\n• As these follow a set format, and most responses can be entered easily into a \\ncomputer for ease of analysis, greater numbers can be distributed. \\n \\nii. Open ended Questionnaire : Open-ended questions allow respondents to answer in \\ntheir own words. \\n• Questionnaire does not contain boxes to tick but instead leave a blank section for the \\nrespondent to write an answer. \\n• Whereas closed –ended questionnaires might be used to find out how many people \\nuse open-ended questionnaires might be used to find out what people think about a \\nservice. \\n• As there are no standard answers to these questions, data analysis is more complex. \\n• As it is opinions which are sought rather than numbers, fewer questionnaires need to \\nbe distributed. \\n \\n•  Combination of Closed and Open Ended Questionnaire: Such questionnaire is \\nused to find out how many people use a particular service and what they think of the \\nservice in the same form. It begins with a series of closed –ended questions, with \\nboxes to tick or scales to rank, and then finish with a section of open -ended questions \\nor more detailed response. The users of particular brand of tea may be asked about the \\nnumber of tines they drink tea, the average quantity used at home in one month, and \\nalso what they think of quality and taste.  \\nHow to construct questionnaires: \\na. Appropriate wording and structure of questions.  \\n• Questions should be kept short and simple.  \\n• Do not ask two or more questions by framing single one. E.g. asking a walk in guest \\nhis name and type of room required at the same time. Requesting the above \\ninformation in two questions is easier.   \\n• Never use negative questions which have not in them as it is confusing for respondent \\nto agree or disagree. Eg. I think you would not like to have tea in this hot weather?  \\n• Question should not contain Prestige Bias  – causing embarrassment or forcing the \\nrespondent to give false answer in order to l ook good e.g. questions about educational \\nqualifications or income.  '),\n",
              " Document(metadata={'source': '/content/BHM-503T.pdf', 'page': 55, 'page_label': '56'}, page_content=' \\nResearching for Hospitality and Tourism Management                               BHM-503T \\nUttarakhand Open University  56 \\n \\n• Always use indirect questions for sensitive issues as respondents can relate their \\nanswer to other people. \\n• Using closed- ended questions:  try to make sure that all possible answers are c overed \\nso that respondents are not constrained in their answer. ―Don‘t know‖ category also \\nneeds to be added. \\n• Avoid Leading Question: Don‘t lead the respondent to answer in a certain way. e.g. \\n―How often do you wash your car?‖ assumes that respondent has a  car and he washes \\nhis car. Instead, ask a filter question to find if he has a car, and then, ‗If you wash \\nyour car, how many times a year?‘ \\n \\nb.  Length and ordering of the Questions: \\n• Keep the questionnaire as short as possible. \\n• Ask easy questions that respondents take pleasure in answering. \\n• If combined questionnaire, place open ended questions at the end. \\n• Make questions as interesting as possible and easy to follow by varying type and \\nlength of question. \\n• Group the questions as per specific topic to be easily understood and followed. \\n• Layout and spacing is important as cluttered questionnaire is less likely to be \\nanswered. \\n \\nPiloting the Questionnaire : The questionnaire before being finalized should be cross \\nchecked with peers, managers etc. Thereafter questionna ire must be piloted i.e. it should \\nbe tested to see if it is obtaining the results as per objectives or not. This is done by asking \\npeople to read it through and see if there are any ambiguities which you have not noticed. \\nThey should also be asked to comm ent about the length, structure and wording of the \\nquestionnaire. Alter the questions accordingly.  \\n \\nCOLLECTING DATA:  Data Collection becomes important once the other critical \\nissues like hypothesis, objectives, research problem, sampling design, location,  and \\npopulation for study are addressed. This data gives the inputs from which the inferences \\nare drawn leading to conclusive findings. Depending upon your plans, you might \\ncommence interviews, mail out a questionnaire, conduct experiments and/or make \\nobservations.  \\n \\nCollecting data through involves ethical issues in relation to the participants and the \\nresearcher: \\n• Those from whom information is collected or those who are studied by a researcher \\nbecome participants of the study. \\n• Anyone who collects informat ion for a specific purpose, adhering to the accepted \\ncode of conduct, is a researcher. \\nEthical issues concerning research participants:  \\na. Safety of respondents: During the course of collecting information the respondents \\nshould not be subjected to unnecessa ry harassment, anxiety, or putting them through '),\n",
              " Document(metadata={'source': '/content/BHM-503T.pdf', 'page': 56, 'page_label': '57'}, page_content=' \\nResearching for Hospitality and Tourism Management                               BHM-503T \\nUttarakhand Open University  57 \\n \\nexperiments including hazards, discomfort, demeaning or dehumanizing procedures \\netc.  \\n \\nb. Permission or consent: It is important for respondents to be free and under no \\npressure to participate in a study being c onducted. The information that is sought \\nshould be first assessed to be ethical. The respondent should be able to give an \\ninformed consent. This will lead to honesty on part of the respondent and the \\nresearcher. We should inform the respondents about the t ype of data or information \\nbeing sought, the purpose of such study, and how the respondent can get involved in \\nthe study. \\n \\nc.  Incentives: The data collected does not need to be exchanged for a price as this \\ndeters or de -motivates the respondents to participa te in a research study. Offering \\nincentives, gifts, etc for seeking information is unethical and equivalent to bribing.  \\n \\nd.  Sensitive Information: Certain types of information can be regarded as sensitive or \\nconfidential by some people thus asking for such information may upset or embarrass \\na respondent. E.g. questions on drug use, pilferage, income, age, marital status etc are \\ninvasive. Researcher has to be careful about the sensitivities of the participants. Any \\nsuch information may be requested provided t he respondent is informed and \\nexplained the purpose beforehand.  \\n \\ne. Confidentiality: Sharing information about a respondent with others for purposes \\nother than research is unethical. Identification of study population to put the findings \\ninto context may be important but then it has to be assured that the information \\nprovided by respondents remains anonymous.  \\n \\nEthical issues relating to the researcher: \\na.  Prejudice: Any deliberate attempt to hide the findings of the study or highlight \\nsomething disproportionat ely to its true existence leads to a bias or prejudice. E.g. \\nDuring year end appraisal if only the shortcomings are highlighted the candidate may \\nnot be evaluated honestly.  \\nb.  \\n Provision or deprivation of a treatment : This may be understood as conducting an  \\nexperiment without having the confidence whether it would be fruitful or otherwise \\nfor a study population. But at the same time on the other hand a constructive result \\nmay lead to wonderful results and benefits. E.g. developing a new food product for \\nhealth benefits.  \\n \\nc. Inappropriate research methodology:  Any instrument or process that may be \\nunsuitable or have negative effect on a study should be avoided.  E.g. asking \\nrespondents questions which lead to findings convenient to the researcher only.  \\n  \\nd. Misrepresentation of facts: To report the findings in a way that changes or slants \\nthem to serve your own or someone else‘s interest is unethical. '),\n",
              " Document(metadata={'source': '/content/BHM-503T.pdf', 'page': 57, 'page_label': '58'}, page_content=' \\nResearching for Hospitality and Tourism Management                               BHM-503T \\nUttarakhand Open University  58 \\n \\n \\ne.  Misuse of data: The data collected has to be used only for the purpose it is collected \\nfor not for making unethi cal usage. E.g. if the data of users is shared by a banking \\ninstitution with an advertising company it leads to invasion of privacy and rights of \\nthe bank‘s clients.  \\n \\nCHECK YOUR PROGRESS-II \\n1. What are the various types of sample design? \\n________________________________________________________________________\\n________________________________________________________________________\\n________________________________________________________________________\\n________________________________________________________________________\\n________________________________________________________________________\\n________________________________________________________________________\\n________________________________________________________________________\\n________________________________________________________________________\\n________________________________________________________________________\\n________________________________________________________________________\\n________________________________________________________________________\\n________________________________________________________________________ \\n \\n2. Write a note on ‗Methods of Collecting Primary Data‘. \\n________________________________________________________________________\\n________________________________________________________________________\\n________________________________________________________________________\\n________________________________________________________________________\\n________________________________________________________________________\\n________________________________________________________________________\\n________________________________________________________________________\\n________________________________________________________________________\\n________________________________________________________________________\\n________________________________________________________________________\\n________________________________________________________________________\\n________________________________________________________________________\\n________________________________________________________________________\\n________________________________________________________________________\\n________________________________________________________________________\\n________________________________________________________________________\\n________________________________________________________________________\\n________________________________________________________________________\\n________________________________________________________________________\\n________________________________________________________________________\\n________________________________________________________________________\\n________________________________________________________________________ '),\n",
              " Document(metadata={'source': '/content/BHM-503T.pdf', 'page': 58, 'page_label': '59'}, page_content=' \\nResearching for Hospitality and Tourism Management                               BHM-503T \\nUttarakhand Open University  59 \\n \\n2.7 Summary \\nSampling is a process used in statistical analysis in whi ch a predetermined number of \\nobservations are taken from a larger population. The methodology used to sample from a \\nlarger population depends on the type of analysis being performed but may include \\nsimple random sampling or systematic sampling. \\n2.8 Glossary \\nBudgetary limitation: Funds available guide us to decide the size, variation and quantum \\nof samples. This fact can even lead to the use of a non-probability sample. \\nBudgeted:  Sample design must be practical and be within the limits of funds available \\nfor the research study. \\nCluster sampling. With cluster sampling, every member of the population is assigned to \\none, and only one, group. Each group is called a cluster. A sample of clusters is chosen, \\nusing a probability method (often simple random sampling) . Only individuals within \\nsampled clusters are surveyed. \\nConfidentiality: Sharing information about a respondent with others for purposes other \\nthan research is unethical. Identification of study population to put the findings into \\ncontext may be important  but then it has to be assured that the information provided by \\nrespondents remains anonymous.  \\nConsideration of interest: In determining the sample design, one must consider the \\nquestion of the specific population stricture which is of interest. E.g. we may calculate the \\nnumber of walk in guest‘s from total arrivals at a hotel on daily basis to understand the \\nproportion and then to leave an optimum number of unreserved rooms everyday for such \\nguest.  \\nConvenience Sampling : A convenience sample consists of p eople who are easily \\napproachable and can be reached out to in shorter time. \\nData collection  is the process of gathering and measuring information on targeted \\nvariables in an established systematic fashion, which then enables one to answer relevant \\nquestions and evaluate outcomes. Data collection is a component of research in all fields \\nof study including physical and social sciences, humanities, and business. It is a \\ncomponent of research in all fields of study including  physical and social \\nsciences, humanities, and business. \\nDirect Approach: The researcher asks direct questions about behaviors and thoughts. e.g. \\nWhy don‘t you eat at MacDonald? \\nError Free:  Sample design should reduce the probability of errors. The minimum \\nnumbers of errors in any sample ensure correct data obtained and analyzed. \\n \\nGeneralization of Results : Sample should be such that the results of the sample study \\ncan be applied, in general, for the universe with a reasonable level of confidence. '),\n",
              " Document(metadata={'source': '/content/BHM-503T.pdf', 'page': 59, 'page_label': '60'}, page_content=' \\nResearching for Hospitality and Tourism Management                               BHM-503T \\nUttarakhand Open University  60 \\n \\nInappropriate research methodology:  Any instrument or process that may be \\nunsuitable or have negative effect on a study should be avoided.  E.g. asking respondents \\nquestions which lead to findings convenient to the researcher only.  \\nIncentives: The data collected does not need to be exchanged for a price as this deters or \\nde-motivates the respondents to participate in a research study. Offering incentives, gifts, \\netc for seeking information is unethical and equivalent to bribing.  \\nIndirect Approach : The researcher might ask: ―What kind of people eat at \\nMacDonald‘s?‖ \\nIntercept interviewing: It is an integral part of tourism research. It allows researcher to \\nreach known people in a shorter durations but at the same time it reaches out to \\nrespondents whose details are not known.  The interviewer has to m ake an effort to gain \\nattention and cooperation from respondents to assure apt responses. The interviews can be \\nconducted at different locations like residences, offices, public spaces, shopping \\ndestinations etc. The interviewer uses own judgement to ident ify the respondents \\ndepending on convenience and may also offer some compensations if the interaction is \\nprolonged.  \\nMisrepresentation of facts: To report the findings in a way that changes or slants them \\nto serve your own or someone else‘s interest is unethical. \\nMisuse of data: The data collected has to be used only for the purpose it is collected for \\nnot for making unethical usage. E.g. if the data of users is shared by a banking institution \\nwith an advertising company it leads to invasion of privacy and rights of the bank‘s \\nclients.  \\nMultistage Sampling : In this method of sampling, we select a sample by using \\ncombinations of more than one sampling method.  \\nNo Bias: Sample design should be able to control systematic bias.  \\n \\nNon-probability sampling: Non-probability sampling is a sampling technique where the \\nsamples are gathered in a process that does not give all the individuals in the population \\nequal chances of being selected.  \\nPermission or consent: It is important for respondents to be free and under no  pressure \\nto participate in a study being conducted. The information that is sought should be first \\nassessed to be ethical. The respondent should be able to give an informed consent. This \\nwill lead to honesty on part of the respondent and the researcher. W e should inform the \\nrespondents about the type of data or information being sought, the purpose of such study, \\nand how the respondent can get involved in the study. \\nPersonal Interviewing: It is very flexible and can also be used to collect large amounts \\nof information. Skilled interviewers are able to keep the respondent attentive and clarify \\ndifficult questions in case of a doubt. They can guide interviews, explore issues, and \\nprobe as the situation demands. Personal interview can be used in any type of \\nquestionnaire and can be conducted fairly quickly. '),\n",
              " Document(metadata={'source': '/content/BHM-503T.pdf', 'page': 60, 'page_label': '61'}, page_content=' \\nResearching for Hospitality and Tourism Management                               BHM-503T \\nUttarakhand Open University  61 \\n \\nPrejudice: Any deliberate attempt to hide the findings of the study or highlight \\nsomething disproportionately to its true existence leads to a bias or prejudice. E.g. During \\nyear end appraisal if only the sh ortcomings are highlighted the candidate may not be \\nevaluated honestly.  \\nPrimary Data: Primary data means original data that has been  collected specially for the \\npurpose in mind. It means someone collected the data from the original source first hand. \\nData collected this way is called primary data. The people who gather primary data may \\nbe an authorized organization, investigator, enumerator or they may be just someone with \\na clipboard. Those who gather primary data may have knowledge of the study and may be \\nmotivated to make the study a success. These people are acting as a witness so primary \\ndata is only considered as reliable as the people who gathered it. \\nProbability Sampling Methods: The main types of probability sampling methods are \\nsimple random sampling, stratified sampling, cluster sampling, multistage sampling, and \\nsystematic random sampling. \\nProportional: Sample design must result in a truly representative sample. This means \\nthat the sample selected should be exactly or almost similar to the popula tion it represents \\nI terms of data and characteristics.  \\nProvision or deprivation of a treatment : This may be understood as conducting an \\nexperiment without having the confidence whether it would be fruitful or otherwise for a \\nstudy population. But at the same time on the other hand a constructive result may lead to \\nwonderful results and benefits. E.g. developing a new food product for health benefits.  \\nSafety of respondents: During the course of collecting information the respondents \\nshould not be subjecte d to unnecessary harassment, anxiety, or putting them through \\nexperiments including hazards, discomfort, demeaning or dehumanizing procedures etc.  \\nSampling procedure: Finally, the researcher must decide the type of sample he will use \\ni.e., he must decide about the technique to be used in selecting the items for the sample. \\nIn fact, this technique or procedure stands for the sample design itself. An ideal design is \\nthe one that for a given sample size and for a given cost, has a smaller sampling error. \\n \\nSampling unit: The sampling unit can be anything that exists within the population of \\ninterest. An assessment has to be taken with reference to a sampling unit before selecting \\nsample.  \\nSecondary Data : Refers to  data which is collected by someone who is someo ne other \\nthan the user.  Common sources of secondary data for  social science  include censuses, \\ninformation collected by government departments, organizational records and data that \\nwas originally collected for other research purposes.  Secondary data analysi s can save \\ntime that would otherwise be spent collecting data and, particularly in the case \\nof quantitative data , can provide larger and higher -quality databases that would be \\nunfeasible for any individual researcher to collect on their own. In addition, a nalysts of \\nsocial and economic change consider secondary data essential, since it is impossible to \\nconduct a new survey that can adequately capture past change and/or developments. \\nHowever, secondary data analysis can be less useful in marketing research, as data may \\nbe outdated or inaccurate.  '),\n",
              " Document(metadata={'source': '/content/BHM-503T.pdf', 'page': 61, 'page_label': '62'}, page_content=' \\nResearching for Hospitality and Tourism Management                               BHM-503T \\nUttarakhand Open University  62 \\n \\nSensitive Information: Certain types of information can be regarded as sensitive or \\nconfidential by some people thus asking for such information may upset or embarrass a \\nrespondent. E.g. questions on drug use, pilfer age, income, age, marital status etc are \\ninvasive. Researcher has to be careful about the sensitivities of the participants. Any such \\ninformation may be requested provided the respondent is informed and explained the \\npurpose beforehand.  \\nSize: The sample s ize should be justified, not be excessively large nor it should be too \\nsmall. Preferably the sample size should be optimal which fulfills the requirements of \\nefficiency, representativeness, reliability and flexibility  and representative of the \\npopulation t o obtain dependable outcomes. Population variance, population size, \\nparameters of interest, and budgetary constraints are some of the factors that impact the \\nsample size. \\n \\nSource list: It is also known as ‗sampling frame‘ from which sample is to be drawn. It \\ncontains the names of all items of a finite universe. If source list is not available, \\nresearcher has to prepare it. Such a list should be comprehensive, correct, reliable and \\nappropriate. It is extremely important for the source list to be as represent ative of the \\npopulation as possible. \\nStratified sampling . With stratified sampling, the population is divided into groups, \\nbased on some characteristic. Then, within each group, a probability sample (often a \\nsimple random sample) is selected. In stratified sampling, the groups are called strata.  \\nStructured Surveys : Using formal lists of questions asked to all respondents in an \\nidentical set. \\nSystematic Random Sampling: This begins with creation of a list of each member of the \\npopulation. From the list, we randomly select the first sample element from the \\nfirst k elements on the population list. Thereafter, we select every kth element on the list.  \\nType of universe: The accuracy of the results in any study depends on how clearly the \\nuniverse or population of  interest is defined. The universe can be finite or infinite, \\ndepending on the number of items it contains.  \\nUnstructured Surveys: The interviewer probes the respondents and guides the interview \\naccording to their answers. E.g. Debates on political issues on Television Channels. \\nVoluntary Sampling: This constitutes of people who have keen interest in the topic of \\nsurvey being conducted and are themselves getting involved to contribute as respondents.   \\n2.9 References/Bibliography \\n\\uf0b7 Kumar Ranjit: Research Methodology: A Step by Step Guide for Beginners, Sage \\nPublication, 2014. \\n\\uf0b7 Kothari C.R. : Research Methodology, New Age International, 2011. \\n\\uf0b7 Shajahan S. : Research Methods for Management, 2004. \\n\\uf0b7 Thanulingom N : Research Methodology, Himalaya Publishing '),\n",
              " Document(metadata={'source': '/content/BHM-503T.pdf', 'page': 62, 'page_label': '63'}, page_content=' \\nResearching for Hospitality and Tourism Management                               BHM-503T \\nUttarakhand Open University  63 \\n \\n\\uf0b7 C. Rajendar Kumar : Research Methodology , APH Publishing \\n\\uf0b7 J. R. Brent Ritchie , Charles R. Goeldner : Travel, Tourism, and Hospitality \\nResearch: A Handbook for Managers and Researchers, Wiley Publishers  \\nPublishers Ltd, UK \\n2.10 Suggested Readings \\n\\uf0b7 Kumar Ranjit: Research Methodology: A Step by Step Guide for Beginners, Sage \\nPublication, 2014. \\n\\uf0b7 Kothari C.R. : Research Methodology, New Age International, 2011. \\n\\uf0b7 Shajahan S. : Research Methods for Management, 2004. \\n\\uf0b7 Thanulingom N : Research Methodology, Himalaya Publishing \\n\\uf0b7 C. Rajendar Kumar : Research Methodology , APH Publishing \\n\\uf0b7 J. R. Brent Ritchie , Charles R. Goeldner : Travel, Tourism, and Hospitality \\nResearch: A Handbook for Managers and Researchers, Wiley Publishers  \\nPublishers Ltd, UK \\n2.11 Terminal Questions \\n \\n1. Define sampling? \\n2. What are the different methods of sampling? \\n3. Define sample design? \\n4. List the various types of sample design. \\n \\n  '),\n",
              " Document(metadata={'source': '/content/BHM-503T.pdf', 'page': 63, 'page_label': '64'}, page_content=' \\nResearching for Hospitality and Tourism Management                               BHM-503T \\nUttarakhand Open University  64 \\n \\nUNIT 3 \\nPROCESSING  \\nAND  \\nANALYSING DATA \\nStructure \\n 3.1 Introduction \\n 3.2 Objectives \\n 3.3 Defining data processing and analysis \\n 3.4 Editing \\n 3.5 Coding \\n 3.6 Classification and tabulation \\n 3.7 Presentation of Data \\n 3.8 Interpretation of Data meaning \\n 3.9 Methods of data analysis  \\n 3.10 Summary \\n 3.11 Glossary \\n 3.12 References/Bibliography \\n 3.13 Suggested Readings \\n 3.14 Terminal Questions \\n3.1 Introduction  \\nThe data collected from the survey tool, observation, and interview is raw and is of no \\nvalue unless and until it is presented in usable manner. The data collected from the \\nsamples is arranged in meaningful way by editing, coding, and presented in t abular form \\nfor drawing useful inferences. In this unit we will be learning the various ways by which \\nraw data is converted into important information, \\n3.2 Objectives \\nAfter reading this unit the learner will be: \\n\\uf0b7 able to understand the editing of data \\n\\uf0b7 able to convert raw data into useful information \\n\\uf0b7 able to classify data \\n\\uf0b7 able to prepare tables and graphs using raw data '),\n",
              " Document(metadata={'source': '/content/BHM-503T.pdf', 'page': 64, 'page_label': '65'}, page_content=' \\nResearching for Hospitality and Tourism Management                               BHM-503T \\nUttarakhand Open University  65 \\n \\n3.3  Defining data processing and analysis \\nProcessing and analyzing data involves a number of closely related operations which are \\nperformed with the purpose of summarizing the collected data and organizing these in a \\nmanner that they answer the research questions (objectives). \\n3.4   Editing \\nIt is a process of examining the collected raw data to detect errors and omissions and to \\ncorrect these when possible. It is also defined as the process relating to the review and \\nadjustment of collected survey  data with an aim to control the quality of the \\ncollected data. Data editing can be performed manually, with the assistance of a computer \\nor using a combination of both the methods.  \\n \\nData editing  is crucial as it helps in take full advantage of the available data to be \\nconverted into useful data , ensuring that the errors arising during collection, entry, \\nassimilation are omitted or minimized. It also a ssures that the consistency is coherent and \\nconsistent, since such characteristics have a constructive impact on the final analysis and \\noutcomes.  \\n3.5    Coding \\nThe purpose of data coding is to bring out the essence and meaning of the data that has \\nbeen co llected from the respondents. In order to make sense of the data, it must be \\nanalyzed.  \\nAnalysis begins with the labeling of data as to its source, how it was collected, the \\ninformation it contains, etc. When we have received hundreds of questionnaires, fo rma \\nand formats containing the data it seems impossible to figure out any outcomes just by \\nlooking at the quantum.  E.g. if the Hotel guest‘s feedback  is received in letter forms with \\nno specific format it would be nearly impossible to assess the satisfac tion levels, major \\ncomplaint areas or just finding out who has been recommended by most of the guests as \\nthe best employee at the hotel.   \\nCoding facilitates the researcher to reduce the bulk od information and data to a form that \\nis easily understandable and can be interpreted soon either manually or through software \\nprogramming. For example, the injury rate at different levels of intensive physical labor \\ndemanding operations in various hotels in the city may not be sorted under name but each \\nof the hotels  can be assigned a numeric or alphabetical code. The content analysis \\ncomputer programs help researchers to code textual data for qualitative or quantitative \\nanalysis. '),\n",
              " Document(metadata={'source': '/content/BHM-503T.pdf', 'page': 65, 'page_label': '66'}, page_content=' \\nResearching for Hospitality and Tourism Management                               BHM-503T \\nUttarakhand Open University  66 \\n \\n3.6 Classification and Tabulation \\nIt is the process of arranging data in groups or class es on the basis of common \\ncharacteristics such as descriptive or numerical.   \\nSimple Classification : This means that one attribute is considered and the universe is \\ndivided into two classes. With one class consisting of items possessing the given attribute  \\nand the other class consisting of items which do not possess the given attribute. \\n \\nClass interval Classification : This is more relevant when we use quantitative data like \\nnumber of guests, number of spa users, age groups of tourists, income levels of trav elers, \\ndaily occupancy and other statistical data.  \\n \\nE.g.  Pocket Money Received by IHM Students \\nIncome Range    Frequency  % \\nRs.1001-2000    10   50 \\nRs.2001-3000    8   40 \\nRs.3001-4000    2   10 \\nTotal     20   100 \\n3.6.1 Tabulation \\nIt is the process of sum marizing raw data and displaying the same in compact form for \\nfurther analysis. It is an orderly arrangement of data in columns and rows.  \\nTabulation is essential because: \\na. It conserves space and reduces explanatory and descriptive statement to a \\nminimum. \\nb.It facilitates the process of comparison. \\nc. It facilitates the summation of items and the detection of errors and \\nomissions. \\nd.It provides the basis for various statistical computations. \\nTabulation may also be classified as simple and complex tabulation. Simple  tabulation \\ngenerally results in one -way tables which supply answers to questions about one \\ncharacteristic of data only. Complex tabulation usually results on two-way tables that give \\ninformation about two interrelated characteristics of data, three –way tables or still higher \\norder tables known as manifold tables. \\nComponents of Data Tables \\nThe components of data tables are as under: \\n\\uf0b7 Table Number \\n\\uf0b7 Title \\n\\uf0b7 Head notes \\n\\uf0b7 Stubs \\n\\uf0b7 Caption \\n\\uf0b7 Body or field '),\n",
              " Document(metadata={'source': '/content/BHM-503T.pdf', 'page': 66, 'page_label': '67'}, page_content=' \\nResearching for Hospitality and Tourism Management                               BHM-503T \\nUttarakhand Open University  67 \\n \\n\\uf0b7 Footnotes \\n\\uf0b7 Source \\n\\uf0b7 Table Number: Each table should have a specific table number for ease of access and \\nlocating. This number can be readily mentioned anywhere which serves as a reference \\nand leads us directly to the data mentioned in that particular table. \\n \\n\\uf0b7 Title: A table must contain a title that clearly tells the readers about the data it \\ncontains, time period of study, place of study and the nature of classification of data. \\n \\n\\uf0b7 Head notes:  A headnote further aids in the purpose of a title and displays more \\ninformation about the table. Generally, headnotes present the units of data in brackets \\nat the end of a table title. \\n \\n\\uf0b7 Stubs: These are titles of the rows in a table. Thus a stub display information about the \\ndata contained in a particular row. \\n \\n\\uf0b7 Caption: A caption is the title of a column in the data table. In fact, it is a  counterpart \\nif a stub and indicates the information contained in a column. \\n \\n\\uf0b7 Body or field: The body of a table is the content of a table in its entirety. Each item in \\na body is known as a ‗cell‘. \\n \\n\\uf0b7 Footnotes: Footnotes are rarely used. In effect, they supp lement the title of a table if \\nrequired. \\n \\n\\uf0b7 Source: When using data obtained from a secondary source, this source has to be \\nmentioned below the footnote. \\n \\nCHECK YOUR PROGRESS-I \\n1. What coding of data? \\n________________________________________________________________________\\n________________________________________________________________________\\n________________________________________________________________________\\n________________________________________________________________________\\n________________________________________________________________________\\n________________________________________________________________________\\n________________________________________________________________________\\n________________________________________________________________________\\n________________________________________________________________________\\n________________________________________________________________________\\n________________________________________________________________________\\n________________________________________________________________________\\n________________________________________________________________________\\n________________________________________________________________________\\n________________________________________________________________________ '),\n",
              " Document(metadata={'source': '/content/BHM-503T.pdf', 'page': 67, 'page_label': '68'}, page_content=' \\nResearching for Hospitality and Tourism Management                               BHM-503T \\nUttarakhand Open University  68 \\n \\n2. What do you mean by editing data? \\n________________________________________________________________________\\n________________________________________________________________________\\n________________________________________________________________________\\n________________________________________________________________________\\n________________________________________________________________________\\n________________________________________________________________________\\n________________________________________________________________________\\n________________________________________________________________________\\n________________________________________________________________________\\n________________________________________________________________________\\n________________________________________________________________________\\n________________________________________________________________________\\n________________________________________________________________________\\n________________________________________________________________________\\n________________________________________________________________________\\n________________________________________________________________________\\n________________________________________________________________________\\n________________________________________________________________________\\n________________________________________________________________________ \\n3.7  PRESENTATION OF DATA \\nThe various types of data that can be presented are:  \\n\\uf0b7 Textual presentation \\n\\uf0b7 Data tables \\n\\uf0b7 Diagrammatic presentation \\n\\uf0b7 Time Series Data \\n\\uf0b7 Bar Charts \\n\\uf0b7 Combo Charts \\n\\uf0b7 Pie Charts \\n\\uf0b7 Tables \\n\\uf0b7 Geo Map \\n\\uf0b7 Scorecard \\n\\uf0b7 Scatter Charts \\n\\uf0b7 Bullet Charts \\n\\uf0b7 Area Chart \\n\\uf0b7 Text & Images \\n \\nPresenting and Analyzing data: \\n1. Frame the objectives  of the study and make a list of data to be collected and its \\nformat. \\n2. Collect/obtain data from primary or secondary sources. \\n3. Change the format of data, i.e., table, maps, graphs, etc. in the desired format '),\n",
              " Document(metadata={'source': '/content/BHM-503T.pdf', 'page': 68, 'page_label': '69'}, page_content=' \\nResearching for Hospitality and Tourism Management                               BHM-503T \\nUttarakhand Open University  69 \\n \\n4. Sort data through grouping, di scarding the extra data and deciding the required \\nform to make data comprehensible \\n5. Make charts and graphs to help to add visual part and analyze trends. \\n6. Analyze trends and relate the information to fulfill the objectives. \\n \\nPresenting the results: \\n\\uf0b7 The resul ts should be presented such that a progression of arguments is in \\nsupport of the study beginning with a statement defining the purpose of study \\nand subsequently a logical presentation making objectives clear and related to \\nthe aim of study.  \\n\\uf0b7 Bigger objecti ves should be broken down into smaller ones i.e. define each \\nobjective as per need and outcome. Prepare a list of data to be collected, the \\nsources of data, form in which data exists and needs to be obtained and \\nconducting a primary survey for information which does not exist. \\n\\uf0b7 Form and explain the methodology adapted to carry out a study. \\n\\uf0b7 Sampling methods should be clear and confirmed for ease of collecting data that \\nresults in efficient and lesser errors in the process.  \\n\\uf0b7 Present only the required informati on and skip the background research to make \\nyour point more clear. \\n\\uf0b7 Credits and references should either be provided in the end and wherever \\nobligatory. \\n\\uf0b7 The presentation methods depend upon the availability of resources and type of \\nresults expected out of the final presentation. PowerPoint, Models, Paper Charts, \\nSmart Boards, Analytical software e.g. Google analytics etc can be used to make \\nthe presentation effective and crisp.  \\n \\n3.8  METHODS OF DATA PRESENTATION  \\nBar Charts/Bar \\nGraphs: These are one of the  \\nmost widely used charts for \\nshowing the grown of a \\ncompany over a period. There \\nare multiple options available \\nlike stacked bar graphs and \\nthe option of displaying a \\nchange in numerous \\nentities. A bar graph is a way \\nof summarizing a set of \\ncategorical dat a. It displays \\nthe data using a number of \\nrectangles, of the same width, \\neach of which represents a \\nparticular category. Bar graphs can be displayed horizontally or vertically and they are \\nusually drawn with a gap between the bars (rectangles). '),\n",
              " Document(metadata={'source': '/content/BHM-503T.pdf', 'page': 69, 'page_label': '70'}, page_content=' \\nResearching for Hospitality and Tourism Management                               BHM-503T \\nUttarakhand Open University  70 \\n \\nLine Chart : These \\nare best for showing \\nthe change in \\npopulation, i.e., for \\nshowing the trends. \\nThese also work well \\nfor explaining the \\ngrowth of multiple \\nareas at the same \\ntime. \\nPie Charts:  These \\nwork best for \\nrepresenting the \\nshare of different \\ncomponents from a \\ntotal 100%. For, eg. \\nContribution of \\ndifferent sectors to \\nGDP, the population \\nof different states in \\na country, etc. A pie \\nchart is used to \\ndisplay a set of \\ncategorical data. It \\nis a circle, which is \\ndivided into \\nsegments. Each \\nsegment represents \\na particular category. The area of each segment is proportional to the number of cases in \\nthat category. \\nCombo \\nChart: As the \\nname suggests it \\nis a combination \\nof more than one \\nchart type. The \\none shown in the \\nfigure below is a \\ncombination of \\nline and bar \\ngraph. The se \\nsave space and \\nare at times more \\neffective than using two different charts. There can even be 3 or more charts depending \\non the requirement. '),\n",
              " Document(metadata={'source': '/content/BHM-503T.pdf', 'page': 70, 'page_label': '71'}, page_content=' \\nResearching for Hospitality and Tourism Management                               BHM-503T \\nUttarakhand Open University  71 \\n \\nHistogram - A histogram is a way of summarizing data that are measured on an interval \\nscale (either \\ndiscrete or  \\ncontinuous). It is \\noften used in \\nexploratory data \\nanalysis to \\nillustrate the \\nfeatures of the \\ndistribution of the \\ndata in a \\nconvenient form. \\nLine graph  - A \\nline graph is \\nparticularly useful \\nwhen we want to \\nshow the trend of \\na variable over \\ntime. Time is \\ndisplayed on the \\nhorizontal axis (x-\\naxis) and the \\nvariable is displayed on the vertical axis (y- axis). \\nA) DESCRIPTIVE MEASURES: \\nMeasures of  central tendency  and dispersion are common descriptive measures for \\nsummarizing numerical data. \\n1. Measures of central \\ntendency: Measures of \\ncentral tendency are \\nmeasures of the location \\nof the middle or the center \\nof a distribution. The most \\nfrequently used measures \\nof central tendency are \\nthe mean, median and mode. \\nThe mean is obtained by summing the values of all the ob servations and dividing by the \\nnumber of observations.  Add up values and divide by number of values. '),\n",
              " Document(metadata={'source': '/content/BHM-503T.pdf', 'page': 71, 'page_label': '72'}, page_content=' \\nResearching for Hospitality and Tourism Management                               BHM-503T \\nUttarakhand Open University  72 \\n \\nx =  𝑥\\n𝑛  \\nThe median (also referred to as the 50th percentile) is the middle value in a sample of \\nordered values. Half the values are above the median  and half are below the median. It is \\nthe middle value of data when ranked.  \\nThe mode is a value occurring most frequently. It is rarely of any practical use for \\nnumerical data. Figure that appears most often in the data \\nA comparison of the mean, median a nd mode can reveal information about skewness, as \\nillustrated in figure below. The mean, median and mode are similar when the distribution \\nis symmetrical. When the distribution is skewed the median is more appropriate as a \\nmeasure of central \\ntendency. \\n2. M easures of \\nDispersion: \\nA measure of dispersion \\nis a numerical value \\ndescribing the amount of \\nvariability present in a \\ndata set. \\nThe standard deviation \\n(SD) is the most \\ncommonly used measure \\nof dispersion. With the \\nSD you can measure \\ndispersion relative to the \\nscatter of the values about their mean. \\nThe range can also be used to describe the variability in a set of \\ndata and is defined as the difference between \\nthe maximum and minimum values. The range is an appropriate \\nmeasure of dispersion when the distribution is skewed. \\nCHECK YOUR PROGRESS-II \\n1. What pie chart? \\n________________________________________________________________________\\n________________________________________________________________________\\n________________________________________________________________________\\n________________________________________________________________________\\n________________________________________________________________________\\n________________________________________________________________________\\n________________________________________________________________________\\n________________________________________________________________________ '),\n",
              " Document(metadata={'source': '/content/BHM-503T.pdf', 'page': 72, 'page_label': '73'}, page_content=' \\nResearching for Hospitality and Tourism Management                               BHM-503T \\nUttarakhand Open University  73 \\n \\n2. Write a note on ‗Histogram‘. \\n________________________________________________________________________\\n________________________________________________________________________\\n________________________________________________________________________\\n________________________________________________________________________\\n________________________________________________________________________\\n________________________________________________________________________\\n________________________________________________________________________\\n________________________________________________________________________\\n________________________________________________________________________\\n________________________________________________________________________\\n________________________________________________________________________\\n________________________________________________________________________\\n________________________________________________________________________\\n________________________________________________________________________\\n________________________________________________________________________\\n________________________________________________________________________\\n________________________________________________________________________\\n________________________________________________________________________\\n________________________________________________________________________\\n________________________________________________________________________\\n________________________________________________________________________\\n________________________________________________________________________ \\n3.9 Data Analysis Methods: \\nData analysis methods are as under: \\n\\uf0b7 Qualitative Data Analysis \\n\\uf0b7 Quantitative Data Analysis \\n\\uf0b7 Manual Data Analysis \\n\\uf0b7 Computerized Data Analysis \\n3.9.1  Qualitative Data Analysis  \\nQualitative Data Analysis can be defined as researcher‘s movement from quantitative \\ndata to qualitative i.e. when an interpretation, explanation or understanding is generated \\nbased on the quantitative data. This gives meaning and better elucidation of facts and \\nfigures presented in form of charts or graphs.  \\n \\nIn general the following terms are indicative of qualitative data analysis:  '),\n",
              " Document(metadata={'source': '/content/BHM-503T.pdf', 'page': 73, 'page_label': '74'}, page_content=' \\nResearching for Hospitality and Tourism Management                               BHM-503T \\nUttarakhand Open University  74 \\n \\n\\uf0b7 Theory: A set of interrelated concepts, definitions and propositions that presents a \\nsystematic view of events or situations by specifying relations among variables.  \\n \\n\\uf0b7 Themes: Clear-cut ideas that emerge from grouping of lower-level data points.  \\n \\n\\uf0b7 Characteristic: It is the smallest unit of analysis i.e. a single item or event in a text, \\nsimilar to an individual response to a variable or indicator in a quantitative research.  \\n \\n\\uf0b7 Coding: The process of attaching labels to lines of text so that the researcher can \\ngroup and compare similar or related pieces of information.  \\n \\n\\uf0b7 Coding sorts: Compilation of similarly coded blocks of text from different sources in \\nto a single file or report.  \\n \\n\\uf0b7 Indexing: The process that generates a word list comprising all the substantive words \\nand their location within the texts entered in to program. \\n \\nQDA can be performed in two ways:  \\n \\nDeductive Approach: The research questions are used to group the data and then finding \\nout the similarities and differences. It is used when time and resources are limited and \\nwhen qualitative research is a smaller component of a larger quantitative study. \\n \\nInductive Approach:   This is used when qualitative research is a major design of the \\ninquiry. This uses emergent framework to group the data and then looks for relationships. \\n \\n3.6.2   Quantitative Data Analysis \\nThis is another systematic approach where the researcher converts or transforms the \\nobservations and collected information into numerical data. It is suited to surveys that are \\nperformed on a larger scale, are well administered and use carefully constructed \\nquestionnaire.  \\n \\nDifferent methods used are as follows:  \\n \\n\\uf0b7 Trend analysis:   As the name suggests it is interpretation of data that has been \\ncollected over a longer period of time thus making it easier to understand the changes \\nthat have come through.  In this analysis usually one of the variables  being studied \\nremains constant.  \\n \\n\\uf0b7 Cross-tabulation: This method used a basic table to draw inferences between different \\ndata sets available for a study. The qualities of data used are that they are either related \\nto each other or are mutually exclusive.  \\n '),\n",
              " Document(metadata={'source': '/content/BHM-503T.pdf', 'page': 74, 'page_label': '75'}, page_content=' \\nResearching for Hospitality and Tourism Management                               BHM-503T \\nUttarakhand Open University  75 \\n \\n\\uf0b7 SWOT analysis:   Strength, Weaknesses, Opportunities and Threats for a subject, \\nindividual, organization may be conducted to present a more holistic picture of \\ncompetition. This is generally used when effective business strategies are to be formed.  \\n \\n\\uf0b7 MaxDiff analysis:  This is a method that is used in studying purchase preferences of \\ncustomers and to understand why a particular factor is given more importance than \\nother. E.g  a sun and sand tourist would prefer cleaner and less crowded beaches \\ncompared to the beaches that have better availability of snacks and drinks options.  \\n \\n\\uf0b7 Conjoint analysis: Like in the above method, conjoint analysis is a similar quantitative \\ndata analysis method that analyzes parameters behind a purchasing decision. This \\nmethod possesses the ability to collect and analyze advanced metrics which provide an \\nin-depth insight into purchasing decisions as well as the parameters that rank the most \\nimportant. \\n \\n\\uf0b7 TURF analysis:  Total Unduplicated Reach and Frequency Analysis is used when \\nresearcher has to find out the market reach of a product or service or a mix of both. It is \\nhelpful to develop a marketing plan when a product or service is exclusive yet has \\nlimited buyers.   \\n \\n\\uf0b7 Text analysis:  It is an advanced statistical method where unstructured  raw data is \\ncollected and then it has to be converted into structured form for clearer understanding. \\nOpen ended questionnaires provide data that needs conversion to statistical units for \\ncorrect analysis thus Text Analysis method is appropriate as it uses intelligent tools.  \\n \\n\\uf0b7 Gap analysis: When it is important to understand the differential between actual and \\nperceived values of a product or service gap analysis method is applicable. E.g. a guest \\nmay order a flashy looking cocktail perceiving light taste but may end up getting a \\ndrink that has stronger taste.  \\n \\nManual Data Analysis:  This analysis is suitable when there are limited variables and the \\nnumber of respondents is also very small. This is applicable when simple cross \\ntabulations are done and also  it is needed to calculate frequency distribution.  The easiest \\nway to do this is to code it directly onto large graph paper in columns. Each column can \\nbe given a number or a distinctive heading to identify and code information \\ncorresponding to the question. This analysis begins with manually counting various codes \\nin a column and then decode them. For statistical testing manual calculation is done \\ndepending on the researcher‘s expertise and how the results need to be communicated.  \\n \\nComputerized Data Analysis: Computerized data analysis needs the user to be familiar \\nwith appropriate programs to be used along with an understanding of systems, statistical \\ndata and software available. The most common software is SPSS for windows. However, \\ndata input can be lo ng and laborious process, and if data is entered incorrectly, it will \\ninfluence the final results. \\n \\n '),\n",
              " Document(metadata={'source': '/content/BHM-503T.pdf', 'page': 75, 'page_label': '76'}, page_content=' \\nResearching for Hospitality and Tourism Management                               BHM-503T \\nUttarakhand Open University  76 \\n \\nCHECK YOUR PROGRESS-III \\n1. Write a note on ‗Qualitative Data Analysis‘? \\n________________________________________________________________________\\n________________________________________________________________________\\n________________________________________________________________________\\n________________________________________________________________________\\n________________________________________________________________________\\n________________________________________________________________________\\n________________________________________________________________________\\n________________________________________________________________________\\n________________________________________________________________________\\n________________________________________________________________________\\n________________________________________________________________________\\n________________________________________________________________________ \\n \\n2. Write a note on ‗Quantitative Data Analysis‘. \\n________________________________________________________________________\\n________________________________________________________________________\\n________________________________________________________________________\\n________________________________________________________________________\\n________________________________________________________________________\\n________________________________________________________________________\\n________________________________________________________________________\\n________________________________________________________________________\\n________________________________________________________________________\\n________________________________________________________________________\\n________________________________________________________________________\\n________________________________________________________________________\\n________________________________________________________________________\\n________________________________________________________________________\\n________________________________________________________________________\\n________________________________________________________________________\\n________________________________________________________________________\\n________________________________________________________________________\\n________________________________________________________________________ \\n3.10 Summary \\n \\nProcessing and analyzing data involves a number of closely related operations which are \\nperformed with the purpose of summarizing the collected data and organizing these in a \\nmanner that they answer the research questions (objectives).  Manual Data Analysis  is \\nsuitable when there are limited variables and the number of respondents is also very \\nsmall. This is applicable when simple cross tabulations are done and also  it is needed to \\ncalculate frequency distribution.  The easiest way to do this is to code it directly onto '),\n",
              " Document(metadata={'source': '/content/BHM-503T.pdf', 'page': 76, 'page_label': '77'}, page_content=' \\nResearching for Hospitality and Tourism Management                               BHM-503T \\nUttarakhand Open University  77 \\n \\nlarge graph paper in columns. Each column can be given a number or a distinctive \\nheading to identify and code information corresponding to the questi on. This analysis \\nbegins with manually counting various codes in a column and then decode them. For \\nstatistical testing manual calculation is done depending on the researcher‘s expertise and \\nhow the results need to be communicated. Computerized Data Analysis needs the user to \\nbe familiar with appropriate programs to be used along with an understanding of systems, \\nstatistical data and software available. The most common software is SPSS for windows. \\nHowever, data input can be lo ng and laborious process, and if data is entered incorrectly, \\nit will influence the final results. \\n3.11 Glossary \\n \\nBody or field: The body of a table is the content of a table in its entirety. Each item in a \\nbody is known as a ‗cell‘. \\n \\nCaption: A caption is the title of a column in the data table. In fact, it is a  counterpart if a \\nstub and indicates the information contained in a column. \\nCharacteristic: It is the smallest unit of analysis i.e. a single item or event in a text, \\nsimilar to an individual response to a variable or indicator in a quantitative research.  \\nCoding sorts: Compilation of similarly coded blocks of text from different sources in to a \\nsingle file or report.  \\nCoding: The process of attaching labels to lines of text so that the researcher can group \\nand compare similar or related pieces of information.  \\nComputerized Data Analysis: Computerized data analysis needs the user to be familiar \\nwith appropriate programs to be used along with an understanding of systems, statistical \\ndata and software available. The most common software is SPSS for windows. However, \\ndata input can be lo ng and laborious process, and if data is entered incorrectly, it will \\ninfluence the final results \\n \\nConjoint analysis: Like in the above method,  conjoint analysis is a similar quantitative \\ndata analysis method that analyzes parameters behind a purchasing decision. This method \\npossesses the ability to collect and analyze advanced metrics which provide an in -depth \\ninsight into purchasing decisions as well as the parameters that rank the most important. \\n \\nCross-tabulation: This method used a basic table to draw inferences between different \\ndata sets available for a study. The qualities of data used are that they are either related to \\neach other or are mutually exclusive.  \\n \\nFootnotes: Footnotes are rarely used. In effect, they supp lement the title of a table if \\nrequired. \\n \\nGap analysis:  When it is important to understand the differential between actual and \\nperceived values of a product or service gap analysis method is applicable. E.g. a guest '),\n",
              " Document(metadata={'source': '/content/BHM-503T.pdf', 'page': 77, 'page_label': '78'}, page_content=' \\nResearching for Hospitality and Tourism Management                               BHM-503T \\nUttarakhand Open University  78 \\n \\nmay order a flashy looking cocktail perceiving light taste but may end up getting a drink \\nthat has stronger taste. \\n \\nHead notes:  A headnote further aids in the purpose of a title and displays more \\ninformation about the table. Generally, headnotes present the units of data in brackets at \\nthe end of a table title. \\nIndexing: The process that generates a word list comprising all the substantive words and \\ntheir location within the texts entered in to program. \\nManual Data Analysis:  This analysis is suitable when there are limited variables and the \\nnumber of respondents is also very small. This is applicable when simple cross \\ntabulations are done and also  it is needed to calculate frequency distribution.  The easiest \\nway to do this is to code it directly onto large graph paper in columns. Each column can \\nbe given a number or a distinctive heading to identify and code information \\ncorresponding to the question. This analysis begins with manually counting various codes \\nin a column and then decode them. For statistical testing manual calculation is done \\ndepending on the researcher‘s expertise and how the results need to be communicated.  \\n \\nMaxDiff analysis:  This is a method that is used in studying purchase preferences of \\ncustomers and to understand why a particular factor is given more importance than other. \\nE.g  a sun and sand tourist would prefer cleaner and less crowded beaches compared to \\nthe beaches that have better availability of snacks and drinks options.  \\n \\nSource: When using data obtained from a secondary source, this source has to be \\nmentioned below the footnote. \\n \\nStubs: These are titles of the rows in a table. Thus a stub display information about the \\ndata contained in a particular row. \\n \\nSWOT analysis:   Strength, Weaknesses, Opportunities and Threats for a subject, \\nindividual, organization may be conducted to present a more holistic picture of \\ncompetition. This is generally used when effective business strategies are to be formed.  \\n \\nTable Number: Each table should have a specific ta ble number for ease of access and \\nlocating. This number can be readily mentioned anywhere which serves as a reference and \\nleads us directly to the data mentioned in that particular table. \\n \\nText analysis:  It is an advanced statistical method where unstructured  raw data is \\ncollected and then it has to be converted into structured form for clearer understanding. \\nOpen ended questionnaires provide data that needs conversion to statistical units for \\ncorrect analysis thus Text Analysis method is appropriate as it uses intelligent tools.  \\nThemes: Clear-cut ideas that emerge from grouping of lower-level data points.  \\nTheory: A set of interrelated concepts, definitions and propositions that presents a \\nsystematic view of events or situations by specifying relations among variables.  '),\n",
              " Document(metadata={'source': '/content/BHM-503T.pdf', 'page': 78, 'page_label': '79'}, page_content=' \\nResearching for Hospitality and Tourism Management                               BHM-503T \\nUttarakhand Open University  79 \\n \\nTitle: A table must contain a title that clearly tells the readers about the data it contains, \\ntime period of study, place of study and the nature of classification of data. \\n \\nTrend analysis:  As the name suggests it is interpretation of data that has been collected \\nover a longer period of time thus making it easier to understand the changes that have \\ncome through.  In this analysis usually one of the variables  being studied remains \\nconstant.  \\n \\nTURF analysis:  Total Unduplicated Reach and Frequency Analysis is used when \\nresearcher has to find out the market reach of a product or service or a mix of both. It is \\nhelpful to develop a marketing plan when a product or service is exclusive yet has limited \\nbuyers.   \\n3.12 References/Bibliography \\n\\uf0b7 Kumar Ranjit: Research Methodology: A Step by Step Guide for Beginners, Sage \\nPublication, 2014. \\n\\uf0b7 Kothari C.R. : Research Methodology, New Age International, 2011. \\n\\uf0b7 Shajahan S. : Research Methods for Management, 2004. \\n\\uf0b7 Thanulingom N : Research Methodology, Himalaya Publishing \\n\\uf0b7 C. Rajendar Kumar : Research Methodology , APH Publishing \\n\\uf0b7 J. R. Brent Ritchie , Charles R. Goeldner : Travel, Tourism, and Hospitality \\nResearch: A Handbook for Managers and Researchers, Wiley Publishers  \\nPublishers Ltd, UK \\n3.13 Suggested Readings \\n• Dawson, Catherine, 2002, Practical Research Methods, New Delhi, UBS Publishers‘ \\nDistributors, \\n• Kothari, C.R.,1985, Research Methodology -Methods and Techniques, New Delhi, \\nWiley Eastern Limited. \\n• Kumar, Ranjit, 2005, Research Methodology -A Step -by-Step Guide for Beginners , \\n(2nd.ed), Singapore, Pearson Education \\n•  Research Design: Qualitative, Quantitative, and Mixed Methods Approaches, 4th \\nEdition, by John W. Creswell (Author) \\n• The SAGE Handbook of Qualitative Research (Sage Handbooks) 4th Edition, by \\nNorman K. Denzin (Editor), Yvonna S. Lincoln (Editor) \\n• Research an Introduction: Robert Ross \\n3.14 Terminal Questions \\n1. What do you mean by terms editing of data? Explain \\n2. What is coding of Data? \\n3. What is tabulation of data? '),\n",
              " Document(metadata={'source': '/content/BHM-503T.pdf', 'page': 79, 'page_label': '80'}, page_content=' \\nResearching for Hospitality and Tourism Management                               BHM-503T \\nUttarakhand Open University  80 \\n \\n4. What do you mean by graphical representation of data? \\n5. What are different types of Graphs? Explain each type with example. \\n6. What do you mean by analysis of Data? \\n \\n  '),\n",
              " Document(metadata={'source': '/content/BHM-503T.pdf', 'page': 80, 'page_label': '81'}, page_content=' \\nResearching for Hospitality and Tourism Management                               BHM-503T \\nUttarakhand Open University  81 \\n \\nUNIT 4:  \\nREPORT WRITING \\nStructure \\n4.1 Introduction \\n4.2 Objectives \\n4.3 Types and steps involved in writing report \\n4.4  Layout of the research report \\n4.5 Mechanics of writing a research report \\n4.6 Challenges of a good writing \\n4.7 Summary \\n4.8 Glossary \\n4.9 References / Bibliography \\n4.10  Suggested Readings \\n4.11 Terminal Questions \\n \\n4.1 Introduction \\nA report is a written explanation of something that one has observed, heard, done, or \\ninvestigated. It is a systematic and well organized presentation of facts and findings of an \\nevent that has already taken place somewhere or has been found out after an in -depth \\nstudy has been conducted.   \\n \\n4.2 Objectives \\nAfter reading this unit the learner will be able to understand: \\n\\uf0b7 Types and steps involved in writing report \\n\\uf0b7 Layout of the research report \\n\\uf0b7 Mechanics of writing a research report \\n\\uf0b7 Challenges of a good writing \\n4.3 Types and steps involved in writing report \\nReports are used as a form of written assessment to find out what has been learnt from \\nreading, researching or experiencing an important skill that is widely used in the work \\nplace. Good report writing is an important quality for any researcher as this also presents \\nthe findings to the readers outside your subject area with the experts in the field. It \\nfocuses on the findings, conclusions, discoveries made, efforts made and inferences \\ndrawn from the research study conducted. The report should be written in a simple but '),\n",
              " Document(metadata={'source': '/content/BHM-503T.pdf', 'page': 81, 'page_label': '82'}, page_content=' \\nResearching for Hospitality and Tourism Management                               BHM-503T \\nUttarakhand Open University  82 \\n \\nscholastic style. The language should be formal and not like the one used in media \\npublications. \\n \\nA good research report has the following functions: (Bhim Chimoriya-March 09, 2017) \\n1. To provide the information regarding the findings of research work i.e. methods, data \\nanalysis, conclusion and so on in the systematic, scientific and accepted way.  \\n2. To elicit crucial facts for solution derived and decision making.  \\n3. To prove the worth and legitimacy of assigned research job.  \\n4. To provide the judgement tools for the judgement of quality and talent of researcher \\nwithin and outside the academia.  \\n5. To communicate the research findings professionally.  \\n6. To pertain the credibility of the research.  \\n7. To develop appreciation of standards, consolidate arguments and identify the \\nknowledge gaps.  \\n \\nTechnical Report : In the technica l report the main emphasis is on the methods \\nemployed, assumptions made in the course of the study and the detailed presentation of \\nthe findings including their limitations and supporting data. E.g, the project reports when \\na hotel is being conceptualised.  \\n \\nFormal or Informal Reports: A formal report has a carefully drafted structure, clear \\nobjectives, is organized and has sufficient details to let the reader understand the \\nconcepts. These are written using non personal elements whereas an informal report can \\nbe direct, short with casual language e.g. an inter office communication via a notice or \\nmemorandum.  \\n \\nPopular Report : The highlights of this report are simplicity and attractiveness. The \\nsimplification is done by clear writing, minimization of technical , particularly \\nmathematical, details and liberal use of charts and diagrams. Attractive layout along with \\nlarge print, many subheadings, even an occasional figurine is another characteristic \\nfeature of the popular report.  \\n \\nInformational or Analytical Reports: Informational reports (annual reports, monthly \\nfinancial reports, and reports about personnel) carry objective information from one area \\nof an organization to another. Analytical reports (scientific research, feasibility reports, \\nand real-estate appraisals) present attempts to solve problems. \\n \\nProposal Report: The proposal is a variation of problem -solving reports. A proposal is a \\ndocument prepared to describe how one organization can meet the needs of another. Most \\ngovernmental agencies advertise their  needs by issuing ―requests for proposal‖ or RFPs. \\nThe RFP specifies a need and potential suppliers prepare proposal reports telling how \\nthey can meet that need. '),\n",
              " Document(metadata={'source': '/content/BHM-503T.pdf', 'page': 82, 'page_label': '83'}, page_content=' \\nResearching for Hospitality and Tourism Management                               BHM-503T \\nUttarakhand Open University  83 \\n \\nVertical or Lateral Reports: Any reports that move upward or downward the \\nhierarchies are refe rred to as vertical reports; such reports contribute to management \\ncontrol. Lateral reports, on the other hand, assist in coordination in the organization. A \\nreport traveling between units of the same organization level (production and finance \\ndepartments) is lateral. \\nInternal or External Reports: Internal reports are circulated within the organization e.g. \\nthe reports circulated in the morning meeting of managers at a hotel. External reports, \\nsuch as annual reports of companies, are prepared for distribution outside the organization \\ne.g. a report showing the growth, popularity of a hotel brand in comparison to others.  \\n \\nPeriodic Reports: The reports generated on scheduled intervals for guiding the \\nmanagement to exercise better control. The format is unusuall y pre-printed and system \\ngenerated so that they are uniform in nature.  \\n \\nFunctional Reports: This classification includes accounting reports, marketing reports, \\nfinancial reports, and a variety of other reports that take their designation from the \\nultimate use of the report. Almost all reports could be included in most of these \\ncategories. And a single report could be included in several classifications. \\ni.  Preprinted Form: These are like fill in the blank reports, relatively short (five or \\nfewer pages) and deal with routine information, mostly numerical information.  \\nii. Letter: Shorter reports that are aimed to develop an understanding in the people \\noutside the organization. These reports include all the normal parts of a letter, but they \\nmay also have headings, footnotes, tables, and figures. Personal pronouns are used in \\nthis type of report. \\niii. Memo: Common for short (fewer than ten pages) informal reports distributed within \\nan organization. The memo format of ―Date,‖ ―To,‖ ―From,‖ and ―Subject‖ is used. \\nLike longer reports, they often have internal headings and sometimes have visual aids.  \\niv. Manuscript: These are the reports that range from a few pages to several hundred \\npages and require a formal approach. As their length increases, reports in manuscript \\nformat require more elements before and after the text of the report.  \\n \\nCHECK YOUR PROGRESS-I \\n1. What are different types of report? \\n________________________________________________________________________\\n________________________________________________________________________\\n________________________________________________________________________\\n________________________________________________________________________\\n________________________________________________________________________\\n________________________________________________________________________\\n________________________________________________________________________\\n________________________________________________________________________\\n________________________________________________________________________\\n________________________________________________________________________\\n________________________________________________________________________ '),\n",
              " Document(metadata={'source': '/content/BHM-503T.pdf', 'page': 83, 'page_label': '84'}, page_content=' \\nResearching for Hospitality and Tourism Management                               BHM-503T \\nUttarakhand Open University  84 \\n \\n2. Write a note on ‗Steps in writing report‘. \\n________________________________________________________________________\\n________________________________________________________________________\\n________________________________________________________________________\\n________________________________________________________________________\\n________________________________________________________________________\\n________________________________________________________________________\\n________________________________________________________________________\\n________________________________________________________________________\\n________________________________________________________________________\\n________________________________________________________________________\\n________________________________________________________________________\\n________________________________________________________________________\\n________________________________________________________________________\\n________________________________________________________________________\\n________________________________________________________________________\\n________________________________________________________________________\\n________________________________________________________________________\\n________________________________________________________________________\\n________________________________________________________________________\\n________________________________________________________________________\\n________________________________________________________________________\\n________________________________________________________________________ \\n4.5 Mechanics of writing a research report \\n \\nRESEARCH REPORT FORMAT \\n \\nTraditional written reports tend to be produced in the following format. \\n1. Title Page \\na) Title of the Research Project, \\nb) Name of the researcher, \\nc) Purpose of the research project, e.g. ― A research project submitted in partial \\nfulfillment of the requirements of Uttarakhand Open University, for the degree of \\n………………  in………………………….. \\nd) Date of Publication \\n \\n2. Table of Contents \\nIn this section contents of the report are listed as they appear in the report, either in \\nchapters or in subheadings e.g. \\n \\nContents                    \\nPage No. '),\n",
              " Document(metadata={'source': '/content/BHM-503T.pdf', 'page': 84, 'page_label': '85'}, page_content=' \\nResearching for Hospitality and Tourism Management                               BHM-503T \\nUttarakhand Open University  85 \\n \\n \\n3. Acknowledgements: In this section t he researcher may acknowledge Institution \\nHead, Faculty Guides, research participants, friends etc. \\n \\n4. Introduction This section introduces the research setting out aims and objectives. It \\nincludes a rationale for the research. \\n \\n5. Chapter I Theoretical Framework and Review of Related Literature  \\n \\n6. Chapter II Research Design  \\n \\n7. Chapter III Data Analysis and Interpretation  \\n \\n8. Chapter IV Summary and Conclusion  \\n \\n9. Suggestions/ Recommendations  for Further Research  \\n \\n10. References/ Bibliography \\n \\n11. Appendices \\n \\n12. Appendix I Questionnaire for Employees \\n \\n13. Appendix II Questionnaire for Managers \\n \\n14. List of Tables:  This section includes title and page number of all tables. \\n \\nTable No.     Title       Page \\nNo. \\n \\n15. Details about respondents  (Demographic, Economical, Geographical, etc. relevant \\nto justify the data collected for study). \\n \\n16. List of Figures:  This section contains title and page number of all graphs, pie charts \\netc.  \\nFigure No.      Title      Page \\nNo. \\n \\nREPORT WRITING TITLES MAY BE UNDERSTOOD AS FOLLOWS:  \\n \\nTheoretical Framework and Review of Literature \\nThis section covers the sources of information and background research done by referring \\nto the literature av ailable. A good researcher keeps the details of all the sources and \\nliterature referred and should ensure giving suitable references wherever necessary to '),\n",
              " Document(metadata={'source': '/content/BHM-503T.pdf', 'page': 85, 'page_label': '86'}, page_content=' \\nResearching for Hospitality and Tourism Management                               BHM-503T \\nUttarakhand Open University  86 \\n \\navoid being accused  for plagiarism i.e. breach of copyrights, unauthorized copying, or \\nillegal use o f information. The Harvard System is generally used to quote reference to a \\nparticular book, a chapter in the book, or an article in the journal.      \\n \\nResearch Design: \\nThis section assists the other researchers to follow and replicate the study being \\npresented. All the practical methods used to select the population, area, collecting the \\ndata, selecting the respondents, selecting sample sizes, and methods of analysis used for \\nthese are presented in research design.  \\n \\nData Analysis and Interpretation: \\nThis is one of the most important sections of the report as it contains all the relevant \\ninformation pertaining to the presentation of data in the study conducted e.g. tables, \\ncharts, graphs, statistical data charts, figures etc when it is quantitative research  and a \\nnarrative prose or write uo describing the findings if it‘s a qualitative research.  \\n \\nSummary and Conclusion: \\nThis is the chapter where the findings are summed up to draw conclusions from them, \\nperhaps in relation to other research or literature. \\n \\nRecommendations \\nIf you have conducted a piece of research for a hotel or any other client organization, this \\nsection could be the most important part of the report. A list of clear recommendations \\nwhich have been developed from the research is included - sometimes this section is \\nincluded at the beginning of the report. \\n \\nSuggestion for Further Research \\nThis section helps the researcher to make the readers understand the broader scope of \\nresearch that may be taken up next. It also brings forward the unanswered questions, new \\nquestions about the study, newer scopes, and the findings that may seem inconclusive.   \\n \\nE.g. while closing a report on slow down in a hotel‘s business the report may highlight \\nthe failure in terms of innovation by the hotel and non - inclusion of facilities offered by \\nrival brands.  \\n \\nList of References /Bibliography \\n• List of references contains details only of those works cited in the text. \\n• A bibliography includes sources not cited in the text but which are relevant to the \\nsubject. (dissertations or thesis) \\n• Small research projects will need only a reference section detailing the literature \\nreferred in the report. \\nThe popular referencing system Harvard System  lists books and periodicals in the \\nfollowing manner: \\n \\nFor Books \\n1. Authors surname (alphabetically), followed by their initials, '),\n",
              " Document(metadata={'source': '/content/BHM-503T.pdf', 'page': 86, 'page_label': '87'}, page_content=' \\nResearching for Hospitality and Tourism Management                               BHM-503T \\nUttarakhand Open University  87 \\n \\n2. Date of publication \\n3. Title of book in italics \\n4. Place of publication, Publisher. E.g. Philip, T.E.; 1986 , Modern Cookery for Teaching \\nand Trade, Mumbai, Orient Longman. \\n \\nFor Journal Article: \\nThe title of the  article appears in inverted commas and name of the journal comes in \\nitalics, followed by volume number and pages of the article. e.g. Philip, T.E.; ―Influence \\nof British Raj on Indian Cuisine‖; Journal of Hospitality Education; 5:5-11 \\n \\nAppendices: \\nThe pilot and final questionnaires constructed for a study and the interview schedule for \\nresearch etc should be included as an appendix. Appendices do not count towards your \\ntotal number of pages/words. It is a useful way of including relevant material so that t he \\nexaminer can gain a deeper understanding of your work by reading it. \\nEDITING OF REPORTS USING EXTERNAL SOURCES:  \\na) Substantive Editing   \\nThis is the most comprehensive and articulated form of editing that includes evaluating \\nthe complete document and also  looks into the acceptability of problems of structure, \\norganization, coherence, and logical consistency. Language used is edited, sentences are \\nadded or removed,  . Paragraphs may be rewritten, condensed, or expanded. Blocks of \\ntext may be moved from one section to another. \\nb) Copy editing \\nThe editor corrects problems of grammar, style, repetition, word usage, and jargon. Copy \\nediting includes one revision at no additional charge. \\nc) Proofreading \\nProofreading is the lightest form of editing. Minor errors are cor rected. Minor errors \\ninclude: \\n\\uf0b7 Errors of grammar and style (e.g. verb tense, units of measurements, use of numerals \\nand words such as ―10‖ or ―ten‖) \\n\\uf0b7 Errors of capitalization, punctuation (e.g. the use of commas, semicolons, colons, \\nperiods, dashes, apostrophes) \\n\\uf0b7 Errors of spelling and word usage (e.g., no/ know, then/than). \\nd) Formatting \\nThe editor will amend document text to ensure that it complies with the required format, \\nsuch as the format required by a specific journal. '),\n",
              " Document(metadata={'source': '/content/BHM-503T.pdf', 'page': 87, 'page_label': '88'}, page_content=' \\nResearching for Hospitality and Tourism Management                               BHM-503T \\nUttarakhand Open University  88 \\n \\ne) References/Literature Cited \\nLiterature citations are checked to ensure that each citation that appears in the text is also \\nincluded in the list of citations. Citations are also checked to ensure that each citation that \\nappears in the list of citations also appears in the text. The format of t he citations are \\ncorrected so that it conforms with requirements, such as the style preferred by a specific \\njournal. \\nf) Other documents \\nOther documents also may be edited. For example, the editor may rework tables, figures, \\nand figure legends to represent the data more clearly. \\ng) Review \\nThe editor may provide a one to two page diagnosis of the manuscript that highlights the \\nareas where changes might be most beneficial. Criticisms that are likely to arise during \\npeer review, such as repetitive, ambiguous, or inco mplete information, will be noted. A \\nreview includes proofreading at no charge. Turnaround time must be negotiated.  \\nTYPING AND BINDING OF RESEARCH PROJECT REPORT: \\nPaper: Bond Paper (need not be executive bond) \\nSize: 8.5inches X 11 inches \\nMargin: Left- 1.5 inch \\nTop- 1 inch \\nBottom 1 inch \\nRight 1 inch \\nFont: Times New Roman \\nFont Size: 12 \\nSpacing: Double \\nBinding: Black / Blue Soft Rexene \\nGold / Silver Embossing on Cover: \\nResearch Title \\nStudent Name \\nName of Institute \\nYear of Submission \\n4.6 CHALLENGES OF A GOOD WRITING \\n1. Choosing the Right Topic: The importance of selecting the right topic is crucial for \\nall steps to follow in a research study.  A researcher has to evaluate the available \\nresources and then decide atopic to which expected justification can be assured. M ost \\nof the content available related to the topic has to be read and made note of for future \\nreferencing.  \\n \\nIf a theoretical framework that supports the study can be filtered down it proves to be \\nauthoritative in later stages. The topic should be providing  constant motivation for the '),\n",
              " Document(metadata={'source': '/content/BHM-503T.pdf', 'page': 88, 'page_label': '89'}, page_content=' \\nResearching for Hospitality and Tourism Management                               BHM-503T \\nUttarakhand Open University  89 \\n \\nresearcher so that the study seems doable and interesting in the longer duration.  A \\nniche for differentiation should be looked for and asking for input from experts from \\nthe field of study shall always help in finalizing minute details. \\n \\n2. Choosing the Right Methodology: Selecting appropriate methodology is imperative \\nfor a good research work. But this selection mostly defends on right questions being \\nframed. Quantitative and qualitative research works shall have different \\nmethodologies depending on the topic and resources. The  questions that include \\nwords such as ―explore,‖ ―understand,‖ and ―generate,‖ suggest that the study is \\nqualitative. Whereas words such as ―compare,‖ ―relate,‖ or ―correlate‖ suggest that it \\nis a quantitati ve study.  Assess from whom the data is to be collected from, how the \\ncollection would be done and what shall be the tools for analysis of this information.  \\n \\n3. Developing a Research Team: Savage suggests that you ―cultivate friendships with \\npeople who are going to help you think critically‖ about your topic. These people are \\ninvaluable for helping you consider your idea from a different angle or perspective.  A \\ngood research team would also ensure collection of genuine data, honesty in analysis \\nand guidance in case a change is necessary.  The team should be clear and in unison \\nwith the reearcher‘s idea of study.  \\n \\n4.  Selecting the respondents for the study: It is always the biggest of challenges to \\nselect the respondents suitable to the study as they shall ensu re the results and \\nfindings are suitable to the study. E.g. to study the facilities and services required for a \\nfive star hotel needs the respondents used to visiting such hotels instead of general \\npublic who has no or a vague idea of services and products  offered by a hotel in such \\ncategory. Using personal networks and contacts are fruitful in getting respondents \\nwho shall listen and understand the demands of the researcher thereby saving the cost \\nalso.    \\n5. Reaching out to establishments to contribute in re search work: Researcher may \\nface challenges when the respondents are associated to the organisations which may \\nbe useful to support the field of study. It has to be ensured that no controversial or \\nconfidential information is solicited and the respondents are aware that due approvals \\nhave been taken from such organisation. This can also be done by contacting an \\nagency or a body that can connect to the respondent organisation on behalf of the \\nresearcher. A formal but long lasting collaboration or professiona l relationship with \\nsuch organisations leads to better outcomes.   \\n \\n6. Self Motivation: This is important because many studies may take longer than \\nexpected to be concluded. The respondents may become non cooperative, or slow in \\nresponding, the resources may run out, their attitudes may change thus making it \\ndifficult for researcher to move forward. This calls for self motivation and positive \\napproach and to be passionate.  \\n \\n7. Data assimilation and analysis: Once the process of data collection is nearing \\ncompletion it becomes important to make this data work for the researcher i.e. it \\nshould be tabulated in such a way that it starts making sense. Here the methodology '),\n",
              " Document(metadata={'source': '/content/BHM-503T.pdf', 'page': 89, 'page_label': '90'}, page_content=' \\nResearching for Hospitality and Tourism Management                               BHM-503T \\nUttarakhand Open University  90 \\n \\nadopted should be referred time and again.  The data should be presented in a way \\nthat it demonst rates how the research adds to the body of knowledge. Making use of \\ntechnology and software available eases out this function. The bias in any form should \\nbe looked into and taken care of by generalising it as per population.  \\n \\nCHECK YOUR PROGRESS-II \\n1. What challenges one faces while writing good report? \\n________________________________________________________________________\\n________________________________________________________________________\\n________________________________________________________________________\\n________________________________________________________________________\\n________________________________________________________________________\\n________________________________________________________________________\\n________________________________________________________________________\\n________________________________________________________________________ \\n________________________________________________________________________\\n________________________________________________________________________\\n________________________________________________________________________\\n________________________________________________________________________\\n________________________________________________________________________\\n________________________________________________________________________\\n________________________________________________________________________\\n________________________________________________________________________\\n________________________________________________________________________\\n________________________________________________________________________\\n________________________________________________________________________\\n________________________________________________________________________\\n________________________________________________________________________\\n________________________________________________________________________\\n________________________________________________________________________\\n________________________________________________________________________\\n________________________________________________________________________\\n________________________________________________________________________\\n________________________________________________________________________\\n________________________________________________________________________\\n________________________________________________________________________\\n________________________________________________________________________ \\n4.7 Summary \\nReports are used as a form of written assessment to find out what has been learnt from \\nreading, researching or experiencing an important skill that is widely used in the work \\nplace. Good report writing is an important quality for any researcher as this also presents \\nthe findings to the readers outside your subject area with the experts in the field. It '),\n",
              " Document(metadata={'source': '/content/BHM-503T.pdf', 'page': 90, 'page_label': '91'}, page_content=' \\nResearching for Hospitality and Tourism Management                               BHM-503T \\nUttarakhand Open University  91 \\n \\nfocuses on the findings, conclusions, discoveries made, efforts made and inferences \\ndrawn from the research study conducted. The report should be written in a simple but \\nscholastic style. The language should be formal and not like the one used in media \\npublications. \\n4.8 Glossary \\nAppendices: The pilot and final questionnaires constructed for a study and the interview \\nschedule for research etc should be included as an appendix. Appendices do not count \\ntowards your total number of pages/words. It is a useful way of including relevant \\nmaterial so that the examiner can gain a deeper understanding of your work by reading it. \\n \\nData Analysis and Interpretation:  This is one of the most important sections of the \\nreport as it contains all the relevant information pertaining to the presentation of data in \\nthe study conducted e.g. tables, charts, graphs, statistical data charts, figures etc when it is \\nquantitative research  and a narrative prose or write uo describing the findings if it‘s a \\nqualitative research.  \\n \\nFor Journal Article: The title of the article appears in inverted commas and name of the \\njournal comes in italics, followed by volume number and pages of the article. e.g. Philip, \\nT.E.; ―Influence of British Raj on Indian Cuisine‖; Journal of Hospitality Education; 5:5-\\n11 \\n \\nFormal or Informal Reports: A formal report has a carefully drafted structure, clear \\nobjectives, is organized and has sufficient details to let the reader understand the \\nconcepts. These are written using non personal elements whereas an informal report can \\nbe direct, short with casual language e.g. an inter office communication via a notice or \\nmemorandum. Functional Reports: This classification includes accounting reports, \\nmarketing reports, financial reports, and a variety of other reports that take their \\ndesignation from the ultimate use of the report. Almost all reports could be included in \\nmost of these categories. And a single report could be included in several classifications. \\n \\nInformational or Analytical Reports: Informational reports (annual reports, monthly \\nfinancial reports, and reports about personnel) carry objective information from one area \\nof an organization to another. Analytical reports (scientific research, feasibility reports, \\nand real-estate appraisals) present attempts to solve problems. \\n \\nInternal or External Reports: Internal reports are circulated within the organization e.g. \\nthe reports circulated in the morning meeting of managers at a hotel. External reports, \\nsuch as annual reports of companies, are prepared for distribution outside the organization \\ne.g. a report showing the growth, popularity of a hotel brand in comparison to others.  \\n \\nLetter: Shorter reports that are aimed to develop an understanding in the people outside \\nthe organization. These reports include all the normal parts of a letter, but they may also '),\n",
              " Document(metadata={'source': '/content/BHM-503T.pdf', 'page': 91, 'page_label': '92'}, page_content=' \\nResearching for Hospitality and Tourism Management                               BHM-503T \\nUttarakhand Open University  92 \\n \\nhave headings, footnotes, tables, and figures. Personal pronouns are used in this type of \\nreport. \\n \\nManuscript: These are the reports that range from a few pages to several hundred pages \\nand require a formal approach. As their length increases, reports in manuscript format \\nrequire more elements before and after the text of the report.  \\n \\nMemo: Common for short (fewer than ten pages) informal reports distributed within an \\norganization. The memo format of ―Date,‖ ―To,‖ ―From,‖ and ―Subject‖ is used. Like \\nlonger reports, they often have internal headings and sometimes have visual aids.  \\n \\nPeriodic Reports: The reports generated on scheduled intervals for guiding the \\nmanagement to exercise better control. The format is unusuall y pre-printed and system \\ngenerated so that they are uniform in nature.  \\n \\nPopular Report : The highlights of this report are simplicity and attractiveness. The \\nsimplification is done by clear writing, minimization of technical , particularly \\nmathematical, details and liberal use of charts and diagrams. Attractive layout along with \\nlarge print, many subheadings, even an occasional figurine is another characteristic \\nfeature of the popular report.  \\n \\nPreprinted Form: These are like fill in the blank reports, relatively short (five or fewer \\npages) and deal with routine information, mostly numerical information.  \\n \\nProposal Report: The proposal is a variation of problem -solving reports. A proposal is a \\ndocument prepared to describe how one organization can meet the needs of another. Most \\ngovernmental agencies advertise their  needs by issuing ―requests for proposal‖ or RFPs. \\nThe RFP specifies a need and potential suppliers prepare proposal reports telling how \\nthey can meet that need. \\nRecommendations: If you have conducted a piece of research for a hotel or any other \\nclient organization, this section could be the most important part of the report. A list of \\nclear recommendations which have been developed from the research is included - \\nsometimes this section is included at the beginning of the report. \\n \\nResearch Design : This section assists the other researchers to follow and replicate the \\nstudy being pres ented. All the practical methods used to select the population, area, \\ncollecting the data, selecting the respondents, selecting sample sizes, and methods of \\nanalysis used for these are presented in research design.  \\n \\nSuggestion for Further Research: This section helps the researcher to make the readers \\nunderstand the broader scope of research that may be taken up next. It also brings forward \\nthe unanswered questions, new questions about the study, newer scopes, and the findings \\nthat may seem inconclusive.   \\n '),\n",
              " Document(metadata={'source': '/content/BHM-503T.pdf', 'page': 92, 'page_label': '93'}, page_content=' \\nResearching for Hospitality and Tourism Management                               BHM-503T \\nUttarakhand Open University  93 \\n \\nSummary and Conclusion:  This is the chapter where the findings are summed up to \\ndraw conclusions from them, perhaps in relation to other research or literature. \\n \\nTechnical Report : In the technica l report the main emphasis is on the methods \\nemployed, assumptions made in the course of the study and the detailed presentation of \\nthe findings including their limitations and supporting data. E.g, the project reports when \\na hotel is being conceptualised.  \\n \\nTheoretical Framework and Review of Literature : This section covers the sources of \\ninformation and background research done by referring to the literature av ailable. A good \\nresearcher keeps the details of all the sources and literature referred and should ensure \\ngiving suitable references wherever necessary to avoid being accused  for plagiarism i.e. \\nbreach of copyrights, unauthorized copying, or illegal use o f information. The Harvard \\nSystem is generally used to quote reference to a particular book, a chapter in the book, or \\nan article in the journal.      \\nVertical or Lateral Reports: Any reports that move upward or downward the \\nhierarchies are refe rred to as vertical reports; such reports contribute to management \\ncontrol. Lateral reports, on the other hand, assist in coordination in the organization. A \\nreport traveling between units of the same organization level (production and finance \\ndepartments) is lateral. \\n4.9 References/Bibliography \\n• Dawson, Catherine, 2002, Practical Research Methods, New Delhi, UBS Publishers‘ \\nDistributors, \\n• Kothari, C.R.,1985, Research Methodol ogy-Methods and Techniques, New Delhi, \\nWiley Eastern Limited. \\n• Kumar, Ranjit, 2005, Research Methodology -A Step -by-Step Guide for Beginners , \\n(2nd.ed), Singapore, Pearson Education \\n•  Research Design: Qualitative, Quantitative, and Mixed Methods Approaches, 4th \\nEdition, by John W. Creswell (Author) \\n• The SAGE Handbook of Qualitative Research (Sage Handbooks) 4th Edition, by \\nNorman K. Denzin (Editor), Yvonna S. Lincoln (Editor) \\n• Research an Introduction: Robert Ross \\n4.10 Suggested Readings \\n\\uf0b7 Kumar Ranjit: Research Methodology: A Step by Step Guide for Beginners, Sage \\nPublication, 2014. \\n\\uf0b7 Kothari C.R. : Research Methodology, New Age International, 2011. \\n\\uf0b7 Shajahan S. : Research Methods for Management, 2004. \\n\\uf0b7 Thanulingom N : Research Methodology, Himalaya Publishing \\n\\uf0b7 C. Rajendar Kumar : Research Methodology , APH Publishing '),\n",
              " Document(metadata={'source': '/content/BHM-503T.pdf', 'page': 93, 'page_label': '94'}, page_content=' \\nResearching for Hospitality and Tourism Management                               BHM-503T \\nUttarakhand Open University  94 \\n \\n\\uf0b7 J. R. Brent Ritchie , Charles R. Goeldner : Travel, Tourism, and Hospitality \\nResearch: A Handbook for Managers and Researchers, Wiley Publishers  \\nPublishers Ltd, UK \\n4.11 Terminal Questions \\n \\n1. List the steps involved in writing report. \\n2. What is Layout of the research report? \\n3. What challenges one faces while writing a good report? \\n4. Briefly explain the following: \\na. Appendices \\nb. Data Analysis and Interpretation \\nc. For Journal Article  \\nd. Formal or Informal Reports \\ne. Functional Reports \\nf. Informational or Analytical Reports \\ng. Internal or External Reports \\nh. Manuscript \\ni. Memo \\nj. Periodic Reports \\nk. Proposal Report \\nl. Research Design \\nm. Technical  \\nn. Theoretical Framework and Review of Literature \\no. Vertical or Lateral Reports \\n ')]"
            ]
          },
          "execution_count": 74,
          "metadata": {},
          "output_type": "execute_result"
        }
      ],
      "source": [
        "pages"
      ]
    },
    {
      "cell_type": "markdown",
      "metadata": {
        "id": "jHaifEkEkg5I"
      },
      "source": [
        "### ***Multi DataFrame in langchain***"
      ]
    },
    {
      "cell_type": "code",
      "execution_count": 77,
      "metadata": {
        "id": "dfQorg41kbDW"
      },
      "outputs": [],
      "source": [
        "# In LangChain, the Agent can access many dataframes at once\n",
        "import os\n",
        "import warnings\n",
        "warnings.filterwarnings(\"ignore\")\n",
        "# Importing pandas for data handling\n",
        "import pandas as pd"
      ]
    },
    {
      "cell_type": "code",
      "execution_count": 80,
      "metadata": {
        "id": "8k_1bGoIkn4a"
      },
      "outputs": [],
      "source": [
        "# Importing required LangChain modules\n",
        "from langchain_experimental.agents.agent_toolkits import create_pandas_dataframe_agent\n",
        "from langchain.llms import HuggingFaceHub"
      ]
    },
    {
      "cell_type": "code",
      "execution_count": 81,
      "metadata": {
        "id": "Czbt7UmpktQO"
      },
      "outputs": [],
      "source": [
        "# Setting up Hugging Face API key\n",
        "os.environ['HUGGINGFACEHUB_API_TOKEN'] = \"\""
      ]
    },
    {
      "cell_type": "code",
      "execution_count": 82,
      "metadata": {
        "colab": {
          "base_uri": "https://localhost:8080/",
          "height": 244
        },
        "id": "zFtRTktyk4_B",
        "outputId": "44fcc17b-3217-408e-83bf-fe1be0c4d765"
      },
      "outputs": [
        {
          "name": "stdout",
          "output_type": "stream",
          "text": [
            "(891, 15)\n"
          ]
        },
        {
          "data": {
            "application/vnd.google.colaboratory.intrinsic+json": {
              "summary": "{\n  \"name\": \"df\",\n  \"rows\": 891,\n  \"fields\": [\n    {\n      \"column\": \"survived\",\n      \"properties\": {\n        \"dtype\": \"number\",\n        \"std\": 0,\n        \"min\": 0,\n        \"max\": 1,\n        \"num_unique_values\": 2,\n        \"samples\": [\n          1,\n          0\n        ],\n        \"semantic_type\": \"\",\n        \"description\": \"\"\n      }\n    },\n    {\n      \"column\": \"pclass\",\n      \"properties\": {\n        \"dtype\": \"number\",\n        \"std\": 0,\n        \"min\": 1,\n        \"max\": 3,\n        \"num_unique_values\": 3,\n        \"samples\": [\n          3,\n          1\n        ],\n        \"semantic_type\": \"\",\n        \"description\": \"\"\n      }\n    },\n    {\n      \"column\": \"sex\",\n      \"properties\": {\n        \"dtype\": \"category\",\n        \"num_unique_values\": 2,\n        \"samples\": [\n          \"female\",\n          \"male\"\n        ],\n        \"semantic_type\": \"\",\n        \"description\": \"\"\n      }\n    },\n    {\n      \"column\": \"age\",\n      \"properties\": {\n        \"dtype\": \"number\",\n        \"std\": 14.526497332334044,\n        \"min\": 0.42,\n        \"max\": 80.0,\n        \"num_unique_values\": 88,\n        \"samples\": [\n          0.75,\n          22.0\n        ],\n        \"semantic_type\": \"\",\n        \"description\": \"\"\n      }\n    },\n    {\n      \"column\": \"sibsp\",\n      \"properties\": {\n        \"dtype\": \"number\",\n        \"std\": 1,\n        \"min\": 0,\n        \"max\": 8,\n        \"num_unique_values\": 7,\n        \"samples\": [\n          1,\n          0\n        ],\n        \"semantic_type\": \"\",\n        \"description\": \"\"\n      }\n    },\n    {\n      \"column\": \"parch\",\n      \"properties\": {\n        \"dtype\": \"number\",\n        \"std\": 0,\n        \"min\": 0,\n        \"max\": 6,\n        \"num_unique_values\": 7,\n        \"samples\": [\n          0,\n          1\n        ],\n        \"semantic_type\": \"\",\n        \"description\": \"\"\n      }\n    },\n    {\n      \"column\": \"fare\",\n      \"properties\": {\n        \"dtype\": \"number\",\n        \"std\": 49.693428597180905,\n        \"min\": 0.0,\n        \"max\": 512.3292,\n        \"num_unique_values\": 248,\n        \"samples\": [\n          11.2417,\n          51.8625\n        ],\n        \"semantic_type\": \"\",\n        \"description\": \"\"\n      }\n    },\n    {\n      \"column\": \"embarked\",\n      \"properties\": {\n        \"dtype\": \"category\",\n        \"num_unique_values\": 3,\n        \"samples\": [\n          \"S\",\n          \"C\"\n        ],\n        \"semantic_type\": \"\",\n        \"description\": \"\"\n      }\n    },\n    {\n      \"column\": \"class\",\n      \"properties\": {\n        \"dtype\": \"category\",\n        \"num_unique_values\": 3,\n        \"samples\": [\n          \"Third\",\n          \"First\"\n        ],\n        \"semantic_type\": \"\",\n        \"description\": \"\"\n      }\n    },\n    {\n      \"column\": \"who\",\n      \"properties\": {\n        \"dtype\": \"category\",\n        \"num_unique_values\": 3,\n        \"samples\": [\n          \"man\",\n          \"woman\"\n        ],\n        \"semantic_type\": \"\",\n        \"description\": \"\"\n      }\n    },\n    {\n      \"column\": \"adult_male\",\n      \"properties\": {\n        \"dtype\": \"boolean\",\n        \"num_unique_values\": 2,\n        \"samples\": [\n          false,\n          true\n        ],\n        \"semantic_type\": \"\",\n        \"description\": \"\"\n      }\n    },\n    {\n      \"column\": \"deck\",\n      \"properties\": {\n        \"dtype\": \"category\",\n        \"num_unique_values\": 7,\n        \"samples\": [\n          \"C\",\n          \"E\"\n        ],\n        \"semantic_type\": \"\",\n        \"description\": \"\"\n      }\n    },\n    {\n      \"column\": \"embark_town\",\n      \"properties\": {\n        \"dtype\": \"category\",\n        \"num_unique_values\": 3,\n        \"samples\": [\n          \"Southampton\",\n          \"Cherbourg\"\n        ],\n        \"semantic_type\": \"\",\n        \"description\": \"\"\n      }\n    },\n    {\n      \"column\": \"alive\",\n      \"properties\": {\n        \"dtype\": \"category\",\n        \"num_unique_values\": 2,\n        \"samples\": [\n          \"yes\",\n          \"no\"\n        ],\n        \"semantic_type\": \"\",\n        \"description\": \"\"\n      }\n    },\n    {\n      \"column\": \"alone\",\n      \"properties\": {\n        \"dtype\": \"boolean\",\n        \"num_unique_values\": 2,\n        \"samples\": [\n          true,\n          false\n        ],\n        \"semantic_type\": \"\",\n        \"description\": \"\"\n      }\n    }\n  ]\n}",
              "type": "dataframe",
              "variable_name": "df"
            },
            "text/html": [
              "\n",
              "  <div id=\"df-feacdd65-af6b-4355-bc4e-6235bcc82877\" class=\"colab-df-container\">\n",
              "    <div>\n",
              "<style scoped>\n",
              "    .dataframe tbody tr th:only-of-type {\n",
              "        vertical-align: middle;\n",
              "    }\n",
              "\n",
              "    .dataframe tbody tr th {\n",
              "        vertical-align: top;\n",
              "    }\n",
              "\n",
              "    .dataframe thead th {\n",
              "        text-align: right;\n",
              "    }\n",
              "</style>\n",
              "<table border=\"1\" class=\"dataframe\">\n",
              "  <thead>\n",
              "    <tr style=\"text-align: right;\">\n",
              "      <th></th>\n",
              "      <th>survived</th>\n",
              "      <th>pclass</th>\n",
              "      <th>sex</th>\n",
              "      <th>age</th>\n",
              "      <th>sibsp</th>\n",
              "      <th>parch</th>\n",
              "      <th>fare</th>\n",
              "      <th>embarked</th>\n",
              "      <th>class</th>\n",
              "      <th>who</th>\n",
              "      <th>adult_male</th>\n",
              "      <th>deck</th>\n",
              "      <th>embark_town</th>\n",
              "      <th>alive</th>\n",
              "      <th>alone</th>\n",
              "    </tr>\n",
              "  </thead>\n",
              "  <tbody>\n",
              "    <tr>\n",
              "      <th>0</th>\n",
              "      <td>0</td>\n",
              "      <td>3</td>\n",
              "      <td>male</td>\n",
              "      <td>22.0</td>\n",
              "      <td>1</td>\n",
              "      <td>0</td>\n",
              "      <td>7.2500</td>\n",
              "      <td>S</td>\n",
              "      <td>Third</td>\n",
              "      <td>man</td>\n",
              "      <td>True</td>\n",
              "      <td>NaN</td>\n",
              "      <td>Southampton</td>\n",
              "      <td>no</td>\n",
              "      <td>False</td>\n",
              "    </tr>\n",
              "    <tr>\n",
              "      <th>1</th>\n",
              "      <td>1</td>\n",
              "      <td>1</td>\n",
              "      <td>female</td>\n",
              "      <td>38.0</td>\n",
              "      <td>1</td>\n",
              "      <td>0</td>\n",
              "      <td>71.2833</td>\n",
              "      <td>C</td>\n",
              "      <td>First</td>\n",
              "      <td>woman</td>\n",
              "      <td>False</td>\n",
              "      <td>C</td>\n",
              "      <td>Cherbourg</td>\n",
              "      <td>yes</td>\n",
              "      <td>False</td>\n",
              "    </tr>\n",
              "    <tr>\n",
              "      <th>2</th>\n",
              "      <td>1</td>\n",
              "      <td>3</td>\n",
              "      <td>female</td>\n",
              "      <td>26.0</td>\n",
              "      <td>0</td>\n",
              "      <td>0</td>\n",
              "      <td>7.9250</td>\n",
              "      <td>S</td>\n",
              "      <td>Third</td>\n",
              "      <td>woman</td>\n",
              "      <td>False</td>\n",
              "      <td>NaN</td>\n",
              "      <td>Southampton</td>\n",
              "      <td>yes</td>\n",
              "      <td>True</td>\n",
              "    </tr>\n",
              "    <tr>\n",
              "      <th>3</th>\n",
              "      <td>1</td>\n",
              "      <td>1</td>\n",
              "      <td>female</td>\n",
              "      <td>35.0</td>\n",
              "      <td>1</td>\n",
              "      <td>0</td>\n",
              "      <td>53.1000</td>\n",
              "      <td>S</td>\n",
              "      <td>First</td>\n",
              "      <td>woman</td>\n",
              "      <td>False</td>\n",
              "      <td>C</td>\n",
              "      <td>Southampton</td>\n",
              "      <td>yes</td>\n",
              "      <td>False</td>\n",
              "    </tr>\n",
              "    <tr>\n",
              "      <th>4</th>\n",
              "      <td>0</td>\n",
              "      <td>3</td>\n",
              "      <td>male</td>\n",
              "      <td>35.0</td>\n",
              "      <td>0</td>\n",
              "      <td>0</td>\n",
              "      <td>8.0500</td>\n",
              "      <td>S</td>\n",
              "      <td>Third</td>\n",
              "      <td>man</td>\n",
              "      <td>True</td>\n",
              "      <td>NaN</td>\n",
              "      <td>Southampton</td>\n",
              "      <td>no</td>\n",
              "      <td>True</td>\n",
              "    </tr>\n",
              "  </tbody>\n",
              "</table>\n",
              "</div>\n",
              "    <div class=\"colab-df-buttons\">\n",
              "\n",
              "  <div class=\"colab-df-container\">\n",
              "    <button class=\"colab-df-convert\" onclick=\"convertToInteractive('df-feacdd65-af6b-4355-bc4e-6235bcc82877')\"\n",
              "            title=\"Convert this dataframe to an interactive table.\"\n",
              "            style=\"display:none;\">\n",
              "\n",
              "  <svg xmlns=\"http://www.w3.org/2000/svg\" height=\"24px\" viewBox=\"0 -960 960 960\">\n",
              "    <path d=\"M120-120v-720h720v720H120Zm60-500h600v-160H180v160Zm220 220h160v-160H400v160Zm0 220h160v-160H400v160ZM180-400h160v-160H180v160Zm440 0h160v-160H620v160ZM180-180h160v-160H180v160Zm440 0h160v-160H620v160Z\"/>\n",
              "  </svg>\n",
              "    </button>\n",
              "\n",
              "  <style>\n",
              "    .colab-df-container {\n",
              "      display:flex;\n",
              "      gap: 12px;\n",
              "    }\n",
              "\n",
              "    .colab-df-convert {\n",
              "      background-color: #E8F0FE;\n",
              "      border: none;\n",
              "      border-radius: 50%;\n",
              "      cursor: pointer;\n",
              "      display: none;\n",
              "      fill: #1967D2;\n",
              "      height: 32px;\n",
              "      padding: 0 0 0 0;\n",
              "      width: 32px;\n",
              "    }\n",
              "\n",
              "    .colab-df-convert:hover {\n",
              "      background-color: #E2EBFA;\n",
              "      box-shadow: 0px 1px 2px rgba(60, 64, 67, 0.3), 0px 1px 3px 1px rgba(60, 64, 67, 0.15);\n",
              "      fill: #174EA6;\n",
              "    }\n",
              "\n",
              "    .colab-df-buttons div {\n",
              "      margin-bottom: 4px;\n",
              "    }\n",
              "\n",
              "    [theme=dark] .colab-df-convert {\n",
              "      background-color: #3B4455;\n",
              "      fill: #D2E3FC;\n",
              "    }\n",
              "\n",
              "    [theme=dark] .colab-df-convert:hover {\n",
              "      background-color: #434B5C;\n",
              "      box-shadow: 0px 1px 3px 1px rgba(0, 0, 0, 0.15);\n",
              "      filter: drop-shadow(0px 1px 2px rgba(0, 0, 0, 0.3));\n",
              "      fill: #FFFFFF;\n",
              "    }\n",
              "  </style>\n",
              "\n",
              "    <script>\n",
              "      const buttonEl =\n",
              "        document.querySelector('#df-feacdd65-af6b-4355-bc4e-6235bcc82877 button.colab-df-convert');\n",
              "      buttonEl.style.display =\n",
              "        google.colab.kernel.accessAllowed ? 'block' : 'none';\n",
              "\n",
              "      async function convertToInteractive(key) {\n",
              "        const element = document.querySelector('#df-feacdd65-af6b-4355-bc4e-6235bcc82877');\n",
              "        const dataTable =\n",
              "          await google.colab.kernel.invokeFunction('convertToInteractive',\n",
              "                                                    [key], {});\n",
              "        if (!dataTable) return;\n",
              "\n",
              "        const docLinkHtml = 'Like what you see? Visit the ' +\n",
              "          '<a target=\"_blank\" href=https://colab.research.google.com/notebooks/data_table.ipynb>data table notebook</a>'\n",
              "          + ' to learn more about interactive tables.';\n",
              "        element.innerHTML = '';\n",
              "        dataTable['output_type'] = 'display_data';\n",
              "        await google.colab.output.renderOutput(dataTable, element);\n",
              "        const docLink = document.createElement('div');\n",
              "        docLink.innerHTML = docLinkHtml;\n",
              "        element.appendChild(docLink);\n",
              "      }\n",
              "    </script>\n",
              "  </div>\n",
              "\n",
              "\n",
              "<div id=\"df-77ce53ef-443a-4b46-a284-b3dff7bd9da2\">\n",
              "  <button class=\"colab-df-quickchart\" onclick=\"quickchart('df-77ce53ef-443a-4b46-a284-b3dff7bd9da2')\"\n",
              "            title=\"Suggest charts\"\n",
              "            style=\"display:none;\">\n",
              "\n",
              "<svg xmlns=\"http://www.w3.org/2000/svg\" height=\"24px\"viewBox=\"0 0 24 24\"\n",
              "     width=\"24px\">\n",
              "    <g>\n",
              "        <path d=\"M19 3H5c-1.1 0-2 .9-2 2v14c0 1.1.9 2 2 2h14c1.1 0 2-.9 2-2V5c0-1.1-.9-2-2-2zM9 17H7v-7h2v7zm4 0h-2V7h2v10zm4 0h-2v-4h2v4z\"/>\n",
              "    </g>\n",
              "</svg>\n",
              "  </button>\n",
              "\n",
              "<style>\n",
              "  .colab-df-quickchart {\n",
              "      --bg-color: #E8F0FE;\n",
              "      --fill-color: #1967D2;\n",
              "      --hover-bg-color: #E2EBFA;\n",
              "      --hover-fill-color: #174EA6;\n",
              "      --disabled-fill-color: #AAA;\n",
              "      --disabled-bg-color: #DDD;\n",
              "  }\n",
              "\n",
              "  [theme=dark] .colab-df-quickchart {\n",
              "      --bg-color: #3B4455;\n",
              "      --fill-color: #D2E3FC;\n",
              "      --hover-bg-color: #434B5C;\n",
              "      --hover-fill-color: #FFFFFF;\n",
              "      --disabled-bg-color: #3B4455;\n",
              "      --disabled-fill-color: #666;\n",
              "  }\n",
              "\n",
              "  .colab-df-quickchart {\n",
              "    background-color: var(--bg-color);\n",
              "    border: none;\n",
              "    border-radius: 50%;\n",
              "    cursor: pointer;\n",
              "    display: none;\n",
              "    fill: var(--fill-color);\n",
              "    height: 32px;\n",
              "    padding: 0;\n",
              "    width: 32px;\n",
              "  }\n",
              "\n",
              "  .colab-df-quickchart:hover {\n",
              "    background-color: var(--hover-bg-color);\n",
              "    box-shadow: 0 1px 2px rgba(60, 64, 67, 0.3), 0 1px 3px 1px rgba(60, 64, 67, 0.15);\n",
              "    fill: var(--button-hover-fill-color);\n",
              "  }\n",
              "\n",
              "  .colab-df-quickchart-complete:disabled,\n",
              "  .colab-df-quickchart-complete:disabled:hover {\n",
              "    background-color: var(--disabled-bg-color);\n",
              "    fill: var(--disabled-fill-color);\n",
              "    box-shadow: none;\n",
              "  }\n",
              "\n",
              "  .colab-df-spinner {\n",
              "    border: 2px solid var(--fill-color);\n",
              "    border-color: transparent;\n",
              "    border-bottom-color: var(--fill-color);\n",
              "    animation:\n",
              "      spin 1s steps(1) infinite;\n",
              "  }\n",
              "\n",
              "  @keyframes spin {\n",
              "    0% {\n",
              "      border-color: transparent;\n",
              "      border-bottom-color: var(--fill-color);\n",
              "      border-left-color: var(--fill-color);\n",
              "    }\n",
              "    20% {\n",
              "      border-color: transparent;\n",
              "      border-left-color: var(--fill-color);\n",
              "      border-top-color: var(--fill-color);\n",
              "    }\n",
              "    30% {\n",
              "      border-color: transparent;\n",
              "      border-left-color: var(--fill-color);\n",
              "      border-top-color: var(--fill-color);\n",
              "      border-right-color: var(--fill-color);\n",
              "    }\n",
              "    40% {\n",
              "      border-color: transparent;\n",
              "      border-right-color: var(--fill-color);\n",
              "      border-top-color: var(--fill-color);\n",
              "    }\n",
              "    60% {\n",
              "      border-color: transparent;\n",
              "      border-right-color: var(--fill-color);\n",
              "    }\n",
              "    80% {\n",
              "      border-color: transparent;\n",
              "      border-right-color: var(--fill-color);\n",
              "      border-bottom-color: var(--fill-color);\n",
              "    }\n",
              "    90% {\n",
              "      border-color: transparent;\n",
              "      border-bottom-color: var(--fill-color);\n",
              "    }\n",
              "  }\n",
              "</style>\n",
              "\n",
              "  <script>\n",
              "    async function quickchart(key) {\n",
              "      const quickchartButtonEl =\n",
              "        document.querySelector('#' + key + ' button');\n",
              "      quickchartButtonEl.disabled = true;  // To prevent multiple clicks.\n",
              "      quickchartButtonEl.classList.add('colab-df-spinner');\n",
              "      try {\n",
              "        const charts = await google.colab.kernel.invokeFunction(\n",
              "            'suggestCharts', [key], {});\n",
              "      } catch (error) {\n",
              "        console.error('Error during call to suggestCharts:', error);\n",
              "      }\n",
              "      quickchartButtonEl.classList.remove('colab-df-spinner');\n",
              "      quickchartButtonEl.classList.add('colab-df-quickchart-complete');\n",
              "    }\n",
              "    (() => {\n",
              "      let quickchartButtonEl =\n",
              "        document.querySelector('#df-77ce53ef-443a-4b46-a284-b3dff7bd9da2 button');\n",
              "      quickchartButtonEl.style.display =\n",
              "        google.colab.kernel.accessAllowed ? 'block' : 'none';\n",
              "    })();\n",
              "  </script>\n",
              "</div>\n",
              "\n",
              "    </div>\n",
              "  </div>\n"
            ],
            "text/plain": [
              "   survived  pclass     sex   age  sibsp  parch     fare embarked  class  \\\n",
              "0         0       3    male  22.0      1      0   7.2500        S  Third   \n",
              "1         1       1  female  38.0      1      0  71.2833        C  First   \n",
              "2         1       3  female  26.0      0      0   7.9250        S  Third   \n",
              "3         1       1  female  35.0      1      0  53.1000        S  First   \n",
              "4         0       3    male  35.0      0      0   8.0500        S  Third   \n",
              "\n",
              "     who  adult_male deck  embark_town alive  alone  \n",
              "0    man        True  NaN  Southampton    no  False  \n",
              "1  woman       False    C    Cherbourg   yes  False  \n",
              "2  woman       False  NaN  Southampton   yes   True  \n",
              "3  woman       False    C  Southampton   yes  False  \n",
              "4    man        True  NaN  Southampton    no   True  "
            ]
          },
          "execution_count": 82,
          "metadata": {},
          "output_type": "execute_result"
        }
      ],
      "source": [
        "# Loading Titanic dataset from a URL\n",
        "url = \"https://raw.githubusercontent.com/adamerose/datasets/master/titanic.csv\"\n",
        "df = pd.read_csv(url)\n",
        "print(df.shape)\n",
        "df.head()"
      ]
    },
    {
      "cell_type": "code",
      "execution_count": 83,
      "metadata": {
        "id": "tqQNM7qLk_B6"
      },
      "outputs": [],
      "source": [
        "# Initializing Hugging Face LLM (e.g., 'google/flan-t5-large')\n",
        "llm = HuggingFaceHub(repo_id=\"google/flan-t5-large\", model_kwargs={\"temperature\": 0.5, \"max_length\": 512})"
      ]
    },
    {
      "cell_type": "code",
      "execution_count": 90,
      "metadata": {
        "colab": {
          "base_uri": "https://localhost:8080/",
          "height": 865
        },
        "id": "h5OpuxlYln4R",
        "outputId": "76e94fff-ae1e-46b4-b3cc-6d5b7ec34c5c"
      },
      "outputs": [
        {
          "name": "stdout",
          "output_type": "stream",
          "text": [
            "\n",
            "\n",
            "\u001b[1m> Entering new AgentExecutor chain...\u001b[0m\n"
          ]
        },
        {
          "ename": "ValueError",
          "evalue": "An output parsing error occurred. In order to pass this error back to the agent and have it try again, pass `handle_parsing_errors=True` to the AgentExecutor. This is the error: Could not parse LLM output: `df.repl_ast('') n = int(input()) l = [] for i in range(n): l.append([]) for j in range(i+1,n): for k in range(i+1,n): for l in range(i+1,n): for l in range(i+1,n): for l in range(i+1,n): for l in range(i+1,n): for l in range(i+1,n): for l in range(i+1,n): for l in range(i+1,n): for l in range(i+1,n): for l in range(i+1,n): for l in range(i+1,n): for l in range(i+1,n): for l in range(i+1,n): for l in range(i+1,n): for l in range(i+1,n): for l in range(i+1,n): for l in range(i+1,n): for l in range(i+1,n): for l in range(i+1,n): for l in range(i+1,n): for l in range(i+1,n): for l in range(i+1,n): for l in range(i+1,n): for l in range(i+1,n): for l in range(i+1,n): for l in range(i+1,n): for l in range(i+1,n): for l in range(i+1,n): for l in range(i+1,n): for l in range(i+1,n): for l in range(i+1,n): for l in range(i+1,n): for l in range(i+1,n): for l in range(i+1,n): for l in range(i+1,n): for l in range(i+1,n): for l in range(i+1,n): for l in range(i`\nFor troubleshooting, visit: https://python.langchain.com/docs/troubleshooting/errors/OUTPUT_PARSING_FAILURE ",
          "output_type": "error",
          "traceback": [
            "\u001b[0;31m---------------------------------------------------------------------------\u001b[0m",
            "\u001b[0;31mOutputParserException\u001b[0m                     Traceback (most recent call last)",
            "\u001b[0;32m/usr/local/lib/python3.11/dist-packages/langchain/agents/agent.py\u001b[0m in \u001b[0;36m_iter_next_step\u001b[0;34m(self, name_to_tool_map, color_mapping, inputs, intermediate_steps, run_manager)\u001b[0m\n\u001b[1;32m   1357\u001b[0m             \u001b[0;31m# Call the LLM to see what to do.\u001b[0m\u001b[0;34m\u001b[0m\u001b[0;34m\u001b[0m\u001b[0m\n\u001b[0;32m-> 1358\u001b[0;31m             output = self._action_agent.plan(\n\u001b[0m\u001b[1;32m   1359\u001b[0m                 \u001b[0mintermediate_steps\u001b[0m\u001b[0;34m,\u001b[0m\u001b[0;34m\u001b[0m\u001b[0;34m\u001b[0m\u001b[0m\n",
            "\u001b[0;32m/usr/local/lib/python3.11/dist-packages/langchain/agents/agent.py\u001b[0m in \u001b[0;36mplan\u001b[0;34m(self, intermediate_steps, callbacks, **kwargs)\u001b[0m\n\u001b[1;32m    464\u001b[0m             \u001b[0;31m# accumulate the output into final output and return that.\u001b[0m\u001b[0;34m\u001b[0m\u001b[0;34m\u001b[0m\u001b[0m\n\u001b[0;32m--> 465\u001b[0;31m             \u001b[0;32mfor\u001b[0m \u001b[0mchunk\u001b[0m \u001b[0;32min\u001b[0m \u001b[0mself\u001b[0m\u001b[0;34m.\u001b[0m\u001b[0mrunnable\u001b[0m\u001b[0;34m.\u001b[0m\u001b[0mstream\u001b[0m\u001b[0;34m(\u001b[0m\u001b[0minputs\u001b[0m\u001b[0;34m,\u001b[0m \u001b[0mconfig\u001b[0m\u001b[0;34m=\u001b[0m\u001b[0;34m{\u001b[0m\u001b[0;34m\"callbacks\"\u001b[0m\u001b[0;34m:\u001b[0m \u001b[0mcallbacks\u001b[0m\u001b[0;34m}\u001b[0m\u001b[0;34m)\u001b[0m\u001b[0;34m:\u001b[0m\u001b[0;34m\u001b[0m\u001b[0;34m\u001b[0m\u001b[0m\n\u001b[0m\u001b[1;32m    466\u001b[0m                 \u001b[0;32mif\u001b[0m \u001b[0mfinal_output\u001b[0m \u001b[0;32mis\u001b[0m \u001b[0;32mNone\u001b[0m\u001b[0;34m:\u001b[0m\u001b[0;34m\u001b[0m\u001b[0;34m\u001b[0m\u001b[0m\n",
            "\u001b[0;32m/usr/local/lib/python3.11/dist-packages/langchain_core/runnables/base.py\u001b[0m in \u001b[0;36mstream\u001b[0;34m(self, input, config, **kwargs)\u001b[0m\n\u001b[1;32m   3400\u001b[0m     ) -> Iterator[Output]:\n\u001b[0;32m-> 3401\u001b[0;31m         \u001b[0;32myield\u001b[0m \u001b[0;32mfrom\u001b[0m \u001b[0mself\u001b[0m\u001b[0;34m.\u001b[0m\u001b[0mtransform\u001b[0m\u001b[0;34m(\u001b[0m\u001b[0miter\u001b[0m\u001b[0;34m(\u001b[0m\u001b[0;34m[\u001b[0m\u001b[0minput\u001b[0m\u001b[0;34m]\u001b[0m\u001b[0;34m)\u001b[0m\u001b[0;34m,\u001b[0m \u001b[0mconfig\u001b[0m\u001b[0;34m,\u001b[0m \u001b[0;34m**\u001b[0m\u001b[0mkwargs\u001b[0m\u001b[0;34m)\u001b[0m\u001b[0;34m\u001b[0m\u001b[0;34m\u001b[0m\u001b[0m\n\u001b[0m\u001b[1;32m   3402\u001b[0m \u001b[0;34m\u001b[0m\u001b[0m\n",
            "\u001b[0;32m/usr/local/lib/python3.11/dist-packages/langchain_core/runnables/base.py\u001b[0m in \u001b[0;36mtransform\u001b[0;34m(self, input, config, **kwargs)\u001b[0m\n\u001b[1;32m   3387\u001b[0m     ) -> Iterator[Output]:\n\u001b[0;32m-> 3388\u001b[0;31m         yield from self._transform_stream_with_config(\n\u001b[0m\u001b[1;32m   3389\u001b[0m             \u001b[0minput\u001b[0m\u001b[0;34m,\u001b[0m\u001b[0;34m\u001b[0m\u001b[0;34m\u001b[0m\u001b[0m\n",
            "\u001b[0;32m/usr/local/lib/python3.11/dist-packages/langchain_core/runnables/base.py\u001b[0m in \u001b[0;36m_transform_stream_with_config\u001b[0;34m(self, input, transformer, config, run_type, **kwargs)\u001b[0m\n\u001b[1;32m   2187\u001b[0m                 \u001b[0;32mwhile\u001b[0m \u001b[0;32mTrue\u001b[0m\u001b[0;34m:\u001b[0m\u001b[0;34m\u001b[0m\u001b[0;34m\u001b[0m\u001b[0m\n\u001b[0;32m-> 2188\u001b[0;31m                     \u001b[0mchunk\u001b[0m\u001b[0;34m:\u001b[0m \u001b[0mOutput\u001b[0m \u001b[0;34m=\u001b[0m \u001b[0mcontext\u001b[0m\u001b[0;34m.\u001b[0m\u001b[0mrun\u001b[0m\u001b[0;34m(\u001b[0m\u001b[0mnext\u001b[0m\u001b[0;34m,\u001b[0m \u001b[0miterator\u001b[0m\u001b[0;34m)\u001b[0m  \u001b[0;31m# type: ignore\u001b[0m\u001b[0;34m\u001b[0m\u001b[0;34m\u001b[0m\u001b[0m\n\u001b[0m\u001b[1;32m   2189\u001b[0m                     \u001b[0;32myield\u001b[0m \u001b[0mchunk\u001b[0m\u001b[0;34m\u001b[0m\u001b[0;34m\u001b[0m\u001b[0m\n",
            "\u001b[0;32m/usr/local/lib/python3.11/dist-packages/langchain_core/runnables/base.py\u001b[0m in \u001b[0;36m_transform\u001b[0;34m(self, input, run_manager, config, **kwargs)\u001b[0m\n\u001b[1;32m   3350\u001b[0m \u001b[0;34m\u001b[0m\u001b[0m\n\u001b[0;32m-> 3351\u001b[0;31m         \u001b[0;32myield\u001b[0m \u001b[0;32mfrom\u001b[0m \u001b[0mfinal_pipeline\u001b[0m\u001b[0;34m\u001b[0m\u001b[0;34m\u001b[0m\u001b[0m\n\u001b[0m\u001b[1;32m   3352\u001b[0m \u001b[0;34m\u001b[0m\u001b[0m\n",
            "\u001b[0;32m/usr/local/lib/python3.11/dist-packages/langchain_core/runnables/base.py\u001b[0m in \u001b[0;36mtransform\u001b[0;34m(self, input, config, **kwargs)\u001b[0m\n\u001b[1;32m   1423\u001b[0m         \u001b[0;32mif\u001b[0m \u001b[0mgot_first_val\u001b[0m\u001b[0;34m:\u001b[0m\u001b[0;34m\u001b[0m\u001b[0;34m\u001b[0m\u001b[0m\n\u001b[0;32m-> 1424\u001b[0;31m             \u001b[0;32myield\u001b[0m \u001b[0;32mfrom\u001b[0m \u001b[0mself\u001b[0m\u001b[0;34m.\u001b[0m\u001b[0mstream\u001b[0m\u001b[0;34m(\u001b[0m\u001b[0mfinal\u001b[0m\u001b[0;34m,\u001b[0m \u001b[0mconfig\u001b[0m\u001b[0;34m,\u001b[0m \u001b[0;34m**\u001b[0m\u001b[0mkwargs\u001b[0m\u001b[0;34m)\u001b[0m\u001b[0;34m\u001b[0m\u001b[0;34m\u001b[0m\u001b[0m\n\u001b[0m\u001b[1;32m   1425\u001b[0m \u001b[0;34m\u001b[0m\u001b[0m\n",
            "\u001b[0;32m/usr/local/lib/python3.11/dist-packages/langchain_core/runnables/base.py\u001b[0m in \u001b[0;36mstream\u001b[0;34m(self, input, config, **kwargs)\u001b[0m\n\u001b[1;32m    992\u001b[0m         \"\"\"\n\u001b[0;32m--> 993\u001b[0;31m         \u001b[0;32myield\u001b[0m \u001b[0mself\u001b[0m\u001b[0;34m.\u001b[0m\u001b[0minvoke\u001b[0m\u001b[0;34m(\u001b[0m\u001b[0minput\u001b[0m\u001b[0;34m,\u001b[0m \u001b[0mconfig\u001b[0m\u001b[0;34m,\u001b[0m \u001b[0;34m**\u001b[0m\u001b[0mkwargs\u001b[0m\u001b[0;34m)\u001b[0m\u001b[0;34m\u001b[0m\u001b[0;34m\u001b[0m\u001b[0m\n\u001b[0m\u001b[1;32m    994\u001b[0m \u001b[0;34m\u001b[0m\u001b[0m\n",
            "\u001b[0;32m/usr/local/lib/python3.11/dist-packages/langchain_core/output_parsers/base.py\u001b[0m in \u001b[0;36minvoke\u001b[0;34m(self, input, config, **kwargs)\u001b[0m\n\u001b[1;32m    201\u001b[0m         \u001b[0;32melse\u001b[0m\u001b[0;34m:\u001b[0m\u001b[0;34m\u001b[0m\u001b[0;34m\u001b[0m\u001b[0m\n\u001b[0;32m--> 202\u001b[0;31m             return self._call_with_config(\n\u001b[0m\u001b[1;32m    203\u001b[0m                 \u001b[0;32mlambda\u001b[0m \u001b[0minner_input\u001b[0m\u001b[0;34m:\u001b[0m \u001b[0mself\u001b[0m\u001b[0;34m.\u001b[0m\u001b[0mparse_result\u001b[0m\u001b[0;34m(\u001b[0m\u001b[0;34m[\u001b[0m\u001b[0mGeneration\u001b[0m\u001b[0;34m(\u001b[0m\u001b[0mtext\u001b[0m\u001b[0;34m=\u001b[0m\u001b[0minner_input\u001b[0m\u001b[0;34m)\u001b[0m\u001b[0;34m]\u001b[0m\u001b[0;34m)\u001b[0m\u001b[0;34m,\u001b[0m\u001b[0;34m\u001b[0m\u001b[0;34m\u001b[0m\u001b[0m\n",
            "\u001b[0;32m/usr/local/lib/python3.11/dist-packages/langchain_core/runnables/base.py\u001b[0m in \u001b[0;36m_call_with_config\u001b[0;34m(self, func, input, config, run_type, serialized, **kwargs)\u001b[0m\n\u001b[1;32m   1913\u001b[0m                 \u001b[0mOutput\u001b[0m\u001b[0;34m,\u001b[0m\u001b[0;34m\u001b[0m\u001b[0;34m\u001b[0m\u001b[0m\n\u001b[0;32m-> 1914\u001b[0;31m                 context.run(\n\u001b[0m\u001b[1;32m   1915\u001b[0m                     \u001b[0mcall_func_with_variable_args\u001b[0m\u001b[0;34m,\u001b[0m  \u001b[0;31m# type: ignore[arg-type]\u001b[0m\u001b[0;34m\u001b[0m\u001b[0;34m\u001b[0m\u001b[0m\n",
            "\u001b[0;32m/usr/local/lib/python3.11/dist-packages/langchain_core/runnables/config.py\u001b[0m in \u001b[0;36mcall_func_with_variable_args\u001b[0;34m(func, input, config, run_manager, **kwargs)\u001b[0m\n\u001b[1;32m    395\u001b[0m         \u001b[0mkwargs\u001b[0m\u001b[0;34m[\u001b[0m\u001b[0;34m\"run_manager\"\u001b[0m\u001b[0;34m]\u001b[0m \u001b[0;34m=\u001b[0m \u001b[0mrun_manager\u001b[0m\u001b[0;34m\u001b[0m\u001b[0;34m\u001b[0m\u001b[0m\n\u001b[0;32m--> 396\u001b[0;31m     \u001b[0;32mreturn\u001b[0m \u001b[0mfunc\u001b[0m\u001b[0;34m(\u001b[0m\u001b[0minput\u001b[0m\u001b[0;34m,\u001b[0m \u001b[0;34m**\u001b[0m\u001b[0mkwargs\u001b[0m\u001b[0;34m)\u001b[0m  \u001b[0;31m# type: ignore[call-arg]\u001b[0m\u001b[0;34m\u001b[0m\u001b[0;34m\u001b[0m\u001b[0m\n\u001b[0m\u001b[1;32m    397\u001b[0m \u001b[0;34m\u001b[0m\u001b[0m\n",
            "\u001b[0;32m/usr/local/lib/python3.11/dist-packages/langchain_core/output_parsers/base.py\u001b[0m in \u001b[0;36m<lambda>\u001b[0;34m(inner_input)\u001b[0m\n\u001b[1;32m    202\u001b[0m             return self._call_with_config(\n\u001b[0;32m--> 203\u001b[0;31m                 \u001b[0;32mlambda\u001b[0m \u001b[0minner_input\u001b[0m\u001b[0;34m:\u001b[0m \u001b[0mself\u001b[0m\u001b[0;34m.\u001b[0m\u001b[0mparse_result\u001b[0m\u001b[0;34m(\u001b[0m\u001b[0;34m[\u001b[0m\u001b[0mGeneration\u001b[0m\u001b[0;34m(\u001b[0m\u001b[0mtext\u001b[0m\u001b[0;34m=\u001b[0m\u001b[0minner_input\u001b[0m\u001b[0;34m)\u001b[0m\u001b[0;34m]\u001b[0m\u001b[0;34m)\u001b[0m\u001b[0;34m,\u001b[0m\u001b[0;34m\u001b[0m\u001b[0;34m\u001b[0m\u001b[0m\n\u001b[0m\u001b[1;32m    204\u001b[0m                 \u001b[0minput\u001b[0m\u001b[0;34m,\u001b[0m\u001b[0;34m\u001b[0m\u001b[0;34m\u001b[0m\u001b[0m\n",
            "\u001b[0;32m/usr/local/lib/python3.11/dist-packages/langchain_core/output_parsers/base.py\u001b[0m in \u001b[0;36mparse_result\u001b[0;34m(self, result, partial)\u001b[0m\n\u001b[1;32m    246\u001b[0m         \"\"\"\n\u001b[0;32m--> 247\u001b[0;31m         \u001b[0;32mreturn\u001b[0m \u001b[0mself\u001b[0m\u001b[0;34m.\u001b[0m\u001b[0mparse\u001b[0m\u001b[0;34m(\u001b[0m\u001b[0mresult\u001b[0m\u001b[0;34m[\u001b[0m\u001b[0;36m0\u001b[0m\u001b[0;34m]\u001b[0m\u001b[0;34m.\u001b[0m\u001b[0mtext\u001b[0m\u001b[0;34m)\u001b[0m\u001b[0;34m\u001b[0m\u001b[0;34m\u001b[0m\u001b[0m\n\u001b[0m\u001b[1;32m    248\u001b[0m \u001b[0;34m\u001b[0m\u001b[0m\n",
            "\u001b[0;32m/usr/local/lib/python3.11/dist-packages/langchain/agents/output_parsers/react_single_input.py\u001b[0m in \u001b[0;36mparse\u001b[0;34m(self, text)\u001b[0m\n\u001b[1;32m     74\u001b[0m         \u001b[0;32mif\u001b[0m \u001b[0;32mnot\u001b[0m \u001b[0mre\u001b[0m\u001b[0;34m.\u001b[0m\u001b[0msearch\u001b[0m\u001b[0;34m(\u001b[0m\u001b[0;34mr\"Action\\s*\\d*\\s*:[\\s]*(.*?)\"\u001b[0m\u001b[0;34m,\u001b[0m \u001b[0mtext\u001b[0m\u001b[0;34m,\u001b[0m \u001b[0mre\u001b[0m\u001b[0;34m.\u001b[0m\u001b[0mDOTALL\u001b[0m\u001b[0;34m)\u001b[0m\u001b[0;34m:\u001b[0m\u001b[0;34m\u001b[0m\u001b[0;34m\u001b[0m\u001b[0m\n\u001b[0;32m---> 75\u001b[0;31m             raise OutputParserException(\n\u001b[0m\u001b[1;32m     76\u001b[0m                 \u001b[0;34mf\"Could not parse LLM output: `{text}`\"\u001b[0m\u001b[0;34m,\u001b[0m\u001b[0;34m\u001b[0m\u001b[0;34m\u001b[0m\u001b[0m\n",
            "\u001b[0;31mOutputParserException\u001b[0m: Could not parse LLM output: `df.repl_ast('') n = int(input()) l = [] for i in range(n): l.append([]) for j in range(i+1,n): for k in range(i+1,n): for l in range(i+1,n): for l in range(i+1,n): for l in range(i+1,n): for l in range(i+1,n): for l in range(i+1,n): for l in range(i+1,n): for l in range(i+1,n): for l in range(i+1,n): for l in range(i+1,n): for l in range(i+1,n): for l in range(i+1,n): for l in range(i+1,n): for l in range(i+1,n): for l in range(i+1,n): for l in range(i+1,n): for l in range(i+1,n): for l in range(i+1,n): for l in range(i+1,n): for l in range(i+1,n): for l in range(i+1,n): for l in range(i+1,n): for l in range(i+1,n): for l in range(i+1,n): for l in range(i+1,n): for l in range(i+1,n): for l in range(i+1,n): for l in range(i+1,n): for l in range(i+1,n): for l in range(i+1,n): for l in range(i+1,n): for l in range(i+1,n): for l in range(i+1,n): for l in range(i+1,n): for l in range(i+1,n): for l in range(i+1,n): for l in range(i+1,n): for l in range(i`\nFor troubleshooting, visit: https://python.langchain.com/docs/troubleshooting/errors/OUTPUT_PARSING_FAILURE ",
            "\nDuring handling of the above exception, another exception occurred:\n",
            "\u001b[0;31mValueError\u001b[0m                                Traceback (most recent call last)",
            "\u001b[0;32m<ipython-input-90-0b8f85856c8d>\u001b[0m in \u001b[0;36m<cell line: 0>\u001b[0;34m()\u001b[0m\n\u001b[1;32m      3\u001b[0m \u001b[0;34m\u001b[0m\u001b[0m\n\u001b[1;32m      4\u001b[0m \u001b[0;31m# Ask a Question\u001b[0m\u001b[0;34m\u001b[0m\u001b[0;34m\u001b[0m\u001b[0m\n\u001b[0;32m----> 5\u001b[0;31m \u001b[0mresponse\u001b[0m \u001b[0;34m=\u001b[0m \u001b[0magent\u001b[0m\u001b[0;34m.\u001b[0m\u001b[0mrun\u001b[0m\u001b[0;34m(\u001b[0m\u001b[0;34m\"How many rows are there?\"\u001b[0m\u001b[0;34m)\u001b[0m\u001b[0;34m\u001b[0m\u001b[0;34m\u001b[0m\u001b[0m\n\u001b[0m\u001b[1;32m      6\u001b[0m \u001b[0mprint\u001b[0m\u001b[0;34m(\u001b[0m\u001b[0mresponse\u001b[0m\u001b[0;34m)\u001b[0m\u001b[0;34m\u001b[0m\u001b[0;34m\u001b[0m\u001b[0m\n",
            "\u001b[0;32m/usr/local/lib/python3.11/dist-packages/langchain_core/_api/deprecation.py\u001b[0m in \u001b[0;36mwarning_emitting_wrapper\u001b[0;34m(*args, **kwargs)\u001b[0m\n\u001b[1;32m    179\u001b[0m                 \u001b[0mwarned\u001b[0m \u001b[0;34m=\u001b[0m \u001b[0;32mTrue\u001b[0m\u001b[0;34m\u001b[0m\u001b[0;34m\u001b[0m\u001b[0m\n\u001b[1;32m    180\u001b[0m                 \u001b[0memit_warning\u001b[0m\u001b[0;34m(\u001b[0m\u001b[0;34m)\u001b[0m\u001b[0;34m\u001b[0m\u001b[0;34m\u001b[0m\u001b[0m\n\u001b[0;32m--> 181\u001b[0;31m             \u001b[0;32mreturn\u001b[0m \u001b[0mwrapped\u001b[0m\u001b[0;34m(\u001b[0m\u001b[0;34m*\u001b[0m\u001b[0margs\u001b[0m\u001b[0;34m,\u001b[0m \u001b[0;34m**\u001b[0m\u001b[0mkwargs\u001b[0m\u001b[0;34m)\u001b[0m\u001b[0;34m\u001b[0m\u001b[0;34m\u001b[0m\u001b[0m\n\u001b[0m\u001b[1;32m    182\u001b[0m \u001b[0;34m\u001b[0m\u001b[0m\n\u001b[1;32m    183\u001b[0m         \u001b[0;32masync\u001b[0m \u001b[0;32mdef\u001b[0m \u001b[0mawarning_emitting_wrapper\u001b[0m\u001b[0;34m(\u001b[0m\u001b[0;34m*\u001b[0m\u001b[0margs\u001b[0m\u001b[0;34m:\u001b[0m \u001b[0mAny\u001b[0m\u001b[0;34m,\u001b[0m \u001b[0;34m**\u001b[0m\u001b[0mkwargs\u001b[0m\u001b[0;34m:\u001b[0m \u001b[0mAny\u001b[0m\u001b[0;34m)\u001b[0m \u001b[0;34m->\u001b[0m \u001b[0mAny\u001b[0m\u001b[0;34m:\u001b[0m\u001b[0;34m\u001b[0m\u001b[0;34m\u001b[0m\u001b[0m\n",
            "\u001b[0;32m/usr/local/lib/python3.11/dist-packages/langchain/chains/base.py\u001b[0m in \u001b[0;36mrun\u001b[0;34m(self, callbacks, tags, metadata, *args, **kwargs)\u001b[0m\n\u001b[1;32m    604\u001b[0m             \u001b[0;32mif\u001b[0m \u001b[0mlen\u001b[0m\u001b[0;34m(\u001b[0m\u001b[0margs\u001b[0m\u001b[0;34m)\u001b[0m \u001b[0;34m!=\u001b[0m \u001b[0;36m1\u001b[0m\u001b[0;34m:\u001b[0m\u001b[0;34m\u001b[0m\u001b[0;34m\u001b[0m\u001b[0m\n\u001b[1;32m    605\u001b[0m                 \u001b[0;32mraise\u001b[0m \u001b[0mValueError\u001b[0m\u001b[0;34m(\u001b[0m\u001b[0;34m\"`run` supports only one positional argument.\"\u001b[0m\u001b[0;34m)\u001b[0m\u001b[0;34m\u001b[0m\u001b[0;34m\u001b[0m\u001b[0m\n\u001b[0;32m--> 606\u001b[0;31m             return self(args[0], callbacks=callbacks, tags=tags, metadata=metadata)[\n\u001b[0m\u001b[1;32m    607\u001b[0m                 \u001b[0m_output_key\u001b[0m\u001b[0;34m\u001b[0m\u001b[0;34m\u001b[0m\u001b[0m\n\u001b[1;32m    608\u001b[0m             ]\n",
            "\u001b[0;32m/usr/local/lib/python3.11/dist-packages/langchain_core/_api/deprecation.py\u001b[0m in \u001b[0;36mwarning_emitting_wrapper\u001b[0;34m(*args, **kwargs)\u001b[0m\n\u001b[1;32m    179\u001b[0m                 \u001b[0mwarned\u001b[0m \u001b[0;34m=\u001b[0m \u001b[0;32mTrue\u001b[0m\u001b[0;34m\u001b[0m\u001b[0;34m\u001b[0m\u001b[0m\n\u001b[1;32m    180\u001b[0m                 \u001b[0memit_warning\u001b[0m\u001b[0;34m(\u001b[0m\u001b[0;34m)\u001b[0m\u001b[0;34m\u001b[0m\u001b[0;34m\u001b[0m\u001b[0m\n\u001b[0;32m--> 181\u001b[0;31m             \u001b[0;32mreturn\u001b[0m \u001b[0mwrapped\u001b[0m\u001b[0;34m(\u001b[0m\u001b[0;34m*\u001b[0m\u001b[0margs\u001b[0m\u001b[0;34m,\u001b[0m \u001b[0;34m**\u001b[0m\u001b[0mkwargs\u001b[0m\u001b[0;34m)\u001b[0m\u001b[0;34m\u001b[0m\u001b[0;34m\u001b[0m\u001b[0m\n\u001b[0m\u001b[1;32m    182\u001b[0m \u001b[0;34m\u001b[0m\u001b[0m\n\u001b[1;32m    183\u001b[0m         \u001b[0;32masync\u001b[0m \u001b[0;32mdef\u001b[0m \u001b[0mawarning_emitting_wrapper\u001b[0m\u001b[0;34m(\u001b[0m\u001b[0;34m*\u001b[0m\u001b[0margs\u001b[0m\u001b[0;34m:\u001b[0m \u001b[0mAny\u001b[0m\u001b[0;34m,\u001b[0m \u001b[0;34m**\u001b[0m\u001b[0mkwargs\u001b[0m\u001b[0;34m:\u001b[0m \u001b[0mAny\u001b[0m\u001b[0;34m)\u001b[0m \u001b[0;34m->\u001b[0m \u001b[0mAny\u001b[0m\u001b[0;34m:\u001b[0m\u001b[0;34m\u001b[0m\u001b[0;34m\u001b[0m\u001b[0m\n",
            "\u001b[0;32m/usr/local/lib/python3.11/dist-packages/langchain/chains/base.py\u001b[0m in \u001b[0;36m__call__\u001b[0;34m(self, inputs, return_only_outputs, callbacks, tags, metadata, run_name, include_run_info)\u001b[0m\n\u001b[1;32m    387\u001b[0m         }\n\u001b[1;32m    388\u001b[0m \u001b[0;34m\u001b[0m\u001b[0m\n\u001b[0;32m--> 389\u001b[0;31m         return self.invoke(\n\u001b[0m\u001b[1;32m    390\u001b[0m             \u001b[0minputs\u001b[0m\u001b[0;34m,\u001b[0m\u001b[0;34m\u001b[0m\u001b[0;34m\u001b[0m\u001b[0m\n\u001b[1;32m    391\u001b[0m             \u001b[0mcast\u001b[0m\u001b[0;34m(\u001b[0m\u001b[0mRunnableConfig\u001b[0m\u001b[0;34m,\u001b[0m \u001b[0;34m{\u001b[0m\u001b[0mk\u001b[0m\u001b[0;34m:\u001b[0m \u001b[0mv\u001b[0m \u001b[0;32mfor\u001b[0m \u001b[0mk\u001b[0m\u001b[0;34m,\u001b[0m \u001b[0mv\u001b[0m \u001b[0;32min\u001b[0m \u001b[0mconfig\u001b[0m\u001b[0;34m.\u001b[0m\u001b[0mitems\u001b[0m\u001b[0;34m(\u001b[0m\u001b[0;34m)\u001b[0m \u001b[0;32mif\u001b[0m \u001b[0mv\u001b[0m \u001b[0;32mis\u001b[0m \u001b[0;32mnot\u001b[0m \u001b[0;32mNone\u001b[0m\u001b[0;34m}\u001b[0m\u001b[0;34m)\u001b[0m\u001b[0;34m,\u001b[0m\u001b[0;34m\u001b[0m\u001b[0;34m\u001b[0m\u001b[0m\n",
            "\u001b[0;32m/usr/local/lib/python3.11/dist-packages/langchain/chains/base.py\u001b[0m in \u001b[0;36minvoke\u001b[0;34m(self, input, config, **kwargs)\u001b[0m\n\u001b[1;32m    168\u001b[0m         \u001b[0;32mexcept\u001b[0m \u001b[0mBaseException\u001b[0m \u001b[0;32mas\u001b[0m \u001b[0me\u001b[0m\u001b[0;34m:\u001b[0m\u001b[0;34m\u001b[0m\u001b[0;34m\u001b[0m\u001b[0m\n\u001b[1;32m    169\u001b[0m             \u001b[0mrun_manager\u001b[0m\u001b[0;34m.\u001b[0m\u001b[0mon_chain_error\u001b[0m\u001b[0;34m(\u001b[0m\u001b[0me\u001b[0m\u001b[0;34m)\u001b[0m\u001b[0;34m\u001b[0m\u001b[0;34m\u001b[0m\u001b[0m\n\u001b[0;32m--> 170\u001b[0;31m             \u001b[0;32mraise\u001b[0m \u001b[0me\u001b[0m\u001b[0;34m\u001b[0m\u001b[0;34m\u001b[0m\u001b[0m\n\u001b[0m\u001b[1;32m    171\u001b[0m         \u001b[0mrun_manager\u001b[0m\u001b[0;34m.\u001b[0m\u001b[0mon_chain_end\u001b[0m\u001b[0;34m(\u001b[0m\u001b[0moutputs\u001b[0m\u001b[0;34m)\u001b[0m\u001b[0;34m\u001b[0m\u001b[0;34m\u001b[0m\u001b[0m\n\u001b[1;32m    172\u001b[0m \u001b[0;34m\u001b[0m\u001b[0m\n",
            "\u001b[0;32m/usr/local/lib/python3.11/dist-packages/langchain/chains/base.py\u001b[0m in \u001b[0;36minvoke\u001b[0;34m(self, input, config, **kwargs)\u001b[0m\n\u001b[1;32m    158\u001b[0m             \u001b[0mself\u001b[0m\u001b[0;34m.\u001b[0m\u001b[0m_validate_inputs\u001b[0m\u001b[0;34m(\u001b[0m\u001b[0minputs\u001b[0m\u001b[0;34m)\u001b[0m\u001b[0;34m\u001b[0m\u001b[0;34m\u001b[0m\u001b[0m\n\u001b[1;32m    159\u001b[0m             outputs = (\n\u001b[0;32m--> 160\u001b[0;31m                 \u001b[0mself\u001b[0m\u001b[0;34m.\u001b[0m\u001b[0m_call\u001b[0m\u001b[0;34m(\u001b[0m\u001b[0minputs\u001b[0m\u001b[0;34m,\u001b[0m \u001b[0mrun_manager\u001b[0m\u001b[0;34m=\u001b[0m\u001b[0mrun_manager\u001b[0m\u001b[0;34m)\u001b[0m\u001b[0;34m\u001b[0m\u001b[0;34m\u001b[0m\u001b[0m\n\u001b[0m\u001b[1;32m    161\u001b[0m                 \u001b[0;32mif\u001b[0m \u001b[0mnew_arg_supported\u001b[0m\u001b[0;34m\u001b[0m\u001b[0;34m\u001b[0m\u001b[0m\n\u001b[1;32m    162\u001b[0m                 \u001b[0;32melse\u001b[0m \u001b[0mself\u001b[0m\u001b[0;34m.\u001b[0m\u001b[0m_call\u001b[0m\u001b[0;34m(\u001b[0m\u001b[0minputs\u001b[0m\u001b[0;34m)\u001b[0m\u001b[0;34m\u001b[0m\u001b[0;34m\u001b[0m\u001b[0m\n",
            "\u001b[0;32m/usr/local/lib/python3.11/dist-packages/langchain/agents/agent.py\u001b[0m in \u001b[0;36m_call\u001b[0;34m(self, inputs, run_manager)\u001b[0m\n\u001b[1;32m   1622\u001b[0m         \u001b[0;31m# We now enter the agent loop (until it returns something).\u001b[0m\u001b[0;34m\u001b[0m\u001b[0;34m\u001b[0m\u001b[0m\n\u001b[1;32m   1623\u001b[0m         \u001b[0;32mwhile\u001b[0m \u001b[0mself\u001b[0m\u001b[0;34m.\u001b[0m\u001b[0m_should_continue\u001b[0m\u001b[0;34m(\u001b[0m\u001b[0miterations\u001b[0m\u001b[0;34m,\u001b[0m \u001b[0mtime_elapsed\u001b[0m\u001b[0;34m)\u001b[0m\u001b[0;34m:\u001b[0m\u001b[0;34m\u001b[0m\u001b[0;34m\u001b[0m\u001b[0m\n\u001b[0;32m-> 1624\u001b[0;31m             next_step_output = self._take_next_step(\n\u001b[0m\u001b[1;32m   1625\u001b[0m                 \u001b[0mname_to_tool_map\u001b[0m\u001b[0;34m,\u001b[0m\u001b[0;34m\u001b[0m\u001b[0;34m\u001b[0m\u001b[0m\n\u001b[1;32m   1626\u001b[0m                 \u001b[0mcolor_mapping\u001b[0m\u001b[0;34m,\u001b[0m\u001b[0;34m\u001b[0m\u001b[0;34m\u001b[0m\u001b[0m\n",
            "\u001b[0;32m/usr/local/lib/python3.11/dist-packages/langchain/agents/agent.py\u001b[0m in \u001b[0;36m_take_next_step\u001b[0;34m(self, name_to_tool_map, color_mapping, inputs, intermediate_steps, run_manager)\u001b[0m\n\u001b[1;32m   1328\u001b[0m     ) -> Union[AgentFinish, List[Tuple[AgentAction, str]]]:\n\u001b[1;32m   1329\u001b[0m         return self._consume_next_step(\n\u001b[0;32m-> 1330\u001b[0;31m             [\n\u001b[0m\u001b[1;32m   1331\u001b[0m                 \u001b[0ma\u001b[0m\u001b[0;34m\u001b[0m\u001b[0;34m\u001b[0m\u001b[0m\n\u001b[1;32m   1332\u001b[0m                 for a in self._iter_next_step(\n",
            "\u001b[0;32m/usr/local/lib/python3.11/dist-packages/langchain/agents/agent.py\u001b[0m in \u001b[0;36m<listcomp>\u001b[0;34m(.0)\u001b[0m\n\u001b[1;32m   1328\u001b[0m     ) -> Union[AgentFinish, List[Tuple[AgentAction, str]]]:\n\u001b[1;32m   1329\u001b[0m         return self._consume_next_step(\n\u001b[0;32m-> 1330\u001b[0;31m             [\n\u001b[0m\u001b[1;32m   1331\u001b[0m                 \u001b[0ma\u001b[0m\u001b[0;34m\u001b[0m\u001b[0;34m\u001b[0m\u001b[0m\n\u001b[1;32m   1332\u001b[0m                 for a in self._iter_next_step(\n",
            "\u001b[0;32m/usr/local/lib/python3.11/dist-packages/langchain/agents/agent.py\u001b[0m in \u001b[0;36m_iter_next_step\u001b[0;34m(self, name_to_tool_map, color_mapping, inputs, intermediate_steps, run_manager)\u001b[0m\n\u001b[1;32m   1367\u001b[0m                 \u001b[0mraise_error\u001b[0m \u001b[0;34m=\u001b[0m \u001b[0;32mFalse\u001b[0m\u001b[0;34m\u001b[0m\u001b[0;34m\u001b[0m\u001b[0m\n\u001b[1;32m   1368\u001b[0m             \u001b[0;32mif\u001b[0m \u001b[0mraise_error\u001b[0m\u001b[0;34m:\u001b[0m\u001b[0;34m\u001b[0m\u001b[0;34m\u001b[0m\u001b[0m\n\u001b[0;32m-> 1369\u001b[0;31m                 raise ValueError(\n\u001b[0m\u001b[1;32m   1370\u001b[0m                     \u001b[0;34m\"An output parsing error occurred. \"\u001b[0m\u001b[0;34m\u001b[0m\u001b[0;34m\u001b[0m\u001b[0m\n\u001b[1;32m   1371\u001b[0m                     \u001b[0;34m\"In order to pass this error back to the agent and have it try \"\u001b[0m\u001b[0;34m\u001b[0m\u001b[0;34m\u001b[0m\u001b[0m\n",
            "\u001b[0;31mValueError\u001b[0m: An output parsing error occurred. In order to pass this error back to the agent and have it try again, pass `handle_parsing_errors=True` to the AgentExecutor. This is the error: Could not parse LLM output: `df.repl_ast('') n = int(input()) l = [] for i in range(n): l.append([]) for j in range(i+1,n): for k in range(i+1,n): for l in range(i+1,n): for l in range(i+1,n): for l in range(i+1,n): for l in range(i+1,n): for l in range(i+1,n): for l in range(i+1,n): for l in range(i+1,n): for l in range(i+1,n): for l in range(i+1,n): for l in range(i+1,n): for l in range(i+1,n): for l in range(i+1,n): for l in range(i+1,n): for l in range(i+1,n): for l in range(i+1,n): for l in range(i+1,n): for l in range(i+1,n): for l in range(i+1,n): for l in range(i+1,n): for l in range(i+1,n): for l in range(i+1,n): for l in range(i+1,n): for l in range(i+1,n): for l in range(i+1,n): for l in range(i+1,n): for l in range(i+1,n): for l in range(i+1,n): for l in range(i+1,n): for l in range(i+1,n): for l in range(i+1,n): for l in range(i+1,n): for l in range(i+1,n): for l in range(i+1,n): for l in range(i+1,n): for l in range(i+1,n): for l in range(i+1,n): for l in range(i`\nFor troubleshooting, visit: https://python.langchain.com/docs/troubleshooting/errors/OUTPUT_PARSING_FAILURE "
          ]
        }
      ],
      "source": [
        "# Creating an agent to interact with the DataFrame\n",
        "agent = create_pandas_dataframe_agent(llm, df, verbose=True, allow_dangerous_code=True)\n",
        "\n",
        "# Ask a Question\n",
        "response = agent.run(\"How many rows are there?\")\n",
        "print(response)"
      ]
    },
    {
      "cell_type": "code",
      "execution_count": 5,
      "metadata": {
        "colab": {
          "base_uri": "https://localhost:8080/",
          "height": 1000
        },
        "id": "uLVMCc-erCmK",
        "outputId": "f8ac127a-0074-4cef-efd3-c0079f67efba"
      },
      "outputs": [
        {
          "name": "stdout",
          "output_type": "stream",
          "text": [
            "\n",
            "\n",
            "\u001b[1m> Entering new AgentExecutor chain...\u001b[0m\n",
            "\u001b[32;1m\u001b[1;3m\n",
            "You are working with a pandas dataframe in Python. The name of the dataframe is `df`.\n",
            "You should use the tools below to answer the question posed of you:\n",
            "\n",
            "python_repl_ast - A Python shell. Use this to execute python commands. Input should be a valid python command. When using this tool, sometimes output is abbreviated - make sure it does not look abbreviated before using it in your answer.\n",
            "\n",
            "Use the following format:\n",
            "\n",
            "Question: the input question you must answer\n",
            "Thought: you should always think about what to do\n",
            "Action: the action to take, should be one of [python_repl_ast]\n",
            "Action Input: the input to the action\u001b[0mthe action to take, should be one of [python_repl_ast] is not a valid tool, try one of [python_repl_ast].\u001b[32;1m\u001b[1;3m\n",
            "You are working with a pandas dataframe in Python. The name of the dataframe is `df`.\n",
            "You should use the tools below to answer the question posed of you:\n",
            "\n",
            "python_repl_ast - A Python shell. Use this to execute python commands. Input should be a valid python command. When using this tool, sometimes output is abbreviated - make sure it does not look abbreviated before using it in your answer.\n",
            "\n",
            "Use the following format:\n",
            "\n",
            "Question: the input question you must answer\n",
            "Thought: you should always think about what to do\n",
            "Action: the action to take, should be one of [python_repl_ast]\n",
            "Action Input: the input to the action\u001b[0mthe action to take, should be one of [python_repl_ast] is not a valid tool, try one of [python_repl_ast].\u001b[32;1m\u001b[1;3m\n",
            "You are working with a pandas dataframe in Python. The name of the dataframe is `df`.\n",
            "You should use the tools below to answer the question posed of you:\n",
            "\n",
            "python_repl_ast - A Python shell. Use this to execute python commands. Input should be a valid python command. When using this tool, sometimes output is abbreviated - make sure it does not look abbreviated before using it in your answer.\n",
            "\n",
            "Use the following format:\n",
            "\n",
            "Question: the input question you must answer\n",
            "Thought: you should always think about what to do\n",
            "Action: the action to take, should be one of [python_repl_ast]\n",
            "Action Input: the input to the action\u001b[0mthe action to take, should be one of [python_repl_ast] is not a valid tool, try one of [python_repl_ast].\u001b[32;1m\u001b[1;3m\n",
            "You are working with a pandas dataframe in Python. The name of the dataframe is `df`.\n",
            "You should use the tools below to answer the question posed of you:\n",
            "\n",
            "python_repl_ast - A Python shell. Use this to execute python commands. Input should be a valid python command. When using this tool, sometimes output is abbreviated - make sure it does not look abbreviated before using it in your answer.\n",
            "\n",
            "Use the following format:\n",
            "\n",
            "Question: the input question you must answer\n",
            "Thought: you should always think about what to do\n",
            "Action: the action to take, should be one of [python_repl_ast]\n",
            "Action Input: the input to the action\u001b[0mthe action to take, should be one of [python_repl_ast] is not a valid tool, try one of [python_repl_ast]."
          ]
        },
        {
          "ename": "HfHubHTTPError",
          "evalue": "422 Client Error: Unprocessable Entity for url: https://api-inference.huggingface.co/models/distilgpt2 (Request ID: kxHjeJ)\n\nInput validation error: `inputs` tokens + `max_new_tokens` must be <= 1024. Given: 1051 `inputs` tokens and 0 `max_new_tokens`\nMake sure 'text-generation' task is supported by the model.",
          "output_type": "error",
          "traceback": [
            "\u001b[0;31m---------------------------------------------------------------------------\u001b[0m",
            "\u001b[0;31mHTTPError\u001b[0m                                 Traceback (most recent call last)",
            "\u001b[0;32m/usr/local/lib/python3.11/dist-packages/huggingface_hub/utils/_http.py\u001b[0m in \u001b[0;36mhf_raise_for_status\u001b[0;34m(response, endpoint_name)\u001b[0m\n\u001b[1;32m    405\u001b[0m     \u001b[0;32mtry\u001b[0m\u001b[0;34m:\u001b[0m\u001b[0;34m\u001b[0m\u001b[0;34m\u001b[0m\u001b[0m\n\u001b[0;32m--> 406\u001b[0;31m         \u001b[0mresponse\u001b[0m\u001b[0;34m.\u001b[0m\u001b[0mraise_for_status\u001b[0m\u001b[0;34m(\u001b[0m\u001b[0;34m)\u001b[0m\u001b[0;34m\u001b[0m\u001b[0;34m\u001b[0m\u001b[0m\n\u001b[0m\u001b[1;32m    407\u001b[0m     \u001b[0;32mexcept\u001b[0m \u001b[0mHTTPError\u001b[0m \u001b[0;32mas\u001b[0m \u001b[0me\u001b[0m\u001b[0;34m:\u001b[0m\u001b[0;34m\u001b[0m\u001b[0;34m\u001b[0m\u001b[0m\n",
            "\u001b[0;32m/usr/local/lib/python3.11/dist-packages/requests/models.py\u001b[0m in \u001b[0;36mraise_for_status\u001b[0;34m(self)\u001b[0m\n\u001b[1;32m   1023\u001b[0m         \u001b[0;32mif\u001b[0m \u001b[0mhttp_error_msg\u001b[0m\u001b[0;34m:\u001b[0m\u001b[0;34m\u001b[0m\u001b[0;34m\u001b[0m\u001b[0m\n\u001b[0;32m-> 1024\u001b[0;31m             \u001b[0;32mraise\u001b[0m \u001b[0mHTTPError\u001b[0m\u001b[0;34m(\u001b[0m\u001b[0mhttp_error_msg\u001b[0m\u001b[0;34m,\u001b[0m \u001b[0mresponse\u001b[0m\u001b[0;34m=\u001b[0m\u001b[0mself\u001b[0m\u001b[0;34m)\u001b[0m\u001b[0;34m\u001b[0m\u001b[0;34m\u001b[0m\u001b[0m\n\u001b[0m\u001b[1;32m   1025\u001b[0m \u001b[0;34m\u001b[0m\u001b[0m\n",
            "\u001b[0;31mHTTPError\u001b[0m: 422 Client Error: Unprocessable Entity for url: https://api-inference.huggingface.co/models/distilgpt2",
            "\nThe above exception was the direct cause of the following exception:\n",
            "\u001b[0;31mHfHubHTTPError\u001b[0m                            Traceback (most recent call last)",
            "\u001b[0;32m<ipython-input-5-32546d8b494f>\u001b[0m in \u001b[0;36m<cell line: 0>\u001b[0;34m()\u001b[0m\n\u001b[1;32m     24\u001b[0m \u001b[0;34m\u001b[0m\u001b[0m\n\u001b[1;32m     25\u001b[0m \u001b[0;31m# Ask a question\u001b[0m\u001b[0;34m\u001b[0m\u001b[0;34m\u001b[0m\u001b[0m\n\u001b[0;32m---> 26\u001b[0;31m \u001b[0mresponse\u001b[0m \u001b[0;34m=\u001b[0m \u001b[0magent\u001b[0m\u001b[0;34m.\u001b[0m\u001b[0mrun\u001b[0m\u001b[0;34m(\u001b[0m\u001b[0;34m\"How many rows are there?\"\u001b[0m\u001b[0;34m)\u001b[0m\u001b[0;34m\u001b[0m\u001b[0;34m\u001b[0m\u001b[0m\n\u001b[0m\u001b[1;32m     27\u001b[0m \u001b[0mprint\u001b[0m\u001b[0;34m(\u001b[0m\u001b[0mresponse\u001b[0m\u001b[0;34m)\u001b[0m\u001b[0;34m\u001b[0m\u001b[0;34m\u001b[0m\u001b[0m\n",
            "\u001b[0;32m/usr/local/lib/python3.11/dist-packages/langchain_core/_api/deprecation.py\u001b[0m in \u001b[0;36mwarning_emitting_wrapper\u001b[0;34m(*args, **kwargs)\u001b[0m\n\u001b[1;32m    179\u001b[0m                 \u001b[0mwarned\u001b[0m \u001b[0;34m=\u001b[0m \u001b[0;32mTrue\u001b[0m\u001b[0;34m\u001b[0m\u001b[0;34m\u001b[0m\u001b[0m\n\u001b[1;32m    180\u001b[0m                 \u001b[0memit_warning\u001b[0m\u001b[0;34m(\u001b[0m\u001b[0;34m)\u001b[0m\u001b[0;34m\u001b[0m\u001b[0;34m\u001b[0m\u001b[0m\n\u001b[0;32m--> 181\u001b[0;31m             \u001b[0;32mreturn\u001b[0m \u001b[0mwrapped\u001b[0m\u001b[0;34m(\u001b[0m\u001b[0;34m*\u001b[0m\u001b[0margs\u001b[0m\u001b[0;34m,\u001b[0m \u001b[0;34m**\u001b[0m\u001b[0mkwargs\u001b[0m\u001b[0;34m)\u001b[0m\u001b[0;34m\u001b[0m\u001b[0;34m\u001b[0m\u001b[0m\n\u001b[0m\u001b[1;32m    182\u001b[0m \u001b[0;34m\u001b[0m\u001b[0m\n\u001b[1;32m    183\u001b[0m         \u001b[0;32masync\u001b[0m \u001b[0;32mdef\u001b[0m \u001b[0mawarning_emitting_wrapper\u001b[0m\u001b[0;34m(\u001b[0m\u001b[0;34m*\u001b[0m\u001b[0margs\u001b[0m\u001b[0;34m:\u001b[0m \u001b[0mAny\u001b[0m\u001b[0;34m,\u001b[0m \u001b[0;34m**\u001b[0m\u001b[0mkwargs\u001b[0m\u001b[0;34m:\u001b[0m \u001b[0mAny\u001b[0m\u001b[0;34m)\u001b[0m \u001b[0;34m->\u001b[0m \u001b[0mAny\u001b[0m\u001b[0;34m:\u001b[0m\u001b[0;34m\u001b[0m\u001b[0;34m\u001b[0m\u001b[0m\n",
            "\u001b[0;32m/usr/local/lib/python3.11/dist-packages/langchain/chains/base.py\u001b[0m in \u001b[0;36mrun\u001b[0;34m(self, callbacks, tags, metadata, *args, **kwargs)\u001b[0m\n\u001b[1;32m    604\u001b[0m             \u001b[0;32mif\u001b[0m \u001b[0mlen\u001b[0m\u001b[0;34m(\u001b[0m\u001b[0margs\u001b[0m\u001b[0;34m)\u001b[0m \u001b[0;34m!=\u001b[0m \u001b[0;36m1\u001b[0m\u001b[0;34m:\u001b[0m\u001b[0;34m\u001b[0m\u001b[0;34m\u001b[0m\u001b[0m\n\u001b[1;32m    605\u001b[0m                 \u001b[0;32mraise\u001b[0m \u001b[0mValueError\u001b[0m\u001b[0;34m(\u001b[0m\u001b[0;34m\"`run` supports only one positional argument.\"\u001b[0m\u001b[0;34m)\u001b[0m\u001b[0;34m\u001b[0m\u001b[0;34m\u001b[0m\u001b[0m\n\u001b[0;32m--> 606\u001b[0;31m             return self(args[0], callbacks=callbacks, tags=tags, metadata=metadata)[\n\u001b[0m\u001b[1;32m    607\u001b[0m                 \u001b[0m_output_key\u001b[0m\u001b[0;34m\u001b[0m\u001b[0;34m\u001b[0m\u001b[0m\n\u001b[1;32m    608\u001b[0m             ]\n",
            "\u001b[0;32m/usr/local/lib/python3.11/dist-packages/langchain_core/_api/deprecation.py\u001b[0m in \u001b[0;36mwarning_emitting_wrapper\u001b[0;34m(*args, **kwargs)\u001b[0m\n\u001b[1;32m    179\u001b[0m                 \u001b[0mwarned\u001b[0m \u001b[0;34m=\u001b[0m \u001b[0;32mTrue\u001b[0m\u001b[0;34m\u001b[0m\u001b[0;34m\u001b[0m\u001b[0m\n\u001b[1;32m    180\u001b[0m                 \u001b[0memit_warning\u001b[0m\u001b[0;34m(\u001b[0m\u001b[0;34m)\u001b[0m\u001b[0;34m\u001b[0m\u001b[0;34m\u001b[0m\u001b[0m\n\u001b[0;32m--> 181\u001b[0;31m             \u001b[0;32mreturn\u001b[0m \u001b[0mwrapped\u001b[0m\u001b[0;34m(\u001b[0m\u001b[0;34m*\u001b[0m\u001b[0margs\u001b[0m\u001b[0;34m,\u001b[0m \u001b[0;34m**\u001b[0m\u001b[0mkwargs\u001b[0m\u001b[0;34m)\u001b[0m\u001b[0;34m\u001b[0m\u001b[0;34m\u001b[0m\u001b[0m\n\u001b[0m\u001b[1;32m    182\u001b[0m \u001b[0;34m\u001b[0m\u001b[0m\n\u001b[1;32m    183\u001b[0m         \u001b[0;32masync\u001b[0m \u001b[0;32mdef\u001b[0m \u001b[0mawarning_emitting_wrapper\u001b[0m\u001b[0;34m(\u001b[0m\u001b[0;34m*\u001b[0m\u001b[0margs\u001b[0m\u001b[0;34m:\u001b[0m \u001b[0mAny\u001b[0m\u001b[0;34m,\u001b[0m \u001b[0;34m**\u001b[0m\u001b[0mkwargs\u001b[0m\u001b[0;34m:\u001b[0m \u001b[0mAny\u001b[0m\u001b[0;34m)\u001b[0m \u001b[0;34m->\u001b[0m \u001b[0mAny\u001b[0m\u001b[0;34m:\u001b[0m\u001b[0;34m\u001b[0m\u001b[0;34m\u001b[0m\u001b[0m\n",
            "\u001b[0;32m/usr/local/lib/python3.11/dist-packages/langchain/chains/base.py\u001b[0m in \u001b[0;36m__call__\u001b[0;34m(self, inputs, return_only_outputs, callbacks, tags, metadata, run_name, include_run_info)\u001b[0m\n\u001b[1;32m    387\u001b[0m         }\n\u001b[1;32m    388\u001b[0m \u001b[0;34m\u001b[0m\u001b[0m\n\u001b[0;32m--> 389\u001b[0;31m         return self.invoke(\n\u001b[0m\u001b[1;32m    390\u001b[0m             \u001b[0minputs\u001b[0m\u001b[0;34m,\u001b[0m\u001b[0;34m\u001b[0m\u001b[0;34m\u001b[0m\u001b[0m\n\u001b[1;32m    391\u001b[0m             \u001b[0mcast\u001b[0m\u001b[0;34m(\u001b[0m\u001b[0mRunnableConfig\u001b[0m\u001b[0;34m,\u001b[0m \u001b[0;34m{\u001b[0m\u001b[0mk\u001b[0m\u001b[0;34m:\u001b[0m \u001b[0mv\u001b[0m \u001b[0;32mfor\u001b[0m \u001b[0mk\u001b[0m\u001b[0;34m,\u001b[0m \u001b[0mv\u001b[0m \u001b[0;32min\u001b[0m \u001b[0mconfig\u001b[0m\u001b[0;34m.\u001b[0m\u001b[0mitems\u001b[0m\u001b[0;34m(\u001b[0m\u001b[0;34m)\u001b[0m \u001b[0;32mif\u001b[0m \u001b[0mv\u001b[0m \u001b[0;32mis\u001b[0m \u001b[0;32mnot\u001b[0m \u001b[0;32mNone\u001b[0m\u001b[0;34m}\u001b[0m\u001b[0;34m)\u001b[0m\u001b[0;34m,\u001b[0m\u001b[0;34m\u001b[0m\u001b[0;34m\u001b[0m\u001b[0m\n",
            "\u001b[0;32m/usr/local/lib/python3.11/dist-packages/langchain/chains/base.py\u001b[0m in \u001b[0;36minvoke\u001b[0;34m(self, input, config, **kwargs)\u001b[0m\n\u001b[1;32m    168\u001b[0m         \u001b[0;32mexcept\u001b[0m \u001b[0mBaseException\u001b[0m \u001b[0;32mas\u001b[0m \u001b[0me\u001b[0m\u001b[0;34m:\u001b[0m\u001b[0;34m\u001b[0m\u001b[0;34m\u001b[0m\u001b[0m\n\u001b[1;32m    169\u001b[0m             \u001b[0mrun_manager\u001b[0m\u001b[0;34m.\u001b[0m\u001b[0mon_chain_error\u001b[0m\u001b[0;34m(\u001b[0m\u001b[0me\u001b[0m\u001b[0;34m)\u001b[0m\u001b[0;34m\u001b[0m\u001b[0;34m\u001b[0m\u001b[0m\n\u001b[0;32m--> 170\u001b[0;31m             \u001b[0;32mraise\u001b[0m \u001b[0me\u001b[0m\u001b[0;34m\u001b[0m\u001b[0;34m\u001b[0m\u001b[0m\n\u001b[0m\u001b[1;32m    171\u001b[0m         \u001b[0mrun_manager\u001b[0m\u001b[0;34m.\u001b[0m\u001b[0mon_chain_end\u001b[0m\u001b[0;34m(\u001b[0m\u001b[0moutputs\u001b[0m\u001b[0;34m)\u001b[0m\u001b[0;34m\u001b[0m\u001b[0;34m\u001b[0m\u001b[0m\n\u001b[1;32m    172\u001b[0m \u001b[0;34m\u001b[0m\u001b[0m\n",
            "\u001b[0;32m/usr/local/lib/python3.11/dist-packages/langchain/chains/base.py\u001b[0m in \u001b[0;36minvoke\u001b[0;34m(self, input, config, **kwargs)\u001b[0m\n\u001b[1;32m    158\u001b[0m             \u001b[0mself\u001b[0m\u001b[0;34m.\u001b[0m\u001b[0m_validate_inputs\u001b[0m\u001b[0;34m(\u001b[0m\u001b[0minputs\u001b[0m\u001b[0;34m)\u001b[0m\u001b[0;34m\u001b[0m\u001b[0;34m\u001b[0m\u001b[0m\n\u001b[1;32m    159\u001b[0m             outputs = (\n\u001b[0;32m--> 160\u001b[0;31m                 \u001b[0mself\u001b[0m\u001b[0;34m.\u001b[0m\u001b[0m_call\u001b[0m\u001b[0;34m(\u001b[0m\u001b[0minputs\u001b[0m\u001b[0;34m,\u001b[0m \u001b[0mrun_manager\u001b[0m\u001b[0;34m=\u001b[0m\u001b[0mrun_manager\u001b[0m\u001b[0;34m)\u001b[0m\u001b[0;34m\u001b[0m\u001b[0;34m\u001b[0m\u001b[0m\n\u001b[0m\u001b[1;32m    161\u001b[0m                 \u001b[0;32mif\u001b[0m \u001b[0mnew_arg_supported\u001b[0m\u001b[0;34m\u001b[0m\u001b[0;34m\u001b[0m\u001b[0m\n\u001b[1;32m    162\u001b[0m                 \u001b[0;32melse\u001b[0m \u001b[0mself\u001b[0m\u001b[0;34m.\u001b[0m\u001b[0m_call\u001b[0m\u001b[0;34m(\u001b[0m\u001b[0minputs\u001b[0m\u001b[0;34m)\u001b[0m\u001b[0;34m\u001b[0m\u001b[0;34m\u001b[0m\u001b[0m\n",
            "\u001b[0;32m/usr/local/lib/python3.11/dist-packages/langchain/agents/agent.py\u001b[0m in \u001b[0;36m_call\u001b[0;34m(self, inputs, run_manager)\u001b[0m\n\u001b[1;32m   1622\u001b[0m         \u001b[0;31m# We now enter the agent loop (until it returns something).\u001b[0m\u001b[0;34m\u001b[0m\u001b[0;34m\u001b[0m\u001b[0m\n\u001b[1;32m   1623\u001b[0m         \u001b[0;32mwhile\u001b[0m \u001b[0mself\u001b[0m\u001b[0;34m.\u001b[0m\u001b[0m_should_continue\u001b[0m\u001b[0;34m(\u001b[0m\u001b[0miterations\u001b[0m\u001b[0;34m,\u001b[0m \u001b[0mtime_elapsed\u001b[0m\u001b[0;34m)\u001b[0m\u001b[0;34m:\u001b[0m\u001b[0;34m\u001b[0m\u001b[0;34m\u001b[0m\u001b[0m\n\u001b[0;32m-> 1624\u001b[0;31m             next_step_output = self._take_next_step(\n\u001b[0m\u001b[1;32m   1625\u001b[0m                 \u001b[0mname_to_tool_map\u001b[0m\u001b[0;34m,\u001b[0m\u001b[0;34m\u001b[0m\u001b[0;34m\u001b[0m\u001b[0m\n\u001b[1;32m   1626\u001b[0m                 \u001b[0mcolor_mapping\u001b[0m\u001b[0;34m,\u001b[0m\u001b[0;34m\u001b[0m\u001b[0;34m\u001b[0m\u001b[0m\n",
            "\u001b[0;32m/usr/local/lib/python3.11/dist-packages/langchain/agents/agent.py\u001b[0m in \u001b[0;36m_take_next_step\u001b[0;34m(self, name_to_tool_map, color_mapping, inputs, intermediate_steps, run_manager)\u001b[0m\n\u001b[1;32m   1328\u001b[0m     ) -> Union[AgentFinish, List[Tuple[AgentAction, str]]]:\n\u001b[1;32m   1329\u001b[0m         return self._consume_next_step(\n\u001b[0;32m-> 1330\u001b[0;31m             [\n\u001b[0m\u001b[1;32m   1331\u001b[0m                 \u001b[0ma\u001b[0m\u001b[0;34m\u001b[0m\u001b[0;34m\u001b[0m\u001b[0m\n\u001b[1;32m   1332\u001b[0m                 for a in self._iter_next_step(\n",
            "\u001b[0;32m/usr/local/lib/python3.11/dist-packages/langchain/agents/agent.py\u001b[0m in \u001b[0;36m<listcomp>\u001b[0;34m(.0)\u001b[0m\n\u001b[1;32m   1328\u001b[0m     ) -> Union[AgentFinish, List[Tuple[AgentAction, str]]]:\n\u001b[1;32m   1329\u001b[0m         return self._consume_next_step(\n\u001b[0;32m-> 1330\u001b[0;31m             [\n\u001b[0m\u001b[1;32m   1331\u001b[0m                 \u001b[0ma\u001b[0m\u001b[0;34m\u001b[0m\u001b[0;34m\u001b[0m\u001b[0m\n\u001b[1;32m   1332\u001b[0m                 for a in self._iter_next_step(\n",
            "\u001b[0;32m/usr/local/lib/python3.11/dist-packages/langchain/agents/agent.py\u001b[0m in \u001b[0;36m_iter_next_step\u001b[0;34m(self, name_to_tool_map, color_mapping, inputs, intermediate_steps, run_manager)\u001b[0m\n\u001b[1;32m   1356\u001b[0m \u001b[0;34m\u001b[0m\u001b[0m\n\u001b[1;32m   1357\u001b[0m             \u001b[0;31m# Call the LLM to see what to do.\u001b[0m\u001b[0;34m\u001b[0m\u001b[0;34m\u001b[0m\u001b[0m\n\u001b[0;32m-> 1358\u001b[0;31m             output = self._action_agent.plan(\n\u001b[0m\u001b[1;32m   1359\u001b[0m                 \u001b[0mintermediate_steps\u001b[0m\u001b[0;34m,\u001b[0m\u001b[0;34m\u001b[0m\u001b[0;34m\u001b[0m\u001b[0m\n\u001b[1;32m   1360\u001b[0m                 \u001b[0mcallbacks\u001b[0m\u001b[0;34m=\u001b[0m\u001b[0mrun_manager\u001b[0m\u001b[0;34m.\u001b[0m\u001b[0mget_child\u001b[0m\u001b[0;34m(\u001b[0m\u001b[0;34m)\u001b[0m \u001b[0;32mif\u001b[0m \u001b[0mrun_manager\u001b[0m \u001b[0;32melse\u001b[0m \u001b[0;32mNone\u001b[0m\u001b[0;34m,\u001b[0m\u001b[0;34m\u001b[0m\u001b[0;34m\u001b[0m\u001b[0m\n",
            "\u001b[0;32m/usr/local/lib/python3.11/dist-packages/langchain/agents/agent.py\u001b[0m in \u001b[0;36mplan\u001b[0;34m(self, intermediate_steps, callbacks, **kwargs)\u001b[0m\n\u001b[1;32m    463\u001b[0m             \u001b[0;31m# Because the response from the plan is not a generator, we need to\u001b[0m\u001b[0;34m\u001b[0m\u001b[0;34m\u001b[0m\u001b[0m\n\u001b[1;32m    464\u001b[0m             \u001b[0;31m# accumulate the output into final output and return that.\u001b[0m\u001b[0;34m\u001b[0m\u001b[0;34m\u001b[0m\u001b[0m\n\u001b[0;32m--> 465\u001b[0;31m             \u001b[0;32mfor\u001b[0m \u001b[0mchunk\u001b[0m \u001b[0;32min\u001b[0m \u001b[0mself\u001b[0m\u001b[0;34m.\u001b[0m\u001b[0mrunnable\u001b[0m\u001b[0;34m.\u001b[0m\u001b[0mstream\u001b[0m\u001b[0;34m(\u001b[0m\u001b[0minputs\u001b[0m\u001b[0;34m,\u001b[0m \u001b[0mconfig\u001b[0m\u001b[0;34m=\u001b[0m\u001b[0;34m{\u001b[0m\u001b[0;34m\"callbacks\"\u001b[0m\u001b[0;34m:\u001b[0m \u001b[0mcallbacks\u001b[0m\u001b[0;34m}\u001b[0m\u001b[0;34m)\u001b[0m\u001b[0;34m:\u001b[0m\u001b[0;34m\u001b[0m\u001b[0;34m\u001b[0m\u001b[0m\n\u001b[0m\u001b[1;32m    466\u001b[0m                 \u001b[0;32mif\u001b[0m \u001b[0mfinal_output\u001b[0m \u001b[0;32mis\u001b[0m \u001b[0;32mNone\u001b[0m\u001b[0;34m:\u001b[0m\u001b[0;34m\u001b[0m\u001b[0;34m\u001b[0m\u001b[0m\n\u001b[1;32m    467\u001b[0m                     \u001b[0mfinal_output\u001b[0m \u001b[0;34m=\u001b[0m \u001b[0mchunk\u001b[0m\u001b[0;34m\u001b[0m\u001b[0;34m\u001b[0m\u001b[0m\n",
            "\u001b[0;32m/usr/local/lib/python3.11/dist-packages/langchain_core/runnables/base.py\u001b[0m in \u001b[0;36mstream\u001b[0;34m(self, input, config, **kwargs)\u001b[0m\n\u001b[1;32m   3399\u001b[0m         \u001b[0;34m**\u001b[0m\u001b[0mkwargs\u001b[0m\u001b[0;34m:\u001b[0m \u001b[0mOptional\u001b[0m\u001b[0;34m[\u001b[0m\u001b[0mAny\u001b[0m\u001b[0;34m]\u001b[0m\u001b[0;34m,\u001b[0m\u001b[0;34m\u001b[0m\u001b[0;34m\u001b[0m\u001b[0m\n\u001b[1;32m   3400\u001b[0m     ) -> Iterator[Output]:\n\u001b[0;32m-> 3401\u001b[0;31m         \u001b[0;32myield\u001b[0m \u001b[0;32mfrom\u001b[0m \u001b[0mself\u001b[0m\u001b[0;34m.\u001b[0m\u001b[0mtransform\u001b[0m\u001b[0;34m(\u001b[0m\u001b[0miter\u001b[0m\u001b[0;34m(\u001b[0m\u001b[0;34m[\u001b[0m\u001b[0minput\u001b[0m\u001b[0;34m]\u001b[0m\u001b[0;34m)\u001b[0m\u001b[0;34m,\u001b[0m \u001b[0mconfig\u001b[0m\u001b[0;34m,\u001b[0m \u001b[0;34m**\u001b[0m\u001b[0mkwargs\u001b[0m\u001b[0;34m)\u001b[0m\u001b[0;34m\u001b[0m\u001b[0;34m\u001b[0m\u001b[0m\n\u001b[0m\u001b[1;32m   3402\u001b[0m \u001b[0;34m\u001b[0m\u001b[0m\n\u001b[1;32m   3403\u001b[0m     async def atransform(\n",
            "\u001b[0;32m/usr/local/lib/python3.11/dist-packages/langchain_core/runnables/base.py\u001b[0m in \u001b[0;36mtransform\u001b[0;34m(self, input, config, **kwargs)\u001b[0m\n\u001b[1;32m   3386\u001b[0m         \u001b[0;34m**\u001b[0m\u001b[0mkwargs\u001b[0m\u001b[0;34m:\u001b[0m \u001b[0mOptional\u001b[0m\u001b[0;34m[\u001b[0m\u001b[0mAny\u001b[0m\u001b[0;34m]\u001b[0m\u001b[0;34m,\u001b[0m\u001b[0;34m\u001b[0m\u001b[0;34m\u001b[0m\u001b[0m\n\u001b[1;32m   3387\u001b[0m     ) -> Iterator[Output]:\n\u001b[0;32m-> 3388\u001b[0;31m         yield from self._transform_stream_with_config(\n\u001b[0m\u001b[1;32m   3389\u001b[0m             \u001b[0minput\u001b[0m\u001b[0;34m,\u001b[0m\u001b[0;34m\u001b[0m\u001b[0;34m\u001b[0m\u001b[0m\n\u001b[1;32m   3390\u001b[0m             \u001b[0mself\u001b[0m\u001b[0;34m.\u001b[0m\u001b[0m_transform\u001b[0m\u001b[0;34m,\u001b[0m\u001b[0;34m\u001b[0m\u001b[0;34m\u001b[0m\u001b[0m\n",
            "\u001b[0;32m/usr/local/lib/python3.11/dist-packages/langchain_core/runnables/base.py\u001b[0m in \u001b[0;36m_transform_stream_with_config\u001b[0;34m(self, input, transformer, config, run_type, **kwargs)\u001b[0m\n\u001b[1;32m   2186\u001b[0m             \u001b[0;32mtry\u001b[0m\u001b[0;34m:\u001b[0m\u001b[0;34m\u001b[0m\u001b[0;34m\u001b[0m\u001b[0m\n\u001b[1;32m   2187\u001b[0m                 \u001b[0;32mwhile\u001b[0m \u001b[0;32mTrue\u001b[0m\u001b[0;34m:\u001b[0m\u001b[0;34m\u001b[0m\u001b[0;34m\u001b[0m\u001b[0m\n\u001b[0;32m-> 2188\u001b[0;31m                     \u001b[0mchunk\u001b[0m\u001b[0;34m:\u001b[0m \u001b[0mOutput\u001b[0m \u001b[0;34m=\u001b[0m \u001b[0mcontext\u001b[0m\u001b[0;34m.\u001b[0m\u001b[0mrun\u001b[0m\u001b[0;34m(\u001b[0m\u001b[0mnext\u001b[0m\u001b[0;34m,\u001b[0m \u001b[0miterator\u001b[0m\u001b[0;34m)\u001b[0m  \u001b[0;31m# type: ignore\u001b[0m\u001b[0;34m\u001b[0m\u001b[0;34m\u001b[0m\u001b[0m\n\u001b[0m\u001b[1;32m   2189\u001b[0m                     \u001b[0;32myield\u001b[0m \u001b[0mchunk\u001b[0m\u001b[0;34m\u001b[0m\u001b[0;34m\u001b[0m\u001b[0m\n\u001b[1;32m   2190\u001b[0m                     \u001b[0;32mif\u001b[0m \u001b[0mfinal_output_supported\u001b[0m\u001b[0;34m:\u001b[0m\u001b[0;34m\u001b[0m\u001b[0;34m\u001b[0m\u001b[0m\n",
            "\u001b[0;32m/usr/local/lib/python3.11/dist-packages/langchain_core/runnables/base.py\u001b[0m in \u001b[0;36m_transform\u001b[0;34m(self, input, run_manager, config, **kwargs)\u001b[0m\n\u001b[1;32m   3349\u001b[0m                 \u001b[0mfinal_pipeline\u001b[0m \u001b[0;34m=\u001b[0m \u001b[0mstep\u001b[0m\u001b[0;34m.\u001b[0m\u001b[0mtransform\u001b[0m\u001b[0;34m(\u001b[0m\u001b[0mfinal_pipeline\u001b[0m\u001b[0;34m,\u001b[0m \u001b[0mconfig\u001b[0m\u001b[0;34m)\u001b[0m\u001b[0;34m\u001b[0m\u001b[0;34m\u001b[0m\u001b[0m\n\u001b[1;32m   3350\u001b[0m \u001b[0;34m\u001b[0m\u001b[0m\n\u001b[0;32m-> 3351\u001b[0;31m         \u001b[0;32myield\u001b[0m \u001b[0;32mfrom\u001b[0m \u001b[0mfinal_pipeline\u001b[0m\u001b[0;34m\u001b[0m\u001b[0;34m\u001b[0m\u001b[0m\n\u001b[0m\u001b[1;32m   3352\u001b[0m \u001b[0;34m\u001b[0m\u001b[0m\n\u001b[1;32m   3353\u001b[0m     async def _atransform(\n",
            "\u001b[0;32m/usr/local/lib/python3.11/dist-packages/langchain_core/runnables/base.py\u001b[0m in \u001b[0;36mtransform\u001b[0;34m(self, input, config, **kwargs)\u001b[0m\n\u001b[1;32m   1404\u001b[0m         \u001b[0mgot_first_val\u001b[0m \u001b[0;34m=\u001b[0m \u001b[0;32mFalse\u001b[0m\u001b[0;34m\u001b[0m\u001b[0;34m\u001b[0m\u001b[0m\n\u001b[1;32m   1405\u001b[0m \u001b[0;34m\u001b[0m\u001b[0m\n\u001b[0;32m-> 1406\u001b[0;31m         \u001b[0;32mfor\u001b[0m \u001b[0michunk\u001b[0m \u001b[0;32min\u001b[0m \u001b[0minput\u001b[0m\u001b[0;34m:\u001b[0m\u001b[0;34m\u001b[0m\u001b[0;34m\u001b[0m\u001b[0m\n\u001b[0m\u001b[1;32m   1407\u001b[0m             \u001b[0;31m# The default implementation of transform is to buffer input and\u001b[0m\u001b[0;34m\u001b[0m\u001b[0;34m\u001b[0m\u001b[0m\n\u001b[1;32m   1408\u001b[0m             \u001b[0;31m# then call stream.\u001b[0m\u001b[0;34m\u001b[0m\u001b[0;34m\u001b[0m\u001b[0m\n",
            "\u001b[0;32m/usr/local/lib/python3.11/dist-packages/langchain_core/runnables/base.py\u001b[0m in \u001b[0;36mtransform\u001b[0;34m(self, input, config, **kwargs)\u001b[0m\n\u001b[1;32m   5557\u001b[0m         \u001b[0;34m**\u001b[0m\u001b[0mkwargs\u001b[0m\u001b[0;34m:\u001b[0m \u001b[0mAny\u001b[0m\u001b[0;34m,\u001b[0m\u001b[0;34m\u001b[0m\u001b[0;34m\u001b[0m\u001b[0m\n\u001b[1;32m   5558\u001b[0m     ) -> Iterator[Output]:\n\u001b[0;32m-> 5559\u001b[0;31m         yield from self.bound.transform(\n\u001b[0m\u001b[1;32m   5560\u001b[0m             \u001b[0minput\u001b[0m\u001b[0;34m,\u001b[0m\u001b[0;34m\u001b[0m\u001b[0;34m\u001b[0m\u001b[0m\n\u001b[1;32m   5561\u001b[0m             \u001b[0mself\u001b[0m\u001b[0;34m.\u001b[0m\u001b[0m_merge_configs\u001b[0m\u001b[0;34m(\u001b[0m\u001b[0mconfig\u001b[0m\u001b[0;34m)\u001b[0m\u001b[0;34m,\u001b[0m\u001b[0;34m\u001b[0m\u001b[0;34m\u001b[0m\u001b[0m\n",
            "\u001b[0;32m/usr/local/lib/python3.11/dist-packages/langchain_core/runnables/base.py\u001b[0m in \u001b[0;36mtransform\u001b[0;34m(self, input, config, **kwargs)\u001b[0m\n\u001b[1;32m   1422\u001b[0m \u001b[0;34m\u001b[0m\u001b[0m\n\u001b[1;32m   1423\u001b[0m         \u001b[0;32mif\u001b[0m \u001b[0mgot_first_val\u001b[0m\u001b[0;34m:\u001b[0m\u001b[0;34m\u001b[0m\u001b[0;34m\u001b[0m\u001b[0m\n\u001b[0;32m-> 1424\u001b[0;31m             \u001b[0;32myield\u001b[0m \u001b[0;32mfrom\u001b[0m \u001b[0mself\u001b[0m\u001b[0;34m.\u001b[0m\u001b[0mstream\u001b[0m\u001b[0;34m(\u001b[0m\u001b[0mfinal\u001b[0m\u001b[0;34m,\u001b[0m \u001b[0mconfig\u001b[0m\u001b[0;34m,\u001b[0m \u001b[0;34m**\u001b[0m\u001b[0mkwargs\u001b[0m\u001b[0;34m)\u001b[0m\u001b[0;34m\u001b[0m\u001b[0;34m\u001b[0m\u001b[0m\n\u001b[0m\u001b[1;32m   1425\u001b[0m \u001b[0;34m\u001b[0m\u001b[0m\n\u001b[1;32m   1426\u001b[0m     async def atransform(\n",
            "\u001b[0;32m/usr/local/lib/python3.11/dist-packages/langchain_core/language_models/llms.py\u001b[0m in \u001b[0;36mstream\u001b[0;34m(self, input, config, stop, **kwargs)\u001b[0m\n\u001b[1;32m    523\u001b[0m         \u001b[0;32mif\u001b[0m \u001b[0mtype\u001b[0m\u001b[0;34m(\u001b[0m\u001b[0mself\u001b[0m\u001b[0;34m)\u001b[0m\u001b[0;34m.\u001b[0m\u001b[0m_stream\u001b[0m \u001b[0;34m==\u001b[0m \u001b[0mBaseLLM\u001b[0m\u001b[0;34m.\u001b[0m\u001b[0m_stream\u001b[0m\u001b[0;34m:\u001b[0m\u001b[0;34m\u001b[0m\u001b[0;34m\u001b[0m\u001b[0m\n\u001b[1;32m    524\u001b[0m             \u001b[0;31m# model doesn't implement streaming, so use default implementation\u001b[0m\u001b[0;34m\u001b[0m\u001b[0;34m\u001b[0m\u001b[0m\n\u001b[0;32m--> 525\u001b[0;31m             \u001b[0;32myield\u001b[0m \u001b[0mself\u001b[0m\u001b[0;34m.\u001b[0m\u001b[0minvoke\u001b[0m\u001b[0;34m(\u001b[0m\u001b[0minput\u001b[0m\u001b[0;34m,\u001b[0m \u001b[0mconfig\u001b[0m\u001b[0;34m=\u001b[0m\u001b[0mconfig\u001b[0m\u001b[0;34m,\u001b[0m \u001b[0mstop\u001b[0m\u001b[0;34m=\u001b[0m\u001b[0mstop\u001b[0m\u001b[0;34m,\u001b[0m \u001b[0;34m**\u001b[0m\u001b[0mkwargs\u001b[0m\u001b[0;34m)\u001b[0m\u001b[0;34m\u001b[0m\u001b[0;34m\u001b[0m\u001b[0m\n\u001b[0m\u001b[1;32m    526\u001b[0m         \u001b[0;32melse\u001b[0m\u001b[0;34m:\u001b[0m\u001b[0;34m\u001b[0m\u001b[0;34m\u001b[0m\u001b[0m\n\u001b[1;32m    527\u001b[0m             \u001b[0mprompt\u001b[0m \u001b[0;34m=\u001b[0m \u001b[0mself\u001b[0m\u001b[0;34m.\u001b[0m\u001b[0m_convert_input\u001b[0m\u001b[0;34m(\u001b[0m\u001b[0minput\u001b[0m\u001b[0;34m)\u001b[0m\u001b[0;34m.\u001b[0m\u001b[0mto_string\u001b[0m\u001b[0;34m(\u001b[0m\u001b[0;34m)\u001b[0m\u001b[0;34m\u001b[0m\u001b[0;34m\u001b[0m\u001b[0m\n",
            "\u001b[0;32m/usr/local/lib/python3.11/dist-packages/langchain_core/language_models/llms.py\u001b[0m in \u001b[0;36minvoke\u001b[0;34m(self, input, config, stop, **kwargs)\u001b[0m\n\u001b[1;32m    385\u001b[0m         \u001b[0mconfig\u001b[0m \u001b[0;34m=\u001b[0m \u001b[0mensure_config\u001b[0m\u001b[0;34m(\u001b[0m\u001b[0mconfig\u001b[0m\u001b[0;34m)\u001b[0m\u001b[0;34m\u001b[0m\u001b[0;34m\u001b[0m\u001b[0m\n\u001b[1;32m    386\u001b[0m         return (\n\u001b[0;32m--> 387\u001b[0;31m             self.generate_prompt(\n\u001b[0m\u001b[1;32m    388\u001b[0m                 \u001b[0;34m[\u001b[0m\u001b[0mself\u001b[0m\u001b[0;34m.\u001b[0m\u001b[0m_convert_input\u001b[0m\u001b[0;34m(\u001b[0m\u001b[0minput\u001b[0m\u001b[0;34m)\u001b[0m\u001b[0;34m]\u001b[0m\u001b[0;34m,\u001b[0m\u001b[0;34m\u001b[0m\u001b[0;34m\u001b[0m\u001b[0m\n\u001b[1;32m    389\u001b[0m                 \u001b[0mstop\u001b[0m\u001b[0;34m=\u001b[0m\u001b[0mstop\u001b[0m\u001b[0;34m,\u001b[0m\u001b[0;34m\u001b[0m\u001b[0;34m\u001b[0m\u001b[0m\n",
            "\u001b[0;32m/usr/local/lib/python3.11/dist-packages/langchain_core/language_models/llms.py\u001b[0m in \u001b[0;36mgenerate_prompt\u001b[0;34m(self, prompts, stop, callbacks, **kwargs)\u001b[0m\n\u001b[1;32m    758\u001b[0m     ) -> LLMResult:\n\u001b[1;32m    759\u001b[0m         \u001b[0mprompt_strings\u001b[0m \u001b[0;34m=\u001b[0m \u001b[0;34m[\u001b[0m\u001b[0mp\u001b[0m\u001b[0;34m.\u001b[0m\u001b[0mto_string\u001b[0m\u001b[0;34m(\u001b[0m\u001b[0;34m)\u001b[0m \u001b[0;32mfor\u001b[0m \u001b[0mp\u001b[0m \u001b[0;32min\u001b[0m \u001b[0mprompts\u001b[0m\u001b[0;34m]\u001b[0m\u001b[0;34m\u001b[0m\u001b[0;34m\u001b[0m\u001b[0m\n\u001b[0;32m--> 760\u001b[0;31m         \u001b[0;32mreturn\u001b[0m \u001b[0mself\u001b[0m\u001b[0;34m.\u001b[0m\u001b[0mgenerate\u001b[0m\u001b[0;34m(\u001b[0m\u001b[0mprompt_strings\u001b[0m\u001b[0;34m,\u001b[0m \u001b[0mstop\u001b[0m\u001b[0;34m=\u001b[0m\u001b[0mstop\u001b[0m\u001b[0;34m,\u001b[0m \u001b[0mcallbacks\u001b[0m\u001b[0;34m=\u001b[0m\u001b[0mcallbacks\u001b[0m\u001b[0;34m,\u001b[0m \u001b[0;34m**\u001b[0m\u001b[0mkwargs\u001b[0m\u001b[0;34m)\u001b[0m\u001b[0;34m\u001b[0m\u001b[0;34m\u001b[0m\u001b[0m\n\u001b[0m\u001b[1;32m    761\u001b[0m \u001b[0;34m\u001b[0m\u001b[0m\n\u001b[1;32m    762\u001b[0m     async def agenerate_prompt(\n",
            "\u001b[0;32m/usr/local/lib/python3.11/dist-packages/langchain_core/language_models/llms.py\u001b[0m in \u001b[0;36mgenerate\u001b[0;34m(self, prompts, stop, callbacks, tags, metadata, run_name, run_id, **kwargs)\u001b[0m\n\u001b[1;32m    961\u001b[0m                 )\n\u001b[1;32m    962\u001b[0m             ]\n\u001b[0;32m--> 963\u001b[0;31m             output = self._generate_helper(\n\u001b[0m\u001b[1;32m    964\u001b[0m                 \u001b[0mprompts\u001b[0m\u001b[0;34m,\u001b[0m \u001b[0mstop\u001b[0m\u001b[0;34m,\u001b[0m \u001b[0mrun_managers\u001b[0m\u001b[0;34m,\u001b[0m \u001b[0mbool\u001b[0m\u001b[0;34m(\u001b[0m\u001b[0mnew_arg_supported\u001b[0m\u001b[0;34m)\u001b[0m\u001b[0;34m,\u001b[0m \u001b[0;34m**\u001b[0m\u001b[0mkwargs\u001b[0m\u001b[0;34m\u001b[0m\u001b[0;34m\u001b[0m\u001b[0m\n\u001b[1;32m    965\u001b[0m             )\n",
            "\u001b[0;32m/usr/local/lib/python3.11/dist-packages/langchain_core/language_models/llms.py\u001b[0m in \u001b[0;36m_generate_helper\u001b[0;34m(self, prompts, stop, run_managers, new_arg_supported, **kwargs)\u001b[0m\n\u001b[1;32m    782\u001b[0m         \u001b[0;32mtry\u001b[0m\u001b[0;34m:\u001b[0m\u001b[0;34m\u001b[0m\u001b[0;34m\u001b[0m\u001b[0m\n\u001b[1;32m    783\u001b[0m             output = (\n\u001b[0;32m--> 784\u001b[0;31m                 self._generate(\n\u001b[0m\u001b[1;32m    785\u001b[0m                     \u001b[0mprompts\u001b[0m\u001b[0;34m,\u001b[0m\u001b[0;34m\u001b[0m\u001b[0;34m\u001b[0m\u001b[0m\n\u001b[1;32m    786\u001b[0m                     \u001b[0mstop\u001b[0m\u001b[0;34m=\u001b[0m\u001b[0mstop\u001b[0m\u001b[0;34m,\u001b[0m\u001b[0;34m\u001b[0m\u001b[0;34m\u001b[0m\u001b[0m\n",
            "\u001b[0;32m/usr/local/lib/python3.11/dist-packages/langchain_core/language_models/llms.py\u001b[0m in \u001b[0;36m_generate\u001b[0;34m(self, prompts, stop, run_manager, **kwargs)\u001b[0m\n\u001b[1;32m   1521\u001b[0m         \u001b[0;32mfor\u001b[0m \u001b[0mprompt\u001b[0m \u001b[0;32min\u001b[0m \u001b[0mprompts\u001b[0m\u001b[0;34m:\u001b[0m\u001b[0;34m\u001b[0m\u001b[0;34m\u001b[0m\u001b[0m\n\u001b[1;32m   1522\u001b[0m             text = (\n\u001b[0;32m-> 1523\u001b[0;31m                 \u001b[0mself\u001b[0m\u001b[0;34m.\u001b[0m\u001b[0m_call\u001b[0m\u001b[0;34m(\u001b[0m\u001b[0mprompt\u001b[0m\u001b[0;34m,\u001b[0m \u001b[0mstop\u001b[0m\u001b[0;34m=\u001b[0m\u001b[0mstop\u001b[0m\u001b[0;34m,\u001b[0m \u001b[0mrun_manager\u001b[0m\u001b[0;34m=\u001b[0m\u001b[0mrun_manager\u001b[0m\u001b[0;34m,\u001b[0m \u001b[0;34m**\u001b[0m\u001b[0mkwargs\u001b[0m\u001b[0;34m)\u001b[0m\u001b[0;34m\u001b[0m\u001b[0;34m\u001b[0m\u001b[0m\n\u001b[0m\u001b[1;32m   1524\u001b[0m                 \u001b[0;32mif\u001b[0m \u001b[0mnew_arg_supported\u001b[0m\u001b[0;34m\u001b[0m\u001b[0;34m\u001b[0m\u001b[0m\n\u001b[1;32m   1525\u001b[0m                 \u001b[0;32melse\u001b[0m \u001b[0mself\u001b[0m\u001b[0;34m.\u001b[0m\u001b[0m_call\u001b[0m\u001b[0;34m(\u001b[0m\u001b[0mprompt\u001b[0m\u001b[0;34m,\u001b[0m \u001b[0mstop\u001b[0m\u001b[0;34m=\u001b[0m\u001b[0mstop\u001b[0m\u001b[0;34m,\u001b[0m \u001b[0;34m**\u001b[0m\u001b[0mkwargs\u001b[0m\u001b[0;34m)\u001b[0m\u001b[0;34m\u001b[0m\u001b[0;34m\u001b[0m\u001b[0m\n",
            "\u001b[0;32m/usr/local/lib/python3.11/dist-packages/langchain_community/llms/huggingface_hub.py\u001b[0m in \u001b[0;36m_call\u001b[0;34m(self, prompt, stop, run_manager, **kwargs)\u001b[0m\n\u001b[1;32m    136\u001b[0m         \u001b[0mparameters\u001b[0m \u001b[0;34m=\u001b[0m \u001b[0;34m{\u001b[0m\u001b[0;34m**\u001b[0m\u001b[0m_model_kwargs\u001b[0m\u001b[0;34m,\u001b[0m \u001b[0;34m**\u001b[0m\u001b[0mkwargs\u001b[0m\u001b[0;34m}\u001b[0m\u001b[0;34m\u001b[0m\u001b[0;34m\u001b[0m\u001b[0m\n\u001b[1;32m    137\u001b[0m \u001b[0;34m\u001b[0m\u001b[0m\n\u001b[0;32m--> 138\u001b[0;31m         response = self.client.post(\n\u001b[0m\u001b[1;32m    139\u001b[0m             \u001b[0mjson\u001b[0m\u001b[0;34m=\u001b[0m\u001b[0;34m{\u001b[0m\u001b[0;34m\"inputs\"\u001b[0m\u001b[0;34m:\u001b[0m \u001b[0mprompt\u001b[0m\u001b[0;34m,\u001b[0m \u001b[0;34m\"parameters\"\u001b[0m\u001b[0;34m:\u001b[0m \u001b[0mparameters\u001b[0m\u001b[0;34m}\u001b[0m\u001b[0;34m,\u001b[0m \u001b[0mtask\u001b[0m\u001b[0;34m=\u001b[0m\u001b[0mself\u001b[0m\u001b[0;34m.\u001b[0m\u001b[0mtask\u001b[0m\u001b[0;34m\u001b[0m\u001b[0;34m\u001b[0m\u001b[0m\n\u001b[1;32m    140\u001b[0m         )\n",
            "\u001b[0;32m/usr/local/lib/python3.11/dist-packages/huggingface_hub/inference/_client.py\u001b[0m in \u001b[0;36mpost\u001b[0;34m(self, json, data, model, task, stream)\u001b[0m\n\u001b[1;32m    304\u001b[0m \u001b[0;34m\u001b[0m\u001b[0m\n\u001b[1;32m    305\u001b[0m             \u001b[0;32mtry\u001b[0m\u001b[0;34m:\u001b[0m\u001b[0;34m\u001b[0m\u001b[0;34m\u001b[0m\u001b[0m\n\u001b[0;32m--> 306\u001b[0;31m                 \u001b[0mhf_raise_for_status\u001b[0m\u001b[0;34m(\u001b[0m\u001b[0mresponse\u001b[0m\u001b[0;34m)\u001b[0m\u001b[0;34m\u001b[0m\u001b[0;34m\u001b[0m\u001b[0m\n\u001b[0m\u001b[1;32m    307\u001b[0m                 \u001b[0;32mreturn\u001b[0m \u001b[0mresponse\u001b[0m\u001b[0;34m.\u001b[0m\u001b[0miter_lines\u001b[0m\u001b[0;34m(\u001b[0m\u001b[0;34m)\u001b[0m \u001b[0;32mif\u001b[0m \u001b[0mstream\u001b[0m \u001b[0;32melse\u001b[0m \u001b[0mresponse\u001b[0m\u001b[0;34m.\u001b[0m\u001b[0mcontent\u001b[0m\u001b[0;34m\u001b[0m\u001b[0;34m\u001b[0m\u001b[0m\n\u001b[1;32m    308\u001b[0m             \u001b[0;32mexcept\u001b[0m \u001b[0mHTTPError\u001b[0m \u001b[0;32mas\u001b[0m \u001b[0merror\u001b[0m\u001b[0;34m:\u001b[0m\u001b[0;34m\u001b[0m\u001b[0;34m\u001b[0m\u001b[0m\n",
            "\u001b[0;32m/usr/local/lib/python3.11/dist-packages/huggingface_hub/utils/_http.py\u001b[0m in \u001b[0;36mhf_raise_for_status\u001b[0;34m(response, endpoint_name)\u001b[0m\n\u001b[1;32m    475\u001b[0m         \u001b[0;31m# Convert `HTTPError` into a `HfHubHTTPError` to display request information\u001b[0m\u001b[0;34m\u001b[0m\u001b[0;34m\u001b[0m\u001b[0m\n\u001b[1;32m    476\u001b[0m         \u001b[0;31m# as well (request id and/or server error message)\u001b[0m\u001b[0;34m\u001b[0m\u001b[0;34m\u001b[0m\u001b[0m\n\u001b[0;32m--> 477\u001b[0;31m         \u001b[0;32mraise\u001b[0m \u001b[0m_format\u001b[0m\u001b[0;34m(\u001b[0m\u001b[0mHfHubHTTPError\u001b[0m\u001b[0;34m,\u001b[0m \u001b[0mstr\u001b[0m\u001b[0;34m(\u001b[0m\u001b[0me\u001b[0m\u001b[0;34m)\u001b[0m\u001b[0;34m,\u001b[0m \u001b[0mresponse\u001b[0m\u001b[0;34m)\u001b[0m \u001b[0;32mfrom\u001b[0m \u001b[0me\u001b[0m\u001b[0;34m\u001b[0m\u001b[0;34m\u001b[0m\u001b[0m\n\u001b[0m\u001b[1;32m    478\u001b[0m \u001b[0;34m\u001b[0m\u001b[0m\n\u001b[1;32m    479\u001b[0m \u001b[0;34m\u001b[0m\u001b[0m\n",
            "\u001b[0;31mHfHubHTTPError\u001b[0m: 422 Client Error: Unprocessable Entity for url: https://api-inference.huggingface.co/models/distilgpt2 (Request ID: kxHjeJ)\n\nInput validation error: `inputs` tokens + `max_new_tokens` must be <= 1024. Given: 1051 `inputs` tokens and 0 `max_new_tokens`\nMake sure 'text-generation' task is supported by the model."
          ]
        }
      ],
      "source": [
        "import os\n",
        "import warnings\n",
        "import pandas as pd\n",
        "from langchain.llms import HuggingFaceHub\n",
        "from langchain_experimental.agents.agent_toolkits import create_pandas_dataframe_agent\n",
        "\n",
        "# Set Hugging Face API token\n",
        "os.environ['HUGGINGFACEHUB_API_TOKEN'] = ''  # Replace with your token\n",
        "\n",
        "# Suppress warnings\n",
        "warnings.filterwarnings(\"ignore\")\n",
        "\n",
        "# Example DataFrame\n",
        "df = pd.DataFrame({\n",
        "    \"Name\": [\"Alice\", \"Bob\", \"Charlie\"],\n",
        "    \"Age\": [25, 30, 35]\n",
        "})\n",
        "\n",
        "# Initialize HuggingFaceHub LLM with a smaller model\n",
        "llm = HuggingFaceHub(repo_id=\"distilgpt2\")  # Smaller model\n",
        "\n",
        "# Creating an agent to interact with the DataFrame\n",
        "agent = create_pandas_dataframe_agent(llm, df, verbose=True, allow_dangerous_code=True)\n",
        "\n",
        "# Ask a question\n",
        "response = agent.run(\"How many rows are there?\")\n",
        "print(response)"
      ]
    },
    {
      "cell_type": "code",
      "execution_count": 6,
      "metadata": {
        "colab": {
          "base_uri": "https://localhost:8080/",
          "height": 347
        },
        "id": "LQ0ZtJsBxhIX",
        "outputId": "be890ef4-e078-47b9-abce-1d9ab78a24a7"
      },
      "outputs": [
        {
          "ename": "ValueError",
          "evalue": "`run` supported with either positional arguments or keyword arguments but not both. Got args: ('How many rows are there?',) and kwargs: {'max_new_tokens': 50}.",
          "output_type": "error",
          "traceback": [
            "\u001b[0;31m---------------------------------------------------------------------------\u001b[0m",
            "\u001b[0;31mValueError\u001b[0m                                Traceback (most recent call last)",
            "\u001b[0;32m<ipython-input-6-e3bb96bd47e8>\u001b[0m in \u001b[0;36m<cell line: 0>\u001b[0;34m()\u001b[0m\n\u001b[1;32m      1\u001b[0m \u001b[0;31m# Ask a question with token length limit\u001b[0m\u001b[0;34m\u001b[0m\u001b[0;34m\u001b[0m\u001b[0m\n\u001b[0;32m----> 2\u001b[0;31m \u001b[0mresponse\u001b[0m \u001b[0;34m=\u001b[0m \u001b[0magent\u001b[0m\u001b[0;34m.\u001b[0m\u001b[0mrun\u001b[0m\u001b[0;34m(\u001b[0m\u001b[0;34m\"How many rows are there?\"\u001b[0m\u001b[0;34m,\u001b[0m \u001b[0mmax_new_tokens\u001b[0m\u001b[0;34m=\u001b[0m\u001b[0;36m50\u001b[0m\u001b[0;34m)\u001b[0m  \u001b[0;31m# Limit output tokens\u001b[0m\u001b[0;34m\u001b[0m\u001b[0;34m\u001b[0m\u001b[0m\n\u001b[0m",
            "\u001b[0;32m/usr/local/lib/python3.11/dist-packages/langchain_core/_api/deprecation.py\u001b[0m in \u001b[0;36mwarning_emitting_wrapper\u001b[0;34m(*args, **kwargs)\u001b[0m\n\u001b[1;32m    179\u001b[0m                 \u001b[0mwarned\u001b[0m \u001b[0;34m=\u001b[0m \u001b[0;32mTrue\u001b[0m\u001b[0;34m\u001b[0m\u001b[0;34m\u001b[0m\u001b[0m\n\u001b[1;32m    180\u001b[0m                 \u001b[0memit_warning\u001b[0m\u001b[0;34m(\u001b[0m\u001b[0;34m)\u001b[0m\u001b[0;34m\u001b[0m\u001b[0;34m\u001b[0m\u001b[0m\n\u001b[0;32m--> 181\u001b[0;31m             \u001b[0;32mreturn\u001b[0m \u001b[0mwrapped\u001b[0m\u001b[0;34m(\u001b[0m\u001b[0;34m*\u001b[0m\u001b[0margs\u001b[0m\u001b[0;34m,\u001b[0m \u001b[0;34m**\u001b[0m\u001b[0mkwargs\u001b[0m\u001b[0;34m)\u001b[0m\u001b[0;34m\u001b[0m\u001b[0;34m\u001b[0m\u001b[0m\n\u001b[0m\u001b[1;32m    182\u001b[0m \u001b[0;34m\u001b[0m\u001b[0m\n\u001b[1;32m    183\u001b[0m         \u001b[0;32masync\u001b[0m \u001b[0;32mdef\u001b[0m \u001b[0mawarning_emitting_wrapper\u001b[0m\u001b[0;34m(\u001b[0m\u001b[0;34m*\u001b[0m\u001b[0margs\u001b[0m\u001b[0;34m:\u001b[0m \u001b[0mAny\u001b[0m\u001b[0;34m,\u001b[0m \u001b[0;34m**\u001b[0m\u001b[0mkwargs\u001b[0m\u001b[0;34m:\u001b[0m \u001b[0mAny\u001b[0m\u001b[0;34m)\u001b[0m \u001b[0;34m->\u001b[0m \u001b[0mAny\u001b[0m\u001b[0;34m:\u001b[0m\u001b[0;34m\u001b[0m\u001b[0;34m\u001b[0m\u001b[0m\n",
            "\u001b[0;32m/usr/local/lib/python3.11/dist-packages/langchain/chains/base.py\u001b[0m in \u001b[0;36mrun\u001b[0;34m(self, callbacks, tags, metadata, *args, **kwargs)\u001b[0m\n\u001b[1;32m    619\u001b[0m             )\n\u001b[1;32m    620\u001b[0m         \u001b[0;32melse\u001b[0m\u001b[0;34m:\u001b[0m\u001b[0;34m\u001b[0m\u001b[0;34m\u001b[0m\u001b[0m\n\u001b[0;32m--> 621\u001b[0;31m             raise ValueError(\n\u001b[0m\u001b[1;32m    622\u001b[0m                 \u001b[0;34mf\"`run` supported with either positional arguments or keyword arguments\"\u001b[0m\u001b[0;34m\u001b[0m\u001b[0;34m\u001b[0m\u001b[0m\n\u001b[1;32m    623\u001b[0m                 \u001b[0;34mf\" but not both. Got args: {args} and kwargs: {kwargs}.\"\u001b[0m\u001b[0;34m\u001b[0m\u001b[0;34m\u001b[0m\u001b[0m\n",
            "\u001b[0;31mValueError\u001b[0m: `run` supported with either positional arguments or keyword arguments but not both. Got args: ('How many rows are there?',) and kwargs: {'max_new_tokens': 50}."
          ]
        }
      ],
      "source": [
        "# Ask a question with token length limit\n",
        "response = agent.run(\"How many rows are there?\", max_new_tokens=50)  # Limit output tokens"
      ]
    },
    {
      "cell_type": "code",
      "execution_count": null,
      "metadata": {},
      "outputs": [],
      "source": [
        "agent.run(\"How many people have more than 23 age\")"
      ]
    },
    {
      "cell_type": "markdown",
      "metadata": {},
      "source": [
        "### ***06: Multi DataFrame Example***"
      ]
    },
    {
      "cell_type": "code",
      "execution_count": null,
      "metadata": {},
      "outputs": [],
      "source": [
        "#Agent can also interact with Multiple DataFrames passed in a list\n",
        "# Checking DataFrame information\n",
        "df.info()"
      ]
    },
    {
      "cell_type": "code",
      "execution_count": null,
      "metadata": {},
      "outputs": [],
      "source": [
        "# Creating a copy of the DataFrame\n",
        "df1 = df.copy()"
      ]
    },
    {
      "cell_type": "code",
      "execution_count": null,
      "metadata": {},
      "outputs": [],
      "source": [
        "# Filling missing values in the 'age' column\n",
        "df1[\"age\"] = df1[\"age\"].fillna(df1[\"age\"].mean())"
      ]
    },
    {
      "cell_type": "code",
      "execution_count": null,
      "metadata": {},
      "outputs": [],
      "source": [
        "# Creating an agent to handle multiple DataFrames\n",
        "agent = create_pandas_dataframe_agent(llm, [df, df1], verbose=True, allow_dangerous_code=True)"
      ]
    },
    {
      "cell_type": "code",
      "execution_count": null,
      "metadata": {},
      "outputs": [],
      "source": [
        "# Comparing DataFrames\n",
        "agent.run(\"How many rows in the age column are different\")"
      ]
    },
    {
      "cell_type": "code",
      "execution_count": null,
      "metadata": {},
      "outputs": [],
      "source": [
        "# Creating another DataFrame with additional calculated column\n",
        "df2 = df1.copy()\n",
        "df2[\"Age_Multiplied\"] = df1[\"age\"] * 2"
      ]
    },
    {
      "cell_type": "code",
      "execution_count": null,
      "metadata": {},
      "outputs": [],
      "source": [
        "# Displaying the updated DataFrame\n",
        "df2.head()"
      ]
    },
    {
      "cell_type": "code",
      "execution_count": null,
      "metadata": {},
      "outputs": [],
      "source": [
        "# Creating an agent to handle three DataFrames\n",
        "agent = create_pandas_dataframe_agent(llm, [df, df1, df2], verbose=True, allow_dangerous_code=True)"
      ]
    },
    {
      "cell_type": "code",
      "execution_count": null,
      "metadata": {},
      "outputs": [],
      "source": [
        "# Asking questions related to multiple DataFrames\n",
        "agent.run(\"Are the number of columns same in all the dataframe\")"
      ]
    },
    {
      "cell_type": "markdown",
      "metadata": {
        "id": "P4EWK7iuyDLC"
      },
      "source": [
        "### ***Using HuggingFace with oepn source LLM***"
      ]
    },
    {
      "cell_type": "code",
      "execution_count": 8,
      "metadata": {
        "id": "ydcbzwiLyoFo"
      },
      "outputs": [],
      "source": [
        "from langchain import PromptTemplate\n",
        "from langchain import HuggingFaceHub\n",
        "from langchain import LLMChain\n",
        "import os"
      ]
    },
    {
      "cell_type": "code",
      "execution_count": 9,
      "metadata": {
        "id": "3kJhn44vywmQ"
      },
      "outputs": [],
      "source": [
        "os.environ['HUGGINGFACEHUB_API_TOKEN'] = ''"
      ]
    },
    {
      "cell_type": "markdown",
      "metadata": {
        "id": "fwO1AUawy8ao"
      },
      "source": [
        "### ***Approach 1:  Access Models Hosted on Hugging Face Through API***"
      ]
    },
    {
      "cell_type": "markdown",
      "metadata": {
        "id": "MLGX4rsQy_b0"
      },
      "source": [
        "#**Text2Text Generation Models | Seq2Seq Models | Encoder-Decoder Models**"
      ]
    },
    {
      "cell_type": "code",
      "execution_count": 10,
      "metadata": {
        "id": "hHW5ly_dy4_V"
      },
      "outputs": [],
      "source": [
        "prompt = PromptTemplate(\n",
        "    input_variables=[\"product\"],\n",
        "    template=\"What is a good name for a company that makes {product}\"\n",
        ")"
      ]
    },
    {
      "cell_type": "code",
      "execution_count": 11,
      "metadata": {
        "id": "6TVB3hH2zD7J"
      },
      "outputs": [],
      "source": [
        "chain = LLMChain(llm=HuggingFaceHub(repo_id='google/flan-t5-large', model_kwargs={'temperature':0, 'max_length':64}),prompt = prompt)"
      ]
    },
    {
      "cell_type": "code",
      "execution_count": 12,
      "metadata": {
        "colab": {
          "base_uri": "https://localhost:8080/",
          "height": 35
        },
        "id": "akJYe4E7zH2T",
        "outputId": "daf1aa89-8e8d-471c-e4cd-0a8b374a488e"
      },
      "outputs": [
        {
          "data": {
            "application/vnd.google.colaboratory.intrinsic+json": {
              "type": "string"
            },
            "text/plain": [
              "'sock mania'"
            ]
          },
          "execution_count": 12,
          "metadata": {},
          "output_type": "execute_result"
        }
      ],
      "source": [
        "chain.run(\"colorful socks\")"
      ]
    },
    {
      "cell_type": "code",
      "execution_count": 13,
      "metadata": {
        "id": "M_kkhgyJzRqJ"
      },
      "outputs": [],
      "source": [
        "prompt = PromptTemplate(\n",
        "    input_variables=[\"name\"],\n",
        "    template=\"Can you tell me about famous footballer {name}\"\n",
        ")"
      ]
    },
    {
      "cell_type": "code",
      "execution_count": 14,
      "metadata": {
        "id": "N9PvEsqmzYB8"
      },
      "outputs": [],
      "source": [
        "chain = LLMChain(llm=HuggingFaceHub(repo_id='google/flan-t5-large', model_kwargs={'temperature':0, 'max_length':64}),prompt = prompt)"
      ]
    },
    {
      "cell_type": "code",
      "execution_count": 15,
      "metadata": {
        "colab": {
          "base_uri": "https://localhost:8080/",
          "height": 35
        },
        "id": "uBmmnTYUz5Tb",
        "outputId": "3f258390-e672-45ac-a777-410ee20286ba"
      },
      "outputs": [
        {
          "data": {
            "application/vnd.google.colaboratory.intrinsic+json": {
              "type": "string"
            },
            "text/plain": [
              "'Messi is a footballer who plays for Argentina.'"
            ]
          },
          "execution_count": 15,
          "metadata": {},
          "output_type": "execute_result"
        }
      ],
      "source": [
        "chain.run(\"Messi\")"
      ]
    },
    {
      "cell_type": "code",
      "execution_count": 16,
      "metadata": {
        "id": "PgYIsHoVz83M"
      },
      "outputs": [],
      "source": [
        "prompt = PromptTemplate(\n",
        "    input_variables=[\"cusine\"],\n",
        "    template=\"Can you tell me food items for a  {cusine} restuarant\"\n",
        ")"
      ]
    },
    {
      "cell_type": "code",
      "execution_count": 17,
      "metadata": {
        "id": "WNYmIIW80DI2"
      },
      "outputs": [],
      "source": [
        "chain = LLMChain(llm=HuggingFaceHub(repo_id='google/flan-t5-large', model_kwargs={'temperature':0, 'max_length':64}),prompt = prompt)"
      ]
    },
    {
      "cell_type": "code",
      "execution_count": 18,
      "metadata": {
        "colab": {
          "base_uri": "https://localhost:8080/",
          "height": 35
        },
        "id": "UWN-lKfw0GKr",
        "outputId": "4c5277a9-feab-4e90-c43d-845fd80ba89f"
      },
      "outputs": [
        {
          "data": {
            "application/vnd.google.colaboratory.intrinsic+json": {
              "type": "string"
            },
            "text/plain": [
              "'Vegetables'"
            ]
          },
          "execution_count": 18,
          "metadata": {},
          "output_type": "execute_result"
        }
      ],
      "source": [
        "chain.run(\"indian\")"
      ]
    },
    {
      "cell_type": "markdown",
      "metadata": {
        "id": "Aepmrs2c0M-V"
      },
      "source": [
        "#**Apprach 01: Text Generation Models | Decoder Only Models**"
      ]
    },
    {
      "cell_type": "code",
      "execution_count": 19,
      "metadata": {
        "id": "pDXlGJCv0OdJ"
      },
      "outputs": [],
      "source": [
        "prompt = PromptTemplate(\n",
        "    input_variables=[\"name\"],\n",
        "    template=\"Can you tell me about famous footballer {name}\"\n",
        ")"
      ]
    },
    {
      "cell_type": "code",
      "execution_count": 26,
      "metadata": {
        "id": "ZGv5J9Ce0Q17"
      },
      "outputs": [],
      "source": [
        "chain = LLMChain(llm=HuggingFaceHub(repo_id='google/flan-t5-large', model_kwargs={'temperature':0, 'max_length':64}),prompt = prompt)"
      ]
    },
    {
      "cell_type": "code",
      "execution_count": 24,
      "metadata": {
        "id": "bDd0i7o5098R"
      },
      "outputs": [],
      "source": [
        "chain = LLMChain(llm=HuggingFaceHub(repo_id='EleutherAI/gpt-neo-2.7B', model_kwargs={'temperature':0.1, 'max_length':64}), prompt=prompt)"
      ]
    },
    {
      "cell_type": "code",
      "execution_count": null,
      "metadata": {
        "id": "SAflxOtZ11Fi"
      },
      "outputs": [],
      "source": [
        "chain = LLMChain(llm=HuggingFaceHub(repo_id='tiiuae/falcon-7b', model_kwargs={'temperature':0.1, 'max_length':64}),prompt = prompt)"
      ]
    },
    {
      "cell_type": "code",
      "execution_count": 27,
      "metadata": {
        "colab": {
          "base_uri": "https://localhost:8080/",
          "height": 35
        },
        "id": "tbNR8Dlv0U-B",
        "outputId": "8c24b371-f5c9-4116-8330-ad4af7caeeda"
      },
      "outputs": [
        {
          "data": {
            "application/vnd.google.colaboratory.intrinsic+json": {
              "type": "string"
            },
            "text/plain": [
              "'Messi is a footballer who plays for Argentina.'"
            ]
          },
          "execution_count": 27,
          "metadata": {},
          "output_type": "execute_result"
        }
      ],
      "source": [
        "chain.run(\"Messi\")"
      ]
    },
    {
      "cell_type": "markdown",
      "metadata": {
        "id": "c0AdP4_z18ma"
      },
      "source": [
        "### ***Approach 02: Download Model Locally (Create Pipelines)***"
      ]
    },
    {
      "cell_type": "code",
      "execution_count": 43,
      "metadata": {
        "id": "e_eSQLxs193z"
      },
      "outputs": [],
      "source": [
        "from langchain.llms import HuggingFacePipeline\n",
        "import torch\n",
        "from transformers import AutoTokenizer\n",
        "from transformers import AutoModelForCausalLM\n",
        "from transformers import pipeline\n",
        "from transformers import AutoModelForSeq2SeqLM"
      ]
    },
    {
      "cell_type": "code",
      "execution_count": 44,
      "metadata": {
        "id": "nWsNDxCC2JX9"
      },
      "outputs": [],
      "source": [
        "model_id = 'google/flan-t5-large'"
      ]
    },
    {
      "cell_type": "code",
      "execution_count": 45,
      "metadata": {
        "id": "i-HAIpPo2N0Q"
      },
      "outputs": [],
      "source": [
        "tokenizer = AutoTokenizer.from_pretrained(model_id)"
      ]
    },
    {
      "cell_type": "code",
      "execution_count": 46,
      "metadata": {
        "colab": {
          "base_uri": "https://localhost:8080/"
        },
        "id": "XhmUEt-y2Q_S",
        "outputId": "23ce918f-1a8c-4fe9-f48d-309b01372151"
      },
      "outputs": [
        {
          "name": "stderr",
          "output_type": "stream",
          "text": [
            "The `load_in_4bit` and `load_in_8bit` arguments are deprecated and will be removed in the future versions. Please, pass a `BitsAndBytesConfig` object in `quantization_config` argument instead.\n"
          ]
        }
      ],
      "source": [
        "model = AutoModelForSeq2SeqLM.from_pretrained(model_id, load_in_8bit=True, device_map='auto')"
      ]
    },
    {
      "cell_type": "code",
      "execution_count": 47,
      "metadata": {
        "colab": {
          "base_uri": "https://localhost:8080/"
        },
        "id": "T2zew6uF2R1C",
        "outputId": "723033c7-ed3e-485a-f89e-ca52aa84af62"
      },
      "outputs": [
        {
          "name": "stderr",
          "output_type": "stream",
          "text": [
            "Device set to use cuda:0\n"
          ]
        }
      ],
      "source": [
        "pipeline = pipeline(\"text2text-generation\", model=model, tokenizer=tokenizer, max_length=128)"
      ]
    },
    {
      "cell_type": "code",
      "execution_count": 48,
      "metadata": {
        "id": "k5L9yzU62ZP-"
      },
      "outputs": [],
      "source": [
        "local_llm = HuggingFacePipeline(pipeline=pipeline)"
      ]
    },
    {
      "cell_type": "code",
      "execution_count": 49,
      "metadata": {
        "id": "ye8gNzDc2dLs"
      },
      "outputs": [],
      "source": [
        "prompt = PromptTemplate(\n",
        "    input_variables=[\"product\"],\n",
        "    template=\"What is a good name for a company that makes {product}\"\n",
        ")"
      ]
    },
    {
      "cell_type": "code",
      "execution_count": 50,
      "metadata": {
        "id": "_0NkQQ0p2d37"
      },
      "outputs": [],
      "source": [
        "chain = LLMChain(llm=local_llm,prompt = prompt)"
      ]
    },
    {
      "cell_type": "code",
      "execution_count": 51,
      "metadata": {
        "colab": {
          "base_uri": "https://localhost:8080/",
          "height": 35
        },
        "id": "pX3vmVMV2ibM",
        "outputId": "1029a4c8-cb5a-4cad-80ec-508191ccf39e"
      },
      "outputs": [
        {
          "data": {
            "application/vnd.google.colaboratory.intrinsic+json": {
              "type": "string"
            },
            "text/plain": [
              "'sock mania'"
            ]
          },
          "execution_count": 51,
          "metadata": {},
          "output_type": "execute_result"
        }
      ],
      "source": [
        "chain.run(\"colorful socks\")"
      ]
    },
    {
      "cell_type": "code",
      "execution_count": 52,
      "metadata": {
        "id": "BvhujUHu2lrD"
      },
      "outputs": [],
      "source": [
        "prompt = PromptTemplate(\n",
        "    input_variables=[\"name\"],\n",
        "    template=\"Can you tell me about famous footballer {name}\"\n",
        ")"
      ]
    },
    {
      "cell_type": "code",
      "execution_count": 53,
      "metadata": {
        "id": "gnu5UeSj2oB2"
      },
      "outputs": [],
      "source": [
        "chain = LLMChain(llm=local_llm,prompt = prompt)"
      ]
    },
    {
      "cell_type": "code",
      "execution_count": 54,
      "metadata": {
        "colab": {
          "base_uri": "https://localhost:8080/",
          "height": 35
        },
        "id": "bAgtleHd2p7F",
        "outputId": "086f832f-ecdf-4f9b-fff1-07d7af37f394"
      },
      "outputs": [
        {
          "data": {
            "application/vnd.google.colaboratory.intrinsic+json": {
              "type": "string"
            },
            "text/plain": [
              "'Messi is a footballer who plays for Argentina.'"
            ]
          },
          "execution_count": 54,
          "metadata": {},
          "output_type": "execute_result"
        }
      ],
      "source": [
        "chain.run(\"Messi\")"
      ]
    }
  ],
  "metadata": {
    "accelerator": "GPU",
    "colab": {
      "gpuType": "T4",
      "provenance": []
    },
    "kernelspec": {
      "display_name": "Python 3",
      "name": "python3"
    },
    "language_info": {
      "name": "python"
    }
  },
  "nbformat": 4,
  "nbformat_minor": 0
}
